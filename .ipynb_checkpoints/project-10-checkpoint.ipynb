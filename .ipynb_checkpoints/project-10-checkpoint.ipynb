{
 "cells": [
  {
   "cell_type": "markdown",
   "metadata": {
    "toc": true
   },
   "source": [
    "<h1>Содержание<span class=\"tocSkip\"></span></h1>\n",
    "<div class=\"toc\"><ul class=\"toc-item\"><li><span><a href=\"#Подготовка-данных\" data-toc-modified-id=\"Подготовка-данных-1\"><span class=\"toc-item-num\">1&nbsp;&nbsp;</span>Подготовка данных</a></span></li><li><span><a href=\"#Исследование-задачи\" data-toc-modified-id=\"Исследование-задачи-2\"><span class=\"toc-item-num\">2&nbsp;&nbsp;</span>Исследование задачи</a></span></li><li><span><a href=\"#Борьба-с-дисбалансом\" data-toc-modified-id=\"Борьба-с-дисбалансом-3\"><span class=\"toc-item-num\">3&nbsp;&nbsp;</span>Борьба с дисбалансом</a></span></li><li><span><a href=\"#Тестирование-модели\" data-toc-modified-id=\"Тестирование-модели-4\"><span class=\"toc-item-num\">4&nbsp;&nbsp;</span>Тестирование модели</a></span></li><li><span><a href=\"#Выводы\" data-toc-modified-id=\"Выводы-5\"><span class=\"toc-item-num\">5&nbsp;&nbsp;</span>Выводы</a></span></li><li><span><a href=\"#Чек-лист-готовности-проекта\" data-toc-modified-id=\"Чек-лист-готовности-проекта-6\"><span class=\"toc-item-num\">6&nbsp;&nbsp;</span>Чек-лист готовности проекта</a></span></li></ul></div>"
   ]
  },
  {
   "cell_type": "markdown",
   "metadata": {},
   "source": [
    "# Отток клиентов"
   ]
  },
  {
   "cell_type": "markdown",
   "metadata": {},
   "source": [
    "Из «Бета-Банка» стали уходить клиенты. Каждый месяц. Немного, но заметно. Банковские маркетологи посчитали: сохранять текущих клиентов дешевле, чем привлекать новых.\n",
    "\n",
    "Нужно спрогнозировать, уйдёт клиент из банка в ближайшее время или нет. Вам предоставлены исторические данные о поведении клиентов и расторжении договоров с банком. \n",
    "\n",
    "Постройте модель с предельно большим значением *F1*-меры. Чтобы сдать проект успешно, нужно довести метрику до 0.59. Проверьте *F1*-меру на тестовой выборке самостоятельно.\n",
    "\n",
    "Дополнительно измеряйте *AUC-ROC*, сравнивайте её значение с *F1*-мерой.\n",
    "\n",
    "Источник данных: [https://www.kaggle.com/barelydedicated/bank-customer-churn-modeling](https://www.kaggle.com/barelydedicated/bank-customer-churn-modeling)"
   ]
  },
  {
   "cell_type": "markdown",
   "metadata": {},
   "source": [
    "## Подготовка данных"
   ]
  },
  {
   "cell_type": "markdown",
   "metadata": {},
   "source": [
    "Загружаем библиотеки"
   ]
  },
  {
   "cell_type": "code",
   "execution_count": 59,
   "metadata": {},
   "outputs": [],
   "source": [
    "import pandas as pd\n",
    "import numpy as np\n",
    "import matplotlib.pyplot as plt\n",
    "from sklearn.model_selection import train_test_split\n",
    "from sklearn.preprocessing import StandardScaler \n",
    "from sklearn.tree import DecisionTreeClassifier\n",
    "from sklearn.ensemble import RandomForestClassifier\n",
    "from sklearn.linear_model import LogisticRegression\n",
    "from sklearn.utils import shuffle\n",
    "\n",
    "from sklearn.metrics import accuracy_score\n",
    "from sklearn.metrics import f1_score\n",
    "from sklearn.metrics import recall_score\n",
    "from sklearn.metrics import precision_score\n",
    "from sklearn.preprocessing import OrdinalEncoder\n",
    "from sklearn.metrics import roc_curve \n",
    "from sklearn.metrics import roc_auc_score\n"
   ]
  },
  {
   "cell_type": "markdown",
   "metadata": {},
   "source": [
    "Загружаем данные"
   ]
  },
  {
   "cell_type": "code",
   "execution_count": 60,
   "metadata": {},
   "outputs": [],
   "source": [
    "data = pd.read_csv('Churn.csv')"
   ]
  },
  {
   "cell_type": "code",
   "execution_count": 61,
   "metadata": {},
   "outputs": [
    {
     "data": {
      "text/html": [
       "<div>\n",
       "<style scoped>\n",
       "    .dataframe tbody tr th:only-of-type {\n",
       "        vertical-align: middle;\n",
       "    }\n",
       "\n",
       "    .dataframe tbody tr th {\n",
       "        vertical-align: top;\n",
       "    }\n",
       "\n",
       "    .dataframe thead th {\n",
       "        text-align: right;\n",
       "    }\n",
       "</style>\n",
       "<table border=\"1\" class=\"dataframe\">\n",
       "  <thead>\n",
       "    <tr style=\"text-align: right;\">\n",
       "      <th></th>\n",
       "      <th>RowNumber</th>\n",
       "      <th>CustomerId</th>\n",
       "      <th>Surname</th>\n",
       "      <th>CreditScore</th>\n",
       "      <th>Geography</th>\n",
       "      <th>Gender</th>\n",
       "      <th>Age</th>\n",
       "      <th>Tenure</th>\n",
       "      <th>Balance</th>\n",
       "      <th>NumOfProducts</th>\n",
       "      <th>HasCrCard</th>\n",
       "      <th>IsActiveMember</th>\n",
       "      <th>EstimatedSalary</th>\n",
       "      <th>Exited</th>\n",
       "    </tr>\n",
       "  </thead>\n",
       "  <tbody>\n",
       "    <tr>\n",
       "      <th>0</th>\n",
       "      <td>1</td>\n",
       "      <td>15634602</td>\n",
       "      <td>Hargrave</td>\n",
       "      <td>619</td>\n",
       "      <td>France</td>\n",
       "      <td>Female</td>\n",
       "      <td>42</td>\n",
       "      <td>2.0</td>\n",
       "      <td>0.00</td>\n",
       "      <td>1</td>\n",
       "      <td>1</td>\n",
       "      <td>1</td>\n",
       "      <td>101348.88</td>\n",
       "      <td>1</td>\n",
       "    </tr>\n",
       "    <tr>\n",
       "      <th>1</th>\n",
       "      <td>2</td>\n",
       "      <td>15647311</td>\n",
       "      <td>Hill</td>\n",
       "      <td>608</td>\n",
       "      <td>Spain</td>\n",
       "      <td>Female</td>\n",
       "      <td>41</td>\n",
       "      <td>1.0</td>\n",
       "      <td>83807.86</td>\n",
       "      <td>1</td>\n",
       "      <td>0</td>\n",
       "      <td>1</td>\n",
       "      <td>112542.58</td>\n",
       "      <td>0</td>\n",
       "    </tr>\n",
       "    <tr>\n",
       "      <th>2</th>\n",
       "      <td>3</td>\n",
       "      <td>15619304</td>\n",
       "      <td>Onio</td>\n",
       "      <td>502</td>\n",
       "      <td>France</td>\n",
       "      <td>Female</td>\n",
       "      <td>42</td>\n",
       "      <td>8.0</td>\n",
       "      <td>159660.80</td>\n",
       "      <td>3</td>\n",
       "      <td>1</td>\n",
       "      <td>0</td>\n",
       "      <td>113931.57</td>\n",
       "      <td>1</td>\n",
       "    </tr>\n",
       "    <tr>\n",
       "      <th>3</th>\n",
       "      <td>4</td>\n",
       "      <td>15701354</td>\n",
       "      <td>Boni</td>\n",
       "      <td>699</td>\n",
       "      <td>France</td>\n",
       "      <td>Female</td>\n",
       "      <td>39</td>\n",
       "      <td>1.0</td>\n",
       "      <td>0.00</td>\n",
       "      <td>2</td>\n",
       "      <td>0</td>\n",
       "      <td>0</td>\n",
       "      <td>93826.63</td>\n",
       "      <td>0</td>\n",
       "    </tr>\n",
       "    <tr>\n",
       "      <th>4</th>\n",
       "      <td>5</td>\n",
       "      <td>15737888</td>\n",
       "      <td>Mitchell</td>\n",
       "      <td>850</td>\n",
       "      <td>Spain</td>\n",
       "      <td>Female</td>\n",
       "      <td>43</td>\n",
       "      <td>2.0</td>\n",
       "      <td>125510.82</td>\n",
       "      <td>1</td>\n",
       "      <td>1</td>\n",
       "      <td>1</td>\n",
       "      <td>79084.10</td>\n",
       "      <td>0</td>\n",
       "    </tr>\n",
       "  </tbody>\n",
       "</table>\n",
       "</div>"
      ],
      "text/plain": [
       "   RowNumber  CustomerId   Surname  CreditScore Geography  Gender  Age  \\\n",
       "0          1    15634602  Hargrave          619    France  Female   42   \n",
       "1          2    15647311      Hill          608     Spain  Female   41   \n",
       "2          3    15619304      Onio          502    France  Female   42   \n",
       "3          4    15701354      Boni          699    France  Female   39   \n",
       "4          5    15737888  Mitchell          850     Spain  Female   43   \n",
       "\n",
       "   Tenure    Balance  NumOfProducts  HasCrCard  IsActiveMember  \\\n",
       "0     2.0       0.00              1          1               1   \n",
       "1     1.0   83807.86              1          0               1   \n",
       "2     8.0  159660.80              3          1               0   \n",
       "3     1.0       0.00              2          0               0   \n",
       "4     2.0  125510.82              1          1               1   \n",
       "\n",
       "   EstimatedSalary  Exited  \n",
       "0        101348.88       1  \n",
       "1        112542.58       0  \n",
       "2        113931.57       1  \n",
       "3         93826.63       0  \n",
       "4         79084.10       0  "
      ]
     },
     "execution_count": 61,
     "metadata": {},
     "output_type": "execute_result"
    }
   ],
   "source": [
    "data.head(5)"
   ]
  },
  {
   "cell_type": "code",
   "execution_count": 62,
   "metadata": {},
   "outputs": [
    {
     "data": {
      "text/plain": [
       "(10000, 14)"
      ]
     },
     "execution_count": 62,
     "metadata": {},
     "output_type": "execute_result"
    }
   ],
   "source": [
    "data.shape"
   ]
  },
  {
   "cell_type": "code",
   "execution_count": 63,
   "metadata": {},
   "outputs": [
    {
     "name": "stdout",
     "output_type": "stream",
     "text": [
      "<class 'pandas.core.frame.DataFrame'>\n",
      "RangeIndex: 10000 entries, 0 to 9999\n",
      "Data columns (total 14 columns):\n",
      " #   Column           Non-Null Count  Dtype  \n",
      "---  ------           --------------  -----  \n",
      " 0   RowNumber        10000 non-null  int64  \n",
      " 1   CustomerId       10000 non-null  int64  \n",
      " 2   Surname          10000 non-null  object \n",
      " 3   CreditScore      10000 non-null  int64  \n",
      " 4   Geography        10000 non-null  object \n",
      " 5   Gender           10000 non-null  object \n",
      " 6   Age              10000 non-null  int64  \n",
      " 7   Tenure           9091 non-null   float64\n",
      " 8   Balance          10000 non-null  float64\n",
      " 9   NumOfProducts    10000 non-null  int64  \n",
      " 10  HasCrCard        10000 non-null  int64  \n",
      " 11  IsActiveMember   10000 non-null  int64  \n",
      " 12  EstimatedSalary  10000 non-null  float64\n",
      " 13  Exited           10000 non-null  int64  \n",
      "dtypes: float64(3), int64(8), object(3)\n",
      "memory usage: 1.1+ MB\n"
     ]
    }
   ],
   "source": [
    "data.info()"
   ]
  },
  {
   "cell_type": "markdown",
   "metadata": {},
   "source": [
    "**Признаки** \n",
    "\n",
    "- RowNumber — индекс строки в данных\n",
    "- CustomerId — уникальный идентификатор клиента \n",
    "- Surname — фамилия \n",
    "- CreditScore — кредитный рейтинг \n",
    "- Geography — страна проживания \n",
    "- Gender — пол\n",
    "- Age — возраст\n",
    "- Tenure — сколько лет человек является клиентом банка\n",
    "- Balance — баланс на счёте\n",
    "- NumOfProducts — количество продуктов банка, используемых клиентом\n",
    "- HasCrCard — наличие кредитной карты\n",
    "- IsActiveMember — активность клиента\n",
    "- EstimatedSalary — предполагаемая зарплата\n",
    "\n",
    "**Целевой признак**\n",
    "- Exited — факт ухода клиента"
   ]
  },
  {
   "cell_type": "markdown",
   "metadata": {},
   "source": [
    "В наших данных есть один столбец с пропусками"
   ]
  },
  {
   "cell_type": "code",
   "execution_count": 64,
   "metadata": {},
   "outputs": [
    {
     "data": {
      "text/plain": [
       "0"
      ]
     },
     "execution_count": 64,
     "metadata": {},
     "output_type": "execute_result"
    }
   ],
   "source": [
    "data.duplicated().sum()"
   ]
  },
  {
   "cell_type": "code",
   "execution_count": 65,
   "metadata": {},
   "outputs": [
    {
     "data": {
      "text/html": [
       "<div>\n",
       "<style scoped>\n",
       "    .dataframe tbody tr th:only-of-type {\n",
       "        vertical-align: middle;\n",
       "    }\n",
       "\n",
       "    .dataframe tbody tr th {\n",
       "        vertical-align: top;\n",
       "    }\n",
       "\n",
       "    .dataframe thead th {\n",
       "        text-align: right;\n",
       "    }\n",
       "</style>\n",
       "<table border=\"1\" class=\"dataframe\">\n",
       "  <thead>\n",
       "    <tr style=\"text-align: right;\">\n",
       "      <th></th>\n",
       "      <th>RowNumber</th>\n",
       "      <th>CustomerId</th>\n",
       "      <th>CreditScore</th>\n",
       "      <th>Age</th>\n",
       "      <th>Tenure</th>\n",
       "      <th>Balance</th>\n",
       "      <th>NumOfProducts</th>\n",
       "      <th>HasCrCard</th>\n",
       "      <th>IsActiveMember</th>\n",
       "      <th>EstimatedSalary</th>\n",
       "      <th>Exited</th>\n",
       "    </tr>\n",
       "  </thead>\n",
       "  <tbody>\n",
       "    <tr>\n",
       "      <th>count</th>\n",
       "      <td>10000.00000</td>\n",
       "      <td>1.000000e+04</td>\n",
       "      <td>10000.000000</td>\n",
       "      <td>10000.000000</td>\n",
       "      <td>9091.000000</td>\n",
       "      <td>10000.000000</td>\n",
       "      <td>10000.000000</td>\n",
       "      <td>10000.00000</td>\n",
       "      <td>10000.000000</td>\n",
       "      <td>10000.000000</td>\n",
       "      <td>10000.000000</td>\n",
       "    </tr>\n",
       "    <tr>\n",
       "      <th>mean</th>\n",
       "      <td>5000.50000</td>\n",
       "      <td>1.569094e+07</td>\n",
       "      <td>650.528800</td>\n",
       "      <td>38.921800</td>\n",
       "      <td>4.997690</td>\n",
       "      <td>76485.889288</td>\n",
       "      <td>1.530200</td>\n",
       "      <td>0.70550</td>\n",
       "      <td>0.515100</td>\n",
       "      <td>100090.239881</td>\n",
       "      <td>0.203700</td>\n",
       "    </tr>\n",
       "    <tr>\n",
       "      <th>std</th>\n",
       "      <td>2886.89568</td>\n",
       "      <td>7.193619e+04</td>\n",
       "      <td>96.653299</td>\n",
       "      <td>10.487806</td>\n",
       "      <td>2.894723</td>\n",
       "      <td>62397.405202</td>\n",
       "      <td>0.581654</td>\n",
       "      <td>0.45584</td>\n",
       "      <td>0.499797</td>\n",
       "      <td>57510.492818</td>\n",
       "      <td>0.402769</td>\n",
       "    </tr>\n",
       "    <tr>\n",
       "      <th>min</th>\n",
       "      <td>1.00000</td>\n",
       "      <td>1.556570e+07</td>\n",
       "      <td>350.000000</td>\n",
       "      <td>18.000000</td>\n",
       "      <td>0.000000</td>\n",
       "      <td>0.000000</td>\n",
       "      <td>1.000000</td>\n",
       "      <td>0.00000</td>\n",
       "      <td>0.000000</td>\n",
       "      <td>11.580000</td>\n",
       "      <td>0.000000</td>\n",
       "    </tr>\n",
       "    <tr>\n",
       "      <th>25%</th>\n",
       "      <td>2500.75000</td>\n",
       "      <td>1.562853e+07</td>\n",
       "      <td>584.000000</td>\n",
       "      <td>32.000000</td>\n",
       "      <td>2.000000</td>\n",
       "      <td>0.000000</td>\n",
       "      <td>1.000000</td>\n",
       "      <td>0.00000</td>\n",
       "      <td>0.000000</td>\n",
       "      <td>51002.110000</td>\n",
       "      <td>0.000000</td>\n",
       "    </tr>\n",
       "    <tr>\n",
       "      <th>50%</th>\n",
       "      <td>5000.50000</td>\n",
       "      <td>1.569074e+07</td>\n",
       "      <td>652.000000</td>\n",
       "      <td>37.000000</td>\n",
       "      <td>5.000000</td>\n",
       "      <td>97198.540000</td>\n",
       "      <td>1.000000</td>\n",
       "      <td>1.00000</td>\n",
       "      <td>1.000000</td>\n",
       "      <td>100193.915000</td>\n",
       "      <td>0.000000</td>\n",
       "    </tr>\n",
       "    <tr>\n",
       "      <th>75%</th>\n",
       "      <td>7500.25000</td>\n",
       "      <td>1.575323e+07</td>\n",
       "      <td>718.000000</td>\n",
       "      <td>44.000000</td>\n",
       "      <td>7.000000</td>\n",
       "      <td>127644.240000</td>\n",
       "      <td>2.000000</td>\n",
       "      <td>1.00000</td>\n",
       "      <td>1.000000</td>\n",
       "      <td>149388.247500</td>\n",
       "      <td>0.000000</td>\n",
       "    </tr>\n",
       "    <tr>\n",
       "      <th>max</th>\n",
       "      <td>10000.00000</td>\n",
       "      <td>1.581569e+07</td>\n",
       "      <td>850.000000</td>\n",
       "      <td>92.000000</td>\n",
       "      <td>10.000000</td>\n",
       "      <td>250898.090000</td>\n",
       "      <td>4.000000</td>\n",
       "      <td>1.00000</td>\n",
       "      <td>1.000000</td>\n",
       "      <td>199992.480000</td>\n",
       "      <td>1.000000</td>\n",
       "    </tr>\n",
       "  </tbody>\n",
       "</table>\n",
       "</div>"
      ],
      "text/plain": [
       "         RowNumber    CustomerId   CreditScore           Age       Tenure  \\\n",
       "count  10000.00000  1.000000e+04  10000.000000  10000.000000  9091.000000   \n",
       "mean    5000.50000  1.569094e+07    650.528800     38.921800     4.997690   \n",
       "std     2886.89568  7.193619e+04     96.653299     10.487806     2.894723   \n",
       "min        1.00000  1.556570e+07    350.000000     18.000000     0.000000   \n",
       "25%     2500.75000  1.562853e+07    584.000000     32.000000     2.000000   \n",
       "50%     5000.50000  1.569074e+07    652.000000     37.000000     5.000000   \n",
       "75%     7500.25000  1.575323e+07    718.000000     44.000000     7.000000   \n",
       "max    10000.00000  1.581569e+07    850.000000     92.000000    10.000000   \n",
       "\n",
       "             Balance  NumOfProducts    HasCrCard  IsActiveMember  \\\n",
       "count   10000.000000   10000.000000  10000.00000    10000.000000   \n",
       "mean    76485.889288       1.530200      0.70550        0.515100   \n",
       "std     62397.405202       0.581654      0.45584        0.499797   \n",
       "min         0.000000       1.000000      0.00000        0.000000   \n",
       "25%         0.000000       1.000000      0.00000        0.000000   \n",
       "50%     97198.540000       1.000000      1.00000        1.000000   \n",
       "75%    127644.240000       2.000000      1.00000        1.000000   \n",
       "max    250898.090000       4.000000      1.00000        1.000000   \n",
       "\n",
       "       EstimatedSalary        Exited  \n",
       "count     10000.000000  10000.000000  \n",
       "mean     100090.239881      0.203700  \n",
       "std       57510.492818      0.402769  \n",
       "min          11.580000      0.000000  \n",
       "25%       51002.110000      0.000000  \n",
       "50%      100193.915000      0.000000  \n",
       "75%      149388.247500      0.000000  \n",
       "max      199992.480000      1.000000  "
      ]
     },
     "execution_count": 65,
     "metadata": {},
     "output_type": "execute_result"
    }
   ],
   "source": [
    "data.describe()"
   ]
  },
  {
   "cell_type": "code",
   "execution_count": 66,
   "metadata": {},
   "outputs": [
    {
     "data": {
      "text/html": [
       "<style type=\"text/css\">\n",
       "#T_d050e_row0_col0, #T_d050e_row1_col1, #T_d050e_row2_col2, #T_d050e_row3_col3, #T_d050e_row4_col4, #T_d050e_row5_col5, #T_d050e_row6_col6, #T_d050e_row7_col7, #T_d050e_row8_col8, #T_d050e_row9_col9, #T_d050e_row10_col10 {\n",
       "  background-color: #b40426;\n",
       "  color: #f1f1f1;\n",
       "}\n",
       "#T_d050e_row0_col1, #T_d050e_row0_col4, #T_d050e_row1_col9, #T_d050e_row2_col1, #T_d050e_row2_col3, #T_d050e_row4_col2, #T_d050e_row5_col4, #T_d050e_row5_col9, #T_d050e_row6_col9, #T_d050e_row9_col2 {\n",
       "  background-color: #4257c9;\n",
       "  color: #f1f1f1;\n",
       "}\n",
       "#T_d050e_row0_col2, #T_d050e_row1_col2, #T_d050e_row5_col2 {\n",
       "  background-color: #445acc;\n",
       "  color: #f1f1f1;\n",
       "}\n",
       "#T_d050e_row0_col3, #T_d050e_row2_col4, #T_d050e_row3_col1, #T_d050e_row8_col0 {\n",
       "  background-color: #4358cb;\n",
       "  color: #f1f1f1;\n",
       "}\n",
       "#T_d050e_row0_col5, #T_d050e_row1_col5, #T_d050e_row8_col5 {\n",
       "  background-color: #84a7fc;\n",
       "  color: #f1f1f1;\n",
       "}\n",
       "#T_d050e_row0_col6, #T_d050e_row8_col6 {\n",
       "  background-color: #89acfd;\n",
       "  color: #000000;\n",
       "}\n",
       "#T_d050e_row0_col7, #T_d050e_row10_col1, #T_d050e_row10_col4 {\n",
       "  background-color: #3e51c5;\n",
       "  color: #f1f1f1;\n",
       "}\n",
       "#T_d050e_row0_col8, #T_d050e_row9_col10 {\n",
       "  background-color: #688aef;\n",
       "  color: #f1f1f1;\n",
       "}\n",
       "#T_d050e_row0_col9, #T_d050e_row3_col9, #T_d050e_row5_col0, #T_d050e_row7_col1, #T_d050e_row9_col7, #T_d050e_row10_col7 {\n",
       "  background-color: #3c4ec2;\n",
       "  color: #f1f1f1;\n",
       "}\n",
       "#T_d050e_row0_col10, #T_d050e_row4_col10 {\n",
       "  background-color: #5f7fe8;\n",
       "  color: #f1f1f1;\n",
       "}\n",
       "#T_d050e_row1_col0, #T_d050e_row2_col0, #T_d050e_row3_col2, #T_d050e_row4_col9, #T_d050e_row6_col0, #T_d050e_row7_col2, #T_d050e_row8_col1, #T_d050e_row9_col3, #T_d050e_row10_col9 {\n",
       "  background-color: #4055c8;\n",
       "  color: #f1f1f1;\n",
       "}\n",
       "#T_d050e_row1_col3, #T_d050e_row6_col1, #T_d050e_row6_col2, #T_d050e_row9_col1 {\n",
       "  background-color: #455cce;\n",
       "  color: #f1f1f1;\n",
       "}\n",
       "#T_d050e_row1_col4, #T_d050e_row2_col7, #T_d050e_row2_col9, #T_d050e_row4_col0, #T_d050e_row5_col1, #T_d050e_row9_col0 {\n",
       "  background-color: #3d50c3;\n",
       "  color: #f1f1f1;\n",
       "}\n",
       "#T_d050e_row1_col6 {\n",
       "  background-color: #8caffe;\n",
       "  color: #000000;\n",
       "}\n",
       "#T_d050e_row1_col7, #T_d050e_row3_col7, #T_d050e_row4_col1, #T_d050e_row5_col6, #T_d050e_row5_col7, #T_d050e_row6_col3, #T_d050e_row6_col5, #T_d050e_row7_col9, #T_d050e_row8_col4, #T_d050e_row8_col7, #T_d050e_row8_col9, #T_d050e_row8_col10, #T_d050e_row10_col0, #T_d050e_row10_col2, #T_d050e_row10_col8 {\n",
       "  background-color: #3b4cc0;\n",
       "  color: #f1f1f1;\n",
       "}\n",
       "#T_d050e_row1_col8 {\n",
       "  background-color: #6485ec;\n",
       "  color: #f1f1f1;\n",
       "}\n",
       "#T_d050e_row1_col10 {\n",
       "  background-color: #6384eb;\n",
       "  color: #f1f1f1;\n",
       "}\n",
       "#T_d050e_row2_col5, #T_d050e_row5_col10, #T_d050e_row7_col6 {\n",
       "  background-color: #88abfd;\n",
       "  color: #000000;\n",
       "}\n",
       "#T_d050e_row2_col6, #T_d050e_row4_col6, #T_d050e_row9_col5, #T_d050e_row9_col6 {\n",
       "  background-color: #8badfd;\n",
       "  color: #000000;\n",
       "}\n",
       "#T_d050e_row2_col8 {\n",
       "  background-color: #6c8ff1;\n",
       "  color: #f1f1f1;\n",
       "}\n",
       "#T_d050e_row2_col10, #T_d050e_row8_col3 {\n",
       "  background-color: #5d7ce6;\n",
       "  color: #f1f1f1;\n",
       "}\n",
       "#T_d050e_row3_col0, #T_d050e_row3_col4, #T_d050e_row4_col3, #T_d050e_row6_col7, #T_d050e_row7_col0, #T_d050e_row7_col3 {\n",
       "  background-color: #3f53c6;\n",
       "  color: #f1f1f1;\n",
       "}\n",
       "#T_d050e_row3_col5 {\n",
       "  background-color: #8fb1fe;\n",
       "  color: #000000;\n",
       "}\n",
       "#T_d050e_row3_col6, #T_d050e_row3_col8 {\n",
       "  background-color: #7ea1fa;\n",
       "  color: #f1f1f1;\n",
       "}\n",
       "#T_d050e_row3_col10 {\n",
       "  background-color: #bad0f8;\n",
       "  color: #000000;\n",
       "}\n",
       "#T_d050e_row4_col5 {\n",
       "  background-color: #85a8fc;\n",
       "  color: #f1f1f1;\n",
       "}\n",
       "#T_d050e_row4_col7, #T_d050e_row6_col4, #T_d050e_row9_col4 {\n",
       "  background-color: #465ecf;\n",
       "  color: #f1f1f1;\n",
       "}\n",
       "#T_d050e_row4_col8 {\n",
       "  background-color: #5b7ae5;\n",
       "  color: #f1f1f1;\n",
       "}\n",
       "#T_d050e_row5_col3, #T_d050e_row7_col4 {\n",
       "  background-color: #4b64d5;\n",
       "  color: #f1f1f1;\n",
       "}\n",
       "#T_d050e_row5_col8, #T_d050e_row7_col10, #T_d050e_row9_col8 {\n",
       "  background-color: #6282ea;\n",
       "  color: #f1f1f1;\n",
       "}\n",
       "#T_d050e_row6_col8 {\n",
       "  background-color: #6788ee;\n",
       "  color: #f1f1f1;\n",
       "}\n",
       "#T_d050e_row6_col10 {\n",
       "  background-color: #5673e0;\n",
       "  color: #f1f1f1;\n",
       "}\n",
       "#T_d050e_row7_col5 {\n",
       "  background-color: #82a6fb;\n",
       "  color: #f1f1f1;\n",
       "}\n",
       "#T_d050e_row7_col8 {\n",
       "  background-color: #6180e9;\n",
       "  color: #f1f1f1;\n",
       "}\n",
       "#T_d050e_row8_col2 {\n",
       "  background-color: #4a63d3;\n",
       "  color: #f1f1f1;\n",
       "}\n",
       "#T_d050e_row10_col3 {\n",
       "  background-color: #a1c0ff;\n",
       "  color: #000000;\n",
       "}\n",
       "#T_d050e_row10_col5 {\n",
       "  background-color: #a6c4fe;\n",
       "  color: #000000;\n",
       "}\n",
       "#T_d050e_row10_col6 {\n",
       "  background-color: #7a9df8;\n",
       "  color: #f1f1f1;\n",
       "}\n",
       "</style>\n",
       "<table id=\"T_d050e_\">\n",
       "  <thead>\n",
       "    <tr>\n",
       "      <th class=\"blank level0\" >&nbsp;</th>\n",
       "      <th class=\"col_heading level0 col0\" >RowNumber</th>\n",
       "      <th class=\"col_heading level0 col1\" >CustomerId</th>\n",
       "      <th class=\"col_heading level0 col2\" >CreditScore</th>\n",
       "      <th class=\"col_heading level0 col3\" >Age</th>\n",
       "      <th class=\"col_heading level0 col4\" >Tenure</th>\n",
       "      <th class=\"col_heading level0 col5\" >Balance</th>\n",
       "      <th class=\"col_heading level0 col6\" >NumOfProducts</th>\n",
       "      <th class=\"col_heading level0 col7\" >HasCrCard</th>\n",
       "      <th class=\"col_heading level0 col8\" >IsActiveMember</th>\n",
       "      <th class=\"col_heading level0 col9\" >EstimatedSalary</th>\n",
       "      <th class=\"col_heading level0 col10\" >Exited</th>\n",
       "    </tr>\n",
       "  </thead>\n",
       "  <tbody>\n",
       "    <tr>\n",
       "      <th id=\"T_d050e_level0_row0\" class=\"row_heading level0 row0\" >RowNumber</th>\n",
       "      <td id=\"T_d050e_row0_col0\" class=\"data row0 col0\" >1.000000</td>\n",
       "      <td id=\"T_d050e_row0_col1\" class=\"data row0 col1\" >0.004202</td>\n",
       "      <td id=\"T_d050e_row0_col2\" class=\"data row0 col2\" >0.005840</td>\n",
       "      <td id=\"T_d050e_row0_col3\" class=\"data row0 col3\" >0.000783</td>\n",
       "      <td id=\"T_d050e_row0_col4\" class=\"data row0 col4\" >-0.007322</td>\n",
       "      <td id=\"T_d050e_row0_col5\" class=\"data row0 col5\" >-0.009067</td>\n",
       "      <td id=\"T_d050e_row0_col6\" class=\"data row0 col6\" >0.007246</td>\n",
       "      <td id=\"T_d050e_row0_col7\" class=\"data row0 col7\" >0.000599</td>\n",
       "      <td id=\"T_d050e_row0_col8\" class=\"data row0 col8\" >0.012044</td>\n",
       "      <td id=\"T_d050e_row0_col9\" class=\"data row0 col9\" >-0.005988</td>\n",
       "      <td id=\"T_d050e_row0_col10\" class=\"data row0 col10\" >-0.016571</td>\n",
       "    </tr>\n",
       "    <tr>\n",
       "      <th id=\"T_d050e_level0_row1\" class=\"row_heading level0 row1\" >CustomerId</th>\n",
       "      <td id=\"T_d050e_row1_col0\" class=\"data row1 col0\" >0.004202</td>\n",
       "      <td id=\"T_d050e_row1_col1\" class=\"data row1 col1\" >1.000000</td>\n",
       "      <td id=\"T_d050e_row1_col2\" class=\"data row1 col2\" >0.005308</td>\n",
       "      <td id=\"T_d050e_row1_col3\" class=\"data row1 col3\" >0.009497</td>\n",
       "      <td id=\"T_d050e_row1_col4\" class=\"data row1 col4\" >-0.021418</td>\n",
       "      <td id=\"T_d050e_row1_col5\" class=\"data row1 col5\" >-0.012419</td>\n",
       "      <td id=\"T_d050e_row1_col6\" class=\"data row1 col6\" >0.016972</td>\n",
       "      <td id=\"T_d050e_row1_col7\" class=\"data row1 col7\" >-0.014025</td>\n",
       "      <td id=\"T_d050e_row1_col8\" class=\"data row1 col8\" >0.001665</td>\n",
       "      <td id=\"T_d050e_row1_col9\" class=\"data row1 col9\" >0.015271</td>\n",
       "      <td id=\"T_d050e_row1_col10\" class=\"data row1 col10\" >-0.006248</td>\n",
       "    </tr>\n",
       "    <tr>\n",
       "      <th id=\"T_d050e_level0_row2\" class=\"row_heading level0 row2\" >CreditScore</th>\n",
       "      <td id=\"T_d050e_row2_col0\" class=\"data row2 col0\" >0.005840</td>\n",
       "      <td id=\"T_d050e_row2_col1\" class=\"data row2 col1\" >0.005308</td>\n",
       "      <td id=\"T_d050e_row2_col2\" class=\"data row2 col2\" >1.000000</td>\n",
       "      <td id=\"T_d050e_row2_col3\" class=\"data row2 col3\" >-0.003965</td>\n",
       "      <td id=\"T_d050e_row2_col4\" class=\"data row2 col4\" >-0.000062</td>\n",
       "      <td id=\"T_d050e_row2_col5\" class=\"data row2 col5\" >0.006268</td>\n",
       "      <td id=\"T_d050e_row2_col6\" class=\"data row2 col6\" >0.012238</td>\n",
       "      <td id=\"T_d050e_row2_col7\" class=\"data row2 col7\" >-0.005458</td>\n",
       "      <td id=\"T_d050e_row2_col8\" class=\"data row2 col8\" >0.025651</td>\n",
       "      <td id=\"T_d050e_row2_col9\" class=\"data row2 col9\" >-0.001384</td>\n",
       "      <td id=\"T_d050e_row2_col10\" class=\"data row2 col10\" >-0.027094</td>\n",
       "    </tr>\n",
       "    <tr>\n",
       "      <th id=\"T_d050e_level0_row3\" class=\"row_heading level0 row3\" >Age</th>\n",
       "      <td id=\"T_d050e_row3_col0\" class=\"data row3 col0\" >0.000783</td>\n",
       "      <td id=\"T_d050e_row3_col1\" class=\"data row3 col1\" >0.009497</td>\n",
       "      <td id=\"T_d050e_row3_col2\" class=\"data row3 col2\" >-0.003965</td>\n",
       "      <td id=\"T_d050e_row3_col3\" class=\"data row3 col3\" >1.000000</td>\n",
       "      <td id=\"T_d050e_row3_col4\" class=\"data row3 col4\" >-0.013134</td>\n",
       "      <td id=\"T_d050e_row3_col5\" class=\"data row3 col5\" >0.028308</td>\n",
       "      <td id=\"T_d050e_row3_col6\" class=\"data row3 col6\" >-0.030680</td>\n",
       "      <td id=\"T_d050e_row3_col7\" class=\"data row3 col7\" >-0.011721</td>\n",
       "      <td id=\"T_d050e_row3_col8\" class=\"data row3 col8\" >0.085472</td>\n",
       "      <td id=\"T_d050e_row3_col9\" class=\"data row3 col9\" >-0.007201</td>\n",
       "      <td id=\"T_d050e_row3_col10\" class=\"data row3 col10\" >0.285323</td>\n",
       "    </tr>\n",
       "    <tr>\n",
       "      <th id=\"T_d050e_level0_row4\" class=\"row_heading level0 row4\" >Tenure</th>\n",
       "      <td id=\"T_d050e_row4_col0\" class=\"data row4 col0\" >-0.007322</td>\n",
       "      <td id=\"T_d050e_row4_col1\" class=\"data row4 col1\" >-0.021418</td>\n",
       "      <td id=\"T_d050e_row4_col2\" class=\"data row4 col2\" >-0.000062</td>\n",
       "      <td id=\"T_d050e_row4_col3\" class=\"data row4 col3\" >-0.013134</td>\n",
       "      <td id=\"T_d050e_row4_col4\" class=\"data row4 col4\" >1.000000</td>\n",
       "      <td id=\"T_d050e_row4_col5\" class=\"data row4 col5\" >-0.007911</td>\n",
       "      <td id=\"T_d050e_row4_col6\" class=\"data row4 col6\" >0.011979</td>\n",
       "      <td id=\"T_d050e_row4_col7\" class=\"data row4 col7\" >0.027232</td>\n",
       "      <td id=\"T_d050e_row4_col8\" class=\"data row4 col8\" >-0.032178</td>\n",
       "      <td id=\"T_d050e_row4_col9\" class=\"data row4 col9\" >0.010520</td>\n",
       "      <td id=\"T_d050e_row4_col10\" class=\"data row4 col10\" >-0.016761</td>\n",
       "    </tr>\n",
       "    <tr>\n",
       "      <th id=\"T_d050e_level0_row5\" class=\"row_heading level0 row5\" >Balance</th>\n",
       "      <td id=\"T_d050e_row5_col0\" class=\"data row5 col0\" >-0.009067</td>\n",
       "      <td id=\"T_d050e_row5_col1\" class=\"data row5 col1\" >-0.012419</td>\n",
       "      <td id=\"T_d050e_row5_col2\" class=\"data row5 col2\" >0.006268</td>\n",
       "      <td id=\"T_d050e_row5_col3\" class=\"data row5 col3\" >0.028308</td>\n",
       "      <td id=\"T_d050e_row5_col4\" class=\"data row5 col4\" >-0.007911</td>\n",
       "      <td id=\"T_d050e_row5_col5\" class=\"data row5 col5\" >1.000000</td>\n",
       "      <td id=\"T_d050e_row5_col6\" class=\"data row5 col6\" >-0.304180</td>\n",
       "      <td id=\"T_d050e_row5_col7\" class=\"data row5 col7\" >-0.014858</td>\n",
       "      <td id=\"T_d050e_row5_col8\" class=\"data row5 col8\" >-0.010084</td>\n",
       "      <td id=\"T_d050e_row5_col9\" class=\"data row5 col9\" >0.012797</td>\n",
       "      <td id=\"T_d050e_row5_col10\" class=\"data row5 col10\" >0.118533</td>\n",
       "    </tr>\n",
       "    <tr>\n",
       "      <th id=\"T_d050e_level0_row6\" class=\"row_heading level0 row6\" >NumOfProducts</th>\n",
       "      <td id=\"T_d050e_row6_col0\" class=\"data row6 col0\" >0.007246</td>\n",
       "      <td id=\"T_d050e_row6_col1\" class=\"data row6 col1\" >0.016972</td>\n",
       "      <td id=\"T_d050e_row6_col2\" class=\"data row6 col2\" >0.012238</td>\n",
       "      <td id=\"T_d050e_row6_col3\" class=\"data row6 col3\" >-0.030680</td>\n",
       "      <td id=\"T_d050e_row6_col4\" class=\"data row6 col4\" >0.011979</td>\n",
       "      <td id=\"T_d050e_row6_col5\" class=\"data row6 col5\" >-0.304180</td>\n",
       "      <td id=\"T_d050e_row6_col6\" class=\"data row6 col6\" >1.000000</td>\n",
       "      <td id=\"T_d050e_row6_col7\" class=\"data row6 col7\" >0.003183</td>\n",
       "      <td id=\"T_d050e_row6_col8\" class=\"data row6 col8\" >0.009612</td>\n",
       "      <td id=\"T_d050e_row6_col9\" class=\"data row6 col9\" >0.014204</td>\n",
       "      <td id=\"T_d050e_row6_col10\" class=\"data row6 col10\" >-0.047820</td>\n",
       "    </tr>\n",
       "    <tr>\n",
       "      <th id=\"T_d050e_level0_row7\" class=\"row_heading level0 row7\" >HasCrCard</th>\n",
       "      <td id=\"T_d050e_row7_col0\" class=\"data row7 col0\" >0.000599</td>\n",
       "      <td id=\"T_d050e_row7_col1\" class=\"data row7 col1\" >-0.014025</td>\n",
       "      <td id=\"T_d050e_row7_col2\" class=\"data row7 col2\" >-0.005458</td>\n",
       "      <td id=\"T_d050e_row7_col3\" class=\"data row7 col3\" >-0.011721</td>\n",
       "      <td id=\"T_d050e_row7_col4\" class=\"data row7 col4\" >0.027232</td>\n",
       "      <td id=\"T_d050e_row7_col5\" class=\"data row7 col5\" >-0.014858</td>\n",
       "      <td id=\"T_d050e_row7_col6\" class=\"data row7 col6\" >0.003183</td>\n",
       "      <td id=\"T_d050e_row7_col7\" class=\"data row7 col7\" >1.000000</td>\n",
       "      <td id=\"T_d050e_row7_col8\" class=\"data row7 col8\" >-0.011866</td>\n",
       "      <td id=\"T_d050e_row7_col9\" class=\"data row7 col9\" >-0.009933</td>\n",
       "      <td id=\"T_d050e_row7_col10\" class=\"data row7 col10\" >-0.007138</td>\n",
       "    </tr>\n",
       "    <tr>\n",
       "      <th id=\"T_d050e_level0_row8\" class=\"row_heading level0 row8\" >IsActiveMember</th>\n",
       "      <td id=\"T_d050e_row8_col0\" class=\"data row8 col0\" >0.012044</td>\n",
       "      <td id=\"T_d050e_row8_col1\" class=\"data row8 col1\" >0.001665</td>\n",
       "      <td id=\"T_d050e_row8_col2\" class=\"data row8 col2\" >0.025651</td>\n",
       "      <td id=\"T_d050e_row8_col3\" class=\"data row8 col3\" >0.085472</td>\n",
       "      <td id=\"T_d050e_row8_col4\" class=\"data row8 col4\" >-0.032178</td>\n",
       "      <td id=\"T_d050e_row8_col5\" class=\"data row8 col5\" >-0.010084</td>\n",
       "      <td id=\"T_d050e_row8_col6\" class=\"data row8 col6\" >0.009612</td>\n",
       "      <td id=\"T_d050e_row8_col7\" class=\"data row8 col7\" >-0.011866</td>\n",
       "      <td id=\"T_d050e_row8_col8\" class=\"data row8 col8\" >1.000000</td>\n",
       "      <td id=\"T_d050e_row8_col9\" class=\"data row8 col9\" >-0.011421</td>\n",
       "      <td id=\"T_d050e_row8_col10\" class=\"data row8 col10\" >-0.156128</td>\n",
       "    </tr>\n",
       "    <tr>\n",
       "      <th id=\"T_d050e_level0_row9\" class=\"row_heading level0 row9\" >EstimatedSalary</th>\n",
       "      <td id=\"T_d050e_row9_col0\" class=\"data row9 col0\" >-0.005988</td>\n",
       "      <td id=\"T_d050e_row9_col1\" class=\"data row9 col1\" >0.015271</td>\n",
       "      <td id=\"T_d050e_row9_col2\" class=\"data row9 col2\" >-0.001384</td>\n",
       "      <td id=\"T_d050e_row9_col3\" class=\"data row9 col3\" >-0.007201</td>\n",
       "      <td id=\"T_d050e_row9_col4\" class=\"data row9 col4\" >0.010520</td>\n",
       "      <td id=\"T_d050e_row9_col5\" class=\"data row9 col5\" >0.012797</td>\n",
       "      <td id=\"T_d050e_row9_col6\" class=\"data row9 col6\" >0.014204</td>\n",
       "      <td id=\"T_d050e_row9_col7\" class=\"data row9 col7\" >-0.009933</td>\n",
       "      <td id=\"T_d050e_row9_col8\" class=\"data row9 col8\" >-0.011421</td>\n",
       "      <td id=\"T_d050e_row9_col9\" class=\"data row9 col9\" >1.000000</td>\n",
       "      <td id=\"T_d050e_row9_col10\" class=\"data row9 col10\" >0.012097</td>\n",
       "    </tr>\n",
       "    <tr>\n",
       "      <th id=\"T_d050e_level0_row10\" class=\"row_heading level0 row10\" >Exited</th>\n",
       "      <td id=\"T_d050e_row10_col0\" class=\"data row10 col0\" >-0.016571</td>\n",
       "      <td id=\"T_d050e_row10_col1\" class=\"data row10 col1\" >-0.006248</td>\n",
       "      <td id=\"T_d050e_row10_col2\" class=\"data row10 col2\" >-0.027094</td>\n",
       "      <td id=\"T_d050e_row10_col3\" class=\"data row10 col3\" >0.285323</td>\n",
       "      <td id=\"T_d050e_row10_col4\" class=\"data row10 col4\" >-0.016761</td>\n",
       "      <td id=\"T_d050e_row10_col5\" class=\"data row10 col5\" >0.118533</td>\n",
       "      <td id=\"T_d050e_row10_col6\" class=\"data row10 col6\" >-0.047820</td>\n",
       "      <td id=\"T_d050e_row10_col7\" class=\"data row10 col7\" >-0.007138</td>\n",
       "      <td id=\"T_d050e_row10_col8\" class=\"data row10 col8\" >-0.156128</td>\n",
       "      <td id=\"T_d050e_row10_col9\" class=\"data row10 col9\" >0.012097</td>\n",
       "      <td id=\"T_d050e_row10_col10\" class=\"data row10 col10\" >1.000000</td>\n",
       "    </tr>\n",
       "  </tbody>\n",
       "</table>\n"
      ],
      "text/plain": [
       "<pandas.io.formats.style.Styler at 0x1ddb17c5880>"
      ]
     },
     "execution_count": 66,
     "metadata": {},
     "output_type": "execute_result"
    }
   ],
   "source": [
    "corr = data.corr()\n",
    "corr.style.background_gradient(cmap='coolwarm')"
   ]
  },
  {
   "cell_type": "code",
   "execution_count": 67,
   "metadata": {},
   "outputs": [],
   "source": [
    "data['Tenure'] = data['Tenure'].fillna(0)"
   ]
  },
  {
   "cell_type": "code",
   "execution_count": 68,
   "metadata": {},
   "outputs": [
    {
     "name": "stdout",
     "output_type": "stream",
     "text": [
      "<class 'pandas.core.frame.DataFrame'>\n",
      "RangeIndex: 10000 entries, 0 to 9999\n",
      "Data columns (total 14 columns):\n",
      " #   Column           Non-Null Count  Dtype  \n",
      "---  ------           --------------  -----  \n",
      " 0   RowNumber        10000 non-null  int64  \n",
      " 1   CustomerId       10000 non-null  int64  \n",
      " 2   Surname          10000 non-null  object \n",
      " 3   CreditScore      10000 non-null  int64  \n",
      " 4   Geography        10000 non-null  object \n",
      " 5   Gender           10000 non-null  object \n",
      " 6   Age              10000 non-null  int64  \n",
      " 7   Tenure           10000 non-null  float64\n",
      " 8   Balance          10000 non-null  float64\n",
      " 9   NumOfProducts    10000 non-null  int64  \n",
      " 10  HasCrCard        10000 non-null  int64  \n",
      " 11  IsActiveMember   10000 non-null  int64  \n",
      " 12  EstimatedSalary  10000 non-null  float64\n",
      " 13  Exited           10000 non-null  int64  \n",
      "dtypes: float64(3), int64(8), object(3)\n",
      "memory usage: 1.1+ MB\n"
     ]
    }
   ],
   "source": [
    "#data.dropna(subset=['Tenure'], inplace=True)\n",
    "data.info()"
   ]
  },
  {
   "cell_type": "code",
   "execution_count": 69,
   "metadata": {},
   "outputs": [
    {
     "data": {
      "text/plain": [
       "RowNumber          0\n",
       "CustomerId         0\n",
       "Surname            0\n",
       "CreditScore        0\n",
       "Geography          0\n",
       "Gender             0\n",
       "Age                0\n",
       "Tenure             0\n",
       "Balance            0\n",
       "NumOfProducts      0\n",
       "HasCrCard          0\n",
       "IsActiveMember     0\n",
       "EstimatedSalary    0\n",
       "Exited             0\n",
       "dtype: int64"
      ]
     },
     "execution_count": 69,
     "metadata": {},
     "output_type": "execute_result"
    }
   ],
   "source": [
    "data.isna().sum()"
   ]
  },
  {
   "cell_type": "code",
   "execution_count": 70,
   "metadata": {},
   "outputs": [
    {
     "data": {
      "image/png": "[encoded data removed]",
      "text/plain": [
       "<Figure size 1440x1440 with 12 Axes>"
      ]
     },
     "metadata": {
      "needs_background": "light"
     },
     "output_type": "display_data"
    }
   ],
   "source": [
    "data.hist(figsize=(20, 20))\n",
    "plt.show()"
   ]
  },
  {
   "cell_type": "markdown",
   "metadata": {},
   "source": [
    "## Исследование задачи"
   ]
  },
  {
   "cell_type": "markdown",
   "metadata": {},
   "source": [
    "Удалим столбцы не представляющие ценность для машинного обучения."
   ]
  },
  {
   "cell_type": "code",
   "execution_count": 71,
   "metadata": {},
   "outputs": [],
   "source": [
    "df_drop = ['RowNumber', 'CustomerId', 'Surname']\n",
    "df = data.drop(df_drop, axis = 1)"
   ]
  },
  {
   "cell_type": "code",
   "execution_count": 72,
   "metadata": {},
   "outputs": [
    {
     "data": {
      "text/html": [
       "<div>\n",
       "<style scoped>\n",
       "    .dataframe tbody tr th:only-of-type {\n",
       "        vertical-align: middle;\n",
       "    }\n",
       "\n",
       "    .dataframe tbody tr th {\n",
       "        vertical-align: top;\n",
       "    }\n",
       "\n",
       "    .dataframe thead th {\n",
       "        text-align: right;\n",
       "    }\n",
       "</style>\n",
       "<table border=\"1\" class=\"dataframe\">\n",
       "  <thead>\n",
       "    <tr style=\"text-align: right;\">\n",
       "      <th></th>\n",
       "      <th>CreditScore</th>\n",
       "      <th>Geography</th>\n",
       "      <th>Gender</th>\n",
       "      <th>Age</th>\n",
       "      <th>Tenure</th>\n",
       "      <th>Balance</th>\n",
       "      <th>NumOfProducts</th>\n",
       "      <th>HasCrCard</th>\n",
       "      <th>IsActiveMember</th>\n",
       "      <th>EstimatedSalary</th>\n",
       "      <th>Exited</th>\n",
       "    </tr>\n",
       "  </thead>\n",
       "  <tbody>\n",
       "    <tr>\n",
       "      <th>0</th>\n",
       "      <td>619</td>\n",
       "      <td>France</td>\n",
       "      <td>Female</td>\n",
       "      <td>42</td>\n",
       "      <td>2.0</td>\n",
       "      <td>0.00</td>\n",
       "      <td>1</td>\n",
       "      <td>1</td>\n",
       "      <td>1</td>\n",
       "      <td>101348.88</td>\n",
       "      <td>1</td>\n",
       "    </tr>\n",
       "    <tr>\n",
       "      <th>1</th>\n",
       "      <td>608</td>\n",
       "      <td>Spain</td>\n",
       "      <td>Female</td>\n",
       "      <td>41</td>\n",
       "      <td>1.0</td>\n",
       "      <td>83807.86</td>\n",
       "      <td>1</td>\n",
       "      <td>0</td>\n",
       "      <td>1</td>\n",
       "      <td>112542.58</td>\n",
       "      <td>0</td>\n",
       "    </tr>\n",
       "    <tr>\n",
       "      <th>2</th>\n",
       "      <td>502</td>\n",
       "      <td>France</td>\n",
       "      <td>Female</td>\n",
       "      <td>42</td>\n",
       "      <td>8.0</td>\n",
       "      <td>159660.80</td>\n",
       "      <td>3</td>\n",
       "      <td>1</td>\n",
       "      <td>0</td>\n",
       "      <td>113931.57</td>\n",
       "      <td>1</td>\n",
       "    </tr>\n",
       "    <tr>\n",
       "      <th>3</th>\n",
       "      <td>699</td>\n",
       "      <td>France</td>\n",
       "      <td>Female</td>\n",
       "      <td>39</td>\n",
       "      <td>1.0</td>\n",
       "      <td>0.00</td>\n",
       "      <td>2</td>\n",
       "      <td>0</td>\n",
       "      <td>0</td>\n",
       "      <td>93826.63</td>\n",
       "      <td>0</td>\n",
       "    </tr>\n",
       "    <tr>\n",
       "      <th>4</th>\n",
       "      <td>850</td>\n",
       "      <td>Spain</td>\n",
       "      <td>Female</td>\n",
       "      <td>43</td>\n",
       "      <td>2.0</td>\n",
       "      <td>125510.82</td>\n",
       "      <td>1</td>\n",
       "      <td>1</td>\n",
       "      <td>1</td>\n",
       "      <td>79084.10</td>\n",
       "      <td>0</td>\n",
       "    </tr>\n",
       "  </tbody>\n",
       "</table>\n",
       "</div>"
      ],
      "text/plain": [
       "   CreditScore Geography  Gender  Age  Tenure    Balance  NumOfProducts  \\\n",
       "0          619    France  Female   42     2.0       0.00              1   \n",
       "1          608     Spain  Female   41     1.0   83807.86              1   \n",
       "2          502    France  Female   42     8.0  159660.80              3   \n",
       "3          699    France  Female   39     1.0       0.00              2   \n",
       "4          850     Spain  Female   43     2.0  125510.82              1   \n",
       "\n",
       "   HasCrCard  IsActiveMember  EstimatedSalary  Exited  \n",
       "0          1               1        101348.88       1  \n",
       "1          0               1        112542.58       0  \n",
       "2          1               0        113931.57       1  \n",
       "3          0               0         93826.63       0  \n",
       "4          1               1         79084.10       0  "
      ]
     },
     "execution_count": 72,
     "metadata": {},
     "output_type": "execute_result"
    }
   ],
   "source": [
    "df.head(5)"
   ]
  },
  {
   "cell_type": "code",
   "execution_count": 73,
   "metadata": {},
   "outputs": [
    {
     "data": {
      "text/plain": [
       "array(['France', 'Spain', 'Germany'], dtype=object)"
      ]
     },
     "execution_count": 73,
     "metadata": {},
     "output_type": "execute_result"
    }
   ],
   "source": [
    "df['Geography'].unique()"
   ]
  },
  {
   "cell_type": "markdown",
   "metadata": {},
   "source": [
    "Избавляемся от дамми-ловушек."
   ]
  },
  {
   "cell_type": "code",
   "execution_count": 74,
   "metadata": {},
   "outputs": [],
   "source": [
    "df = pd.get_dummies(df, drop_first=True)"
   ]
  },
  {
   "cell_type": "code",
   "execution_count": 75,
   "metadata": {},
   "outputs": [
    {
     "data": {
      "text/html": [
       "<div>\n",
       "<style scoped>\n",
       "    .dataframe tbody tr th:only-of-type {\n",
       "        vertical-align: middle;\n",
       "    }\n",
       "\n",
       "    .dataframe tbody tr th {\n",
       "        vertical-align: top;\n",
       "    }\n",
       "\n",
       "    .dataframe thead th {\n",
       "        text-align: right;\n",
       "    }\n",
       "</style>\n",
       "<table border=\"1\" class=\"dataframe\">\n",
       "  <thead>\n",
       "    <tr style=\"text-align: right;\">\n",
       "      <th></th>\n",
       "      <th>CreditScore</th>\n",
       "      <th>Age</th>\n",
       "      <th>Tenure</th>\n",
       "      <th>Balance</th>\n",
       "      <th>NumOfProducts</th>\n",
       "      <th>HasCrCard</th>\n",
       "      <th>IsActiveMember</th>\n",
       "      <th>EstimatedSalary</th>\n",
       "      <th>Exited</th>\n",
       "      <th>Geography_Germany</th>\n",
       "      <th>Geography_Spain</th>\n",
       "      <th>Gender_Male</th>\n",
       "    </tr>\n",
       "  </thead>\n",
       "  <tbody>\n",
       "    <tr>\n",
       "      <th>0</th>\n",
       "      <td>619</td>\n",
       "      <td>42</td>\n",
       "      <td>2.0</td>\n",
       "      <td>0.00</td>\n",
       "      <td>1</td>\n",
       "      <td>1</td>\n",
       "      <td>1</td>\n",
       "      <td>101348.88</td>\n",
       "      <td>1</td>\n",
       "      <td>0</td>\n",
       "      <td>0</td>\n",
       "      <td>0</td>\n",
       "    </tr>\n",
       "    <tr>\n",
       "      <th>1</th>\n",
       "      <td>608</td>\n",
       "      <td>41</td>\n",
       "      <td>1.0</td>\n",
       "      <td>83807.86</td>\n",
       "      <td>1</td>\n",
       "      <td>0</td>\n",
       "      <td>1</td>\n",
       "      <td>112542.58</td>\n",
       "      <td>0</td>\n",
       "      <td>0</td>\n",
       "      <td>1</td>\n",
       "      <td>0</td>\n",
       "    </tr>\n",
       "    <tr>\n",
       "      <th>2</th>\n",
       "      <td>502</td>\n",
       "      <td>42</td>\n",
       "      <td>8.0</td>\n",
       "      <td>159660.80</td>\n",
       "      <td>3</td>\n",
       "      <td>1</td>\n",
       "      <td>0</td>\n",
       "      <td>113931.57</td>\n",
       "      <td>1</td>\n",
       "      <td>0</td>\n",
       "      <td>0</td>\n",
       "      <td>0</td>\n",
       "    </tr>\n",
       "    <tr>\n",
       "      <th>3</th>\n",
       "      <td>699</td>\n",
       "      <td>39</td>\n",
       "      <td>1.0</td>\n",
       "      <td>0.00</td>\n",
       "      <td>2</td>\n",
       "      <td>0</td>\n",
       "      <td>0</td>\n",
       "      <td>93826.63</td>\n",
       "      <td>0</td>\n",
       "      <td>0</td>\n",
       "      <td>0</td>\n",
       "      <td>0</td>\n",
       "    </tr>\n",
       "    <tr>\n",
       "      <th>4</th>\n",
       "      <td>850</td>\n",
       "      <td>43</td>\n",
       "      <td>2.0</td>\n",
       "      <td>125510.82</td>\n",
       "      <td>1</td>\n",
       "      <td>1</td>\n",
       "      <td>1</td>\n",
       "      <td>79084.10</td>\n",
       "      <td>0</td>\n",
       "      <td>0</td>\n",
       "      <td>1</td>\n",
       "      <td>0</td>\n",
       "    </tr>\n",
       "  </tbody>\n",
       "</table>\n",
       "</div>"
      ],
      "text/plain": [
       "   CreditScore  Age  Tenure    Balance  NumOfProducts  HasCrCard  \\\n",
       "0          619   42     2.0       0.00              1          1   \n",
       "1          608   41     1.0   83807.86              1          0   \n",
       "2          502   42     8.0  159660.80              3          1   \n",
       "3          699   39     1.0       0.00              2          0   \n",
       "4          850   43     2.0  125510.82              1          1   \n",
       "\n",
       "   IsActiveMember  EstimatedSalary  Exited  Geography_Germany  \\\n",
       "0               1        101348.88       1                  0   \n",
       "1               1        112542.58       0                  0   \n",
       "2               0        113931.57       1                  0   \n",
       "3               0         93826.63       0                  0   \n",
       "4               1         79084.10       0                  0   \n",
       "\n",
       "   Geography_Spain  Gender_Male  \n",
       "0                0            0  \n",
       "1                1            0  \n",
       "2                0            0  \n",
       "3                0            0  \n",
       "4                1            0  "
      ]
     },
     "execution_count": 75,
     "metadata": {},
     "output_type": "execute_result"
    }
   ],
   "source": [
    "df.head(5)"
   ]
  },
  {
   "cell_type": "code",
   "execution_count": 76,
   "metadata": {},
   "outputs": [
    {
     "data": {
      "text/plain": [
       "(10000, 12)"
      ]
     },
     "execution_count": 76,
     "metadata": {},
     "output_type": "execute_result"
    }
   ],
   "source": [
    "df.shape"
   ]
  },
  {
   "cell_type": "code",
   "execution_count": 77,
   "metadata": {},
   "outputs": [],
   "source": [
    "target = df['Exited']\n",
    "features = df.drop(['Exited'], axis=1)"
   ]
  },
  {
   "cell_type": "markdown",
   "metadata": {},
   "source": [
    "Так как у нас только исходный датасет, то данные мы делим на три выборки: обучающую - 60%, валидационную - 20% и тестовую - 20%. "
   ]
  },
  {
   "cell_type": "code",
   "execution_count": 78,
   "metadata": {},
   "outputs": [],
   "source": [
    "state = np.random.RandomState(12345)"
   ]
  },
  {
   "cell_type": "code",
   "execution_count": 79,
   "metadata": {},
   "outputs": [],
   "source": [
    "features_train, features_valid, target_train, target_valid = train_test_split(features, target, test_size=0.4, random_state=state, stratify=target)\n",
    "features_valid, features_test, target_valid, target_test = train_test_split(features_valid, target_valid, test_size=0.5, random_state=state, stratify=target_valid)"
   ]
  },
  {
   "cell_type": "code",
   "execution_count": 80,
   "metadata": {},
   "outputs": [
    {
     "data": {
      "text/plain": [
       "(6000, 11)"
      ]
     },
     "metadata": {},
     "output_type": "display_data"
    },
    {
     "data": {
      "text/plain": [
       "(2000, 11)"
      ]
     },
     "metadata": {},
     "output_type": "display_data"
    },
    {
     "data": {
      "text/plain": [
       "(2000, 11)"
      ]
     },
     "metadata": {},
     "output_type": "display_data"
    }
   ],
   "source": [
    "display(features_train.shape)\n",
    "display(features_valid.shape)\n",
    "display(features_test.shape)"
   ]
  },
  {
   "cell_type": "markdown",
   "metadata": {},
   "source": [
    "Масштабируем численные признаки."
   ]
  },
  {
   "cell_type": "code",
   "execution_count": 81,
   "metadata": {},
   "outputs": [],
   "source": [
    "numeric = ['CreditScore', 'Age', 'Tenure', 'Balance', 'EstimatedSalary']\n",
    "scaler = StandardScaler()"
   ]
  },
  {
   "cell_type": "code",
   "execution_count": 82,
   "metadata": {},
   "outputs": [
    {
     "name": "stderr",
     "output_type": "stream",
     "text": [
      "C:\\Users\\Marina\\anaconda3\\lib\\site-packages\\pandas\\core\\frame.py:3678: SettingWithCopyWarning: \n",
      "A value is trying to be set on a copy of a slice from a DataFrame.\n",
      "Try using .loc[row_indexer,col_indexer] = value instead\n",
      "\n",
      "See the caveats in the documentation: https://pandas.pydata.org/pandas-docs/stable/user_guide/indexing.html#returning-a-view-versus-a-copy\n",
      "  self[col] = igetitem(value, i)\n"
     ]
    },
    {
     "data": {
      "text/html": [
       "<div>\n",
       "<style scoped>\n",
       "    .dataframe tbody tr th:only-of-type {\n",
       "        vertical-align: middle;\n",
       "    }\n",
       "\n",
       "    .dataframe tbody tr th {\n",
       "        vertical-align: top;\n",
       "    }\n",
       "\n",
       "    .dataframe thead th {\n",
       "        text-align: right;\n",
       "    }\n",
       "</style>\n",
       "<table border=\"1\" class=\"dataframe\">\n",
       "  <thead>\n",
       "    <tr style=\"text-align: right;\">\n",
       "      <th></th>\n",
       "      <th>CreditScore</th>\n",
       "      <th>Age</th>\n",
       "      <th>Tenure</th>\n",
       "      <th>Balance</th>\n",
       "      <th>NumOfProducts</th>\n",
       "      <th>HasCrCard</th>\n",
       "      <th>IsActiveMember</th>\n",
       "      <th>EstimatedSalary</th>\n",
       "      <th>Geography_Germany</th>\n",
       "      <th>Geography_Spain</th>\n",
       "      <th>Gender_Male</th>\n",
       "    </tr>\n",
       "  </thead>\n",
       "  <tbody>\n",
       "    <tr>\n",
       "      <th>2837</th>\n",
       "      <td>-1.040434</td>\n",
       "      <td>0.953312</td>\n",
       "      <td>0.467449</td>\n",
       "      <td>0.774657</td>\n",
       "      <td>1</td>\n",
       "      <td>0</td>\n",
       "      <td>1</td>\n",
       "      <td>-0.119110</td>\n",
       "      <td>1</td>\n",
       "      <td>0</td>\n",
       "      <td>0</td>\n",
       "    </tr>\n",
       "    <tr>\n",
       "      <th>9925</th>\n",
       "      <td>0.454006</td>\n",
       "      <td>-0.095244</td>\n",
       "      <td>-1.461501</td>\n",
       "      <td>1.910540</td>\n",
       "      <td>1</td>\n",
       "      <td>1</td>\n",
       "      <td>1</td>\n",
       "      <td>-0.258658</td>\n",
       "      <td>0</td>\n",
       "      <td>0</td>\n",
       "      <td>0</td>\n",
       "    </tr>\n",
       "    <tr>\n",
       "      <th>8746</th>\n",
       "      <td>0.103585</td>\n",
       "      <td>-0.476537</td>\n",
       "      <td>1.110432</td>\n",
       "      <td>0.481608</td>\n",
       "      <td>2</td>\n",
       "      <td>0</td>\n",
       "      <td>1</td>\n",
       "      <td>1.422836</td>\n",
       "      <td>0</td>\n",
       "      <td>0</td>\n",
       "      <td>1</td>\n",
       "    </tr>\n",
       "    <tr>\n",
       "      <th>660</th>\n",
       "      <td>-0.184996</td>\n",
       "      <td>0.190726</td>\n",
       "      <td>-1.461501</td>\n",
       "      <td>0.088439</td>\n",
       "      <td>1</td>\n",
       "      <td>1</td>\n",
       "      <td>1</td>\n",
       "      <td>-1.160427</td>\n",
       "      <td>1</td>\n",
       "      <td>0</td>\n",
       "      <td>0</td>\n",
       "    </tr>\n",
       "    <tr>\n",
       "      <th>3610</th>\n",
       "      <td>-0.720933</td>\n",
       "      <td>1.620574</td>\n",
       "      <td>-1.140009</td>\n",
       "      <td>0.879129</td>\n",
       "      <td>1</td>\n",
       "      <td>1</td>\n",
       "      <td>0</td>\n",
       "      <td>0.113236</td>\n",
       "      <td>0</td>\n",
       "      <td>0</td>\n",
       "      <td>0</td>\n",
       "    </tr>\n",
       "  </tbody>\n",
       "</table>\n",
       "</div>"
      ],
      "text/plain": [
       "      CreditScore       Age    Tenure   Balance  NumOfProducts  HasCrCard  \\\n",
       "2837    -1.040434  0.953312  0.467449  0.774657              1          0   \n",
       "9925     0.454006 -0.095244 -1.461501  1.910540              1          1   \n",
       "8746     0.103585 -0.476537  1.110432  0.481608              2          0   \n",
       "660     -0.184996  0.190726 -1.461501  0.088439              1          1   \n",
       "3610    -0.720933  1.620574 -1.140009  0.879129              1          1   \n",
       "\n",
       "      IsActiveMember  EstimatedSalary  Geography_Germany  Geography_Spain  \\\n",
       "2837               1        -0.119110                  1                0   \n",
       "9925               1        -0.258658                  0                0   \n",
       "8746               1         1.422836                  0                0   \n",
       "660                1        -1.160427                  1                0   \n",
       "3610               0         0.113236                  0                0   \n",
       "\n",
       "      Gender_Male  \n",
       "2837            0  \n",
       "9925            0  \n",
       "8746            1  \n",
       "660             0  \n",
       "3610            0  "
      ]
     },
     "execution_count": 82,
     "metadata": {},
     "output_type": "execute_result"
    }
   ],
   "source": [
    "scaler.fit(features_train[numeric])\n",
    "features_train[numeric] = scaler.transform(features_train[numeric])\n",
    "features_valid[numeric] = scaler.transform(features_valid[numeric])\n",
    "features_test[numeric] = scaler.transform(features_test[numeric])\n",
    "features_train.head(5)"
   ]
  },
  {
   "cell_type": "markdown",
   "metadata": {},
   "source": [
    "Обучение моделий"
   ]
  },
  {
   "cell_type": "markdown",
   "metadata": {},
   "source": [
    "**Случайный лес**"
   ]
  },
  {
   "cell_type": "code",
   "execution_count": 83,
   "metadata": {},
   "outputs": [
    {
     "name": "stdout",
     "output_type": "stream",
     "text": [
      "Количество деревьев: 35 Максимальная глубина: 13\n",
      "Полнота: 0.44226044226044225\n",
      "Точность: 0.703125\n",
      "F-1: 0.5429864253393666\n",
      "accuracy: 0.8485\n",
      "Wall time: 9.37 s\n"
     ]
    }
   ],
   "source": [
    "%%time\n",
    "best_result_forest = 0\n",
    "best_est_forest = 0\n",
    "best_depth_forest = 0\n",
    "for est in range(30, 40):\n",
    "    for depth in range (10, 15):\n",
    "        model_forest = RandomForestClassifier(random_state=state, n_estimators=est, max_depth=depth) \n",
    "        model_forest.fit(features_train, target_train) \n",
    "        predicted_valid = model_forest.predict(features_valid) \n",
    "        accuracy_reg = model_forest.score(features_valid, target_valid) \n",
    "        f1 = f1_score(target_valid, predicted_valid)\n",
    "        if f1 > best_result_tree:\n",
    "            best_result_forest = f1\n",
    "            best_est_forest = est\n",
    "            best_depth_forest = depth\n",
    "\n",
    "print(\"Количество деревьев:\", best_est_forest, \"Максимальная глубина:\", best_depth_forest)\n",
    "print(\"Полнота:\", recall_score(target_valid, predicted_valid))\n",
    "print(\"Точность:\", precision_score(target_valid, predicted_valid))\n",
    "print(\"F-1:\", f1)\n",
    "print(\"accuracy:\", accuracy_reg)"
   ]
  },
  {
   "cell_type": "code",
   "execution_count": 84,
   "metadata": {},
   "outputs": [
    {
     "data": {
      "image/png": "[encoded data removed]",
      "text/plain": [
       "<Figure size 432x288 with 1 Axes>"
      ]
     },
     "metadata": {
      "needs_background": "light"
     },
     "output_type": "display_data"
    }
   ],
   "source": [
    "probabilities_valid = model_forest.predict_proba(features_valid)\n",
    "probabilities_one_valid = probabilities_valid[:, 1]\n",
    "\n",
    "fpr, tpr, thresholds = roc_curve(target_valid, probabilities_one_valid)\n",
    "\n",
    "plt.figure()\n",
    "plt.plot(fpr, tpr)\n",
    "plt.plot([0, 1], [0, 1], linestyle='--')\n",
    "plt.xlim([0.0, 1.0])\n",
    "plt.ylim([0.0, 1.0])\n",
    "plt.xlabel('False Positive Rate')\n",
    "plt.ylabel('True Positive Rate')\n",
    "plt.title('ROC-кривая') \n",
    "plt.show()"
   ]
  },
  {
   "cell_type": "code",
   "execution_count": 85,
   "metadata": {},
   "outputs": [
    {
     "name": "stdout",
     "output_type": "stream",
     "text": [
      "AUC-ROC: 0.8480375599019667\n",
      "F-1: 0.5429864253393666\n"
     ]
    }
   ],
   "source": [
    "auc_roc = roc_auc_score(target_valid, probabilities_one_valid)\n",
    "print('AUC-ROC:', auc_roc)\n",
    "print(\"F-1:\", f1)"
   ]
  },
  {
   "cell_type": "markdown",
   "metadata": {},
   "source": [
    "**Логистическая регрессия**"
   ]
  },
  {
   "cell_type": "code",
   "execution_count": 86,
   "metadata": {},
   "outputs": [
    {
     "name": "stdout",
     "output_type": "stream",
     "text": [
      "Полнота: 0.2113022113022113\n",
      "Точность: 0.6277372262773723\n",
      "F-1: 0.31617647058823534\n",
      "accuracy: 0.814\n"
     ]
    }
   ],
   "source": [
    "model_reg = LogisticRegression(random_state=12345, solver='liblinear') \n",
    "model_reg.fit(features_train, target_train) \n",
    "predicted_valid = model_reg.predict(features_valid)\n",
    "accuracy_reg = model_reg.score(features_valid, target_valid) \n",
    "\n",
    "print(\"Полнота:\", recall_score(target_valid, predicted_valid))\n",
    "print(\"Точность:\", precision_score(target_valid, predicted_valid))\n",
    "print(\"F-1:\", f1_score(target_valid, predicted_valid))\n",
    "print(\"accuracy:\", accuracy_reg)"
   ]
  },
  {
   "cell_type": "code",
   "execution_count": 87,
   "metadata": {},
   "outputs": [
    {
     "data": {
      "image/png": "[encoded data removed]",
      "text/plain": [
       "<Figure size 432x288 with 1 Axes>"
      ]
     },
     "metadata": {
      "needs_background": "light"
     },
     "output_type": "display_data"
    }
   ],
   "source": [
    "probabilities_valid = model_reg.predict_proba(features_valid)\n",
    "probabilities_one_valid = probabilities_valid[:, 1]\n",
    "\n",
    "fpr, tpr, thresholds = roc_curve(target_valid, probabilities_one_valid)\n",
    "\n",
    "plt.figure()\n",
    "plt.plot(fpr, tpr)\n",
    "plt.plot([0, 1], [0, 1], linestyle='--')\n",
    "plt.xlim([0.0, 1.0])\n",
    "plt.ylim([0.0, 1.0])\n",
    "plt.xlabel('False Positive Rate')\n",
    "plt.ylabel('True Positive Rate')\n",
    "plt.title('ROC-кривая') \n",
    "plt.show()"
   ]
  },
  {
   "cell_type": "code",
   "execution_count": 88,
   "metadata": {},
   "outputs": [
    {
     "name": "stdout",
     "output_type": "stream",
     "text": [
      "AUC-ROC: 0.7783577105611005\n",
      "F-1: 0.31617647058823534\n"
     ]
    }
   ],
   "source": [
    "auc_roc = roc_auc_score(target_valid, probabilities_one_valid)\n",
    "print('AUC-ROC:', auc_roc)\n",
    "print(\"F-1:\", f1_score(target_valid, predicted_valid))"
   ]
  },
  {
   "cell_type": "code",
   "execution_count": 89,
   "metadata": {},
   "outputs": [
    {
     "data": {
      "text/plain": [
       "0    0.796333\n",
       "1    0.203667\n",
       "Name: Exited, dtype: float64"
      ]
     },
     "execution_count": 89,
     "metadata": {},
     "output_type": "execute_result"
    }
   ],
   "source": [
    "target_train.value_counts(normalize = 1)"
   ]
  },
  {
   "cell_type": "code",
   "execution_count": 90,
   "metadata": {},
   "outputs": [
    {
     "data": {
      "text/plain": [
       "<AxesSubplot:ylabel='Frequency'>"
      ]
     },
     "execution_count": 90,
     "metadata": {},
     "output_type": "execute_result"
    },
    {
     "data": {
      "image/png": "[encoded data removed]",
      "text/plain": [
       "<Figure size 360x360 with 1 Axes>"
      ]
     },
     "metadata": {
      "needs_background": "light"
     },
     "output_type": "display_data"
    }
   ],
   "source": [
    "target_train.plot(kind='hist', bins=2, figsize=(5,5))\n"
   ]
  },
  {
   "cell_type": "markdown",
   "metadata": {},
   "source": [
    "Были исследованы три модели. \n",
    "- «Дерево решений» лучший результат показало при глубине дерева = 7. F-1 = 0.49699879951980797, accuracy = 0.7905 \n",
    "- «Случайный лес» лучший результат показал при количестве деревьев = 33 и глубине = 13. F-1 = 0.541033434650456, accuracy = 0.849 \n",
    "- «Логистическая регрессия» F-1 = 0.31617647058823534, accuracy = 0.814\n",
    "\n",
    "Лучший результат показал \"Случайный лес\". Но в наших данных есть дисбаланс. Из всех данных приблизительно 80% отрицательных ответов.\n"
   ]
  },
  {
   "cell_type": "markdown",
   "metadata": {},
   "source": [
    "## Борьба с дисбалансом"
   ]
  },
  {
   "cell_type": "markdown",
   "metadata": {},
   "source": [
    "Придадим объектам редкого класса больший вес."
   ]
  },
  {
   "cell_type": "markdown",
   "metadata": {},
   "source": [
    "**Дерево решений**"
   ]
  },
  {
   "cell_type": "markdown",
   "metadata": {},
   "source": [
    "**Случайный лес**"
   ]
  },
  {
   "cell_type": "code",
   "execution_count": 91,
   "metadata": {},
   "outputs": [
    {
     "name": "stdout",
     "output_type": "stream",
     "text": [
      "Количество деревьев: 24 Максимальная глубина: 13\n",
      "Полнота: 0.47174447174447176\n",
      "Точность: 0.6643598615916955\n",
      "F-1: 0.5517241379310345\n",
      "accuracy: 0.844\n",
      "Wall time: 3.48 s\n"
     ]
    }
   ],
   "source": [
    "%%time\n",
    "best_result_forest = 0\n",
    "best_est_forest = 0\n",
    "best_depth_forest = 0\n",
    "for est in range(20, 25):\n",
    "    for depth in range (10, 15):\n",
    "        model_forest = RandomForestClassifier(class_weight='balanced', random_state=state, n_estimators=est, max_depth=depth) \n",
    "        model_forest.fit(features_train, target_train) \n",
    "        predicted_valid = model_forest.predict(features_valid) \n",
    "        accuracy_reg = model_forest.score(features_valid, target_valid) \n",
    "        f1 = f1_score(target_valid, predicted_valid)\n",
    "        if f1 > best_result_tree:\n",
    "            best_result_forest = f1\n",
    "            best_est_forest = est\n",
    "            best_depth_forest = depth\n",
    "\n",
    "print(\"Количество деревьев:\", best_est_forest, \"Максимальная глубина:\", best_depth_forest)\n",
    "print(\"Полнота:\", recall_score(target_valid, predicted_valid))\n",
    "print(\"Точность:\", precision_score(target_valid, predicted_valid))\n",
    "print(\"F-1:\", f1)\n",
    "print(\"accuracy:\", accuracy_reg)"
   ]
  },
  {
   "cell_type": "code",
   "execution_count": 92,
   "metadata": {},
   "outputs": [
    {
     "data": {
      "image/png": "[encoded data removed]",
      "text/plain": [
       "<Figure size 432x288 with 1 Axes>"
      ]
     },
     "metadata": {
      "needs_background": "light"
     },
     "output_type": "display_data"
    }
   ],
   "source": [
    "probabilities_valid = model_forest.predict_proba(features_valid)\n",
    "probabilities_one_valid = probabilities_valid[:, 1]\n",
    "\n",
    "fpr, tpr, thresholds = roc_curve(target_valid, probabilities_one_valid)\n",
    "\n",
    "plt.figure()\n",
    "plt.plot(fpr, tpr)\n",
    "plt.plot([0, 1], [0, 1], linestyle='--')\n",
    "plt.xlim([0.0, 1.0])\n",
    "plt.ylim([0.0, 1.0])\n",
    "plt.xlabel('False Positive Rate')\n",
    "plt.ylabel('True Positive Rate')\n",
    "plt.title('ROC-кривая') \n",
    "plt.show()"
   ]
  },
  {
   "cell_type": "code",
   "execution_count": 93,
   "metadata": {},
   "outputs": [
    {
     "name": "stdout",
     "output_type": "stream",
     "text": [
      "AUC-ROC: 0.8383452790232451\n",
      "F-1: 0.5517241379310345\n"
     ]
    }
   ],
   "source": [
    "auc_roc = roc_auc_score(target_valid, probabilities_one_valid)\n",
    "print('AUC-ROC:', auc_roc)\n",
    "print(\"F-1:\", f1)"
   ]
  },
  {
   "cell_type": "markdown",
   "metadata": {},
   "source": [
    "**Логистическая регрессия**"
   ]
  },
  {
   "cell_type": "code",
   "execution_count": 94,
   "metadata": {},
   "outputs": [
    {
     "name": "stdout",
     "output_type": "stream",
     "text": [
      "Полнота: 0.7125307125307125\n",
      "Точность: 0.3983516483516483\n",
      "F-1: 0.5110132158590308\n",
      "accuracy: 0.7225\n"
     ]
    }
   ],
   "source": [
    "model_reg = LogisticRegression(random_state=state, solver='liblinear', class_weight='balanced') \n",
    "model_reg.fit(features_train, target_train) \n",
    "predicted_valid = model_reg.predict(features_valid)\n",
    "\n",
    "print(\"Полнота:\", recall_score(target_valid, predicted_valid))\n",
    "print(\"Точность:\", precision_score(target_valid, predicted_valid))\n",
    "print(\"F-1:\", f1_score(target_valid, predicted_valid))\n",
    "accuracy_reg = model_reg.score(features_valid, target_valid) \n",
    "print(\"accuracy:\", accuracy_reg)"
   ]
  },
  {
   "cell_type": "code",
   "execution_count": 95,
   "metadata": {},
   "outputs": [
    {
     "data": {
      "image/png": "[encoded data removed]",
      "text/plain": [
       "<Figure size 432x288 with 1 Axes>"
      ]
     },
     "metadata": {
      "needs_background": "light"
     },
     "output_type": "display_data"
    }
   ],
   "source": [
    "probabilities_valid = model_reg.predict_proba(features_valid)\n",
    "probabilities_one_valid = probabilities_valid[:, 1]\n",
    "\n",
    "fpr, tpr, thresholds = roc_curve(target_valid, probabilities_one_valid)\n",
    "\n",
    "plt.figure()\n",
    "plt.plot(fpr, tpr)\n",
    "plt.plot([0, 1], [0, 1], linestyle='--')\n",
    "plt.xlim([0.0, 1.0])\n",
    "plt.ylim([0.0, 1.0])\n",
    "plt.xlabel('False Positive Rate')\n",
    "plt.ylabel('True Positive Rate')\n",
    "plt.title('ROC-кривая') \n",
    "plt.show()"
   ]
  },
  {
   "cell_type": "code",
   "execution_count": 96,
   "metadata": {},
   "outputs": [
    {
     "name": "stdout",
     "output_type": "stream",
     "text": [
      "AUC-ROC: 0.7837560210441565\n",
      "F-1: 0.5110132158590308\n"
     ]
    }
   ],
   "source": [
    "auc_roc = roc_auc_score(target_valid, probabilities_one_valid)\n",
    "print('AUC-ROC:', auc_roc)\n",
    "print(\"F-1:\", f1_score(target_valid, predicted_valid))"
   ]
  },
  {
   "cell_type": "markdown",
   "metadata": {},
   "source": [
    "При придании объектам редкого класса большего веса, некоторые модели показали получше результаты. "
   ]
  },
  {
   "cell_type": "markdown",
   "metadata": {},
   "source": [
    "Воспользуемся увелечением выборки, чтоб объекты редкого класса не были такими редкими в данных."
   ]
  },
  {
   "cell_type": "code",
   "execution_count": 97,
   "metadata": {},
   "outputs": [],
   "source": [
    "def upsample(features, target, repeat):\n",
    "    features_zeros = features[target == 0]\n",
    "    features_ones = features[target == 1]\n",
    "    target_zeros = target[target == 0]\n",
    "    target_ones = target[target == 1]\n",
    "\n",
    "    features_upsampled = pd.concat([features_zeros] + [features_ones] * repeat)\n",
    "    target_upsampled = pd.concat([target_zeros] + [target_ones] * repeat)\n",
    "    \n",
    "    features_upsampled, target_upsampled = shuffle(\n",
    "        features_upsampled, target_upsampled, random_state=state)\n",
    "    \n",
    "    return features_upsampled,target_upsampled\n",
    "\n",
    "features_upsampled, target_upsampled = upsample(features_train, target_train, 4)"
   ]
  },
  {
   "cell_type": "code",
   "execution_count": 98,
   "metadata": {},
   "outputs": [
    {
     "data": {
      "text/plain": [
       "1    0.50569\n",
       "0    0.49431\n",
       "Name: Exited, dtype: float64"
      ]
     },
     "execution_count": 98,
     "metadata": {},
     "output_type": "execute_result"
    }
   ],
   "source": [
    "target_upsampled.value_counts(normalize = 1)"
   ]
  },
  {
   "cell_type": "markdown",
   "metadata": {},
   "source": [
    "**Случайный лес**"
   ]
  },
  {
   "cell_type": "code",
   "execution_count": 99,
   "metadata": {},
   "outputs": [
    {
     "name": "stdout",
     "output_type": "stream",
     "text": [
      "Количество деревьев: 109 Максимальная глубина: 14\n",
      "Полнота: 0.5503685503685504\n",
      "Точность: 0.6120218579234973\n",
      "F-1: 0.5795601552393274\n",
      "accuracy: 0.8375\n",
      "Wall time: 19.8 s\n"
     ]
    }
   ],
   "source": [
    "%%time\n",
    "best_result_forest = 0\n",
    "best_est_forest = 0\n",
    "best_depth_forest = 0\n",
    "for est in range(105, 110):\n",
    "    for depth in range (10, 15):\n",
    "        model_forest = RandomForestClassifier(random_state=state, n_estimators=est, max_depth=depth) \n",
    "        model_forest.fit(features_upsampled, target_upsampled) \n",
    "        predicted_valid = model_forest.predict(features_valid) \n",
    "        f1 = f1_score(target_valid, predicted_valid)\n",
    "        if f1 > best_result_tree:\n",
    "            best_result_forest = f1\n",
    "            best_est_forest = est\n",
    "            best_depth_forest = depth\n",
    "\n",
    "print(\"Количество деревьев:\", best_est_forest, \"Максимальная глубина:\", best_depth_forest)\n",
    "print(\"Полнота:\", recall_score(target_valid, predicted_valid))\n",
    "print(\"Точность:\", precision_score(target_valid, predicted_valid))\n",
    "print(\"F-1:\", f1)\n",
    "accuracy_reg = model_forest.score(features_valid, target_valid) \n",
    "print(\"accuracy:\", accuracy_reg)"
   ]
  },
  {
   "cell_type": "code",
   "execution_count": 100,
   "metadata": {},
   "outputs": [
    {
     "data": {
      "image/png": "[encoded data removed]",
      "text/plain": [
       "<Figure size 432x288 with 1 Axes>"
      ]
     },
     "metadata": {
      "needs_background": "light"
     },
     "output_type": "display_data"
    }
   ],
   "source": [
    "probabilities_valid = model_forest.predict_proba(features_valid)\n",
    "probabilities_one_valid = probabilities_valid[:, 1]\n",
    "\n",
    "fpr, tpr, thresholds = roc_curve(target_valid, probabilities_one_valid)\n",
    "\n",
    "plt.figure()\n",
    "plt.plot(fpr, tpr)\n",
    "plt.plot([0, 1], [0, 1], linestyle='--')\n",
    "plt.xlim([0.0, 1.0])\n",
    "plt.ylim([0.0, 1.0])\n",
    "plt.xlabel('False Positive Rate')\n",
    "plt.ylabel('True Positive Rate')\n",
    "plt.title('ROC-кривая') \n",
    "plt.show()"
   ]
  },
  {
   "cell_type": "code",
   "execution_count": 101,
   "metadata": {},
   "outputs": [
    {
     "name": "stdout",
     "output_type": "stream",
     "text": [
      "AUC-ROC: 0.8485804756991198\n",
      "F-1: 0.5795601552393274\n"
     ]
    }
   ],
   "source": [
    "auc_roc = roc_auc_score(target_valid, probabilities_one_valid)\n",
    "print('AUC-ROC:', auc_roc)\n",
    "print(\"F-1:\", f1)"
   ]
  },
  {
   "cell_type": "markdown",
   "metadata": {},
   "source": [
    "**Логистическая регрессия**"
   ]
  },
  {
   "cell_type": "code",
   "execution_count": 102,
   "metadata": {},
   "outputs": [
    {
     "name": "stdout",
     "output_type": "stream",
     "text": [
      "Полнота: 0.7223587223587223\n",
      "Точность: 0.393048128342246\n",
      "F-1: 0.509090909090909\n",
      "accuracy: 0.7165\n"
     ]
    }
   ],
   "source": [
    "model_reg = LogisticRegression(random_state=state, solver='liblinear') \n",
    "model_reg.fit(features_upsampled, target_upsampled) \n",
    "predicted_valid = model_reg.predict(features_valid)\n",
    "f_1 = f1_score(target_valid, predicted_valid)\n",
    "print(\"Полнота:\", recall_score(target_valid, predicted_valid))\n",
    "print(\"Точность:\", precision_score(target_valid, predicted_valid))\n",
    "print(\"F-1:\", f_1)\n",
    "accuracy_reg = model_reg.score(features_valid, target_valid) \n",
    "print(\"accuracy:\", accuracy_reg)"
   ]
  },
  {
   "cell_type": "code",
   "execution_count": 103,
   "metadata": {},
   "outputs": [
    {
     "data": {
      "image/png": "[encoded data removed]",
      "text/plain": [
       "<Figure size 432x288 with 1 Axes>"
      ]
     },
     "metadata": {
      "needs_background": "light"
     },
     "output_type": "display_data"
    }
   ],
   "source": [
    "probabilities_valid = model_reg.predict_proba(features_valid)\n",
    "probabilities_one_valid = probabilities_valid[:, 1]\n",
    "\n",
    "fpr, tpr, thresholds = roc_curve(target_valid, probabilities_one_valid)\n",
    "\n",
    "plt.figure()\n",
    "plt.plot(fpr, tpr)\n",
    "plt.plot([0, 1], [0, 1], linestyle='--')\n",
    "plt.xlim([0.0, 1.0])\n",
    "plt.ylim([0.0, 1.0])\n",
    "plt.xlabel('False Positive Rate')\n",
    "plt.ylabel('True Positive Rate')\n",
    "plt.title('ROC-кривая') \n",
    "plt.show()"
   ]
  },
  {
   "cell_type": "code",
   "execution_count": 104,
   "metadata": {},
   "outputs": [
    {
     "name": "stdout",
     "output_type": "stream",
     "text": [
      "AUC-ROC: 0.7837930380303263\n",
      "F-1: 0.509090909090909\n"
     ]
    }
   ],
   "source": [
    "auc_roc = roc_auc_score(target_valid, probabilities_one_valid)\n",
    "print('AUC-ROC:', auc_roc)\n",
    "print(\"F-1:\", f1_score(target_valid, predicted_valid))"
   ]
  },
  {
   "cell_type": "markdown",
   "metadata": {},
   "source": [
    "После избавления от дисбаланса методом upsampling, были еще раз обучены три модели. Результаты моделей улучшились.\n",
    "- «Дерево решений» лучший результат показало при глубине дерева = 7. F-1 = 0.5293532338308458, accuracy = 0.7635\n",
    "- «Случайный лес» лучший результат показал при количестве деревьев = 109 и глубине = 14. F-1 = 0.5905006418485238, accuracy = 0.8405  \n",
    "- «Логистическая регрессия» F-1 = 0.509090909090909, accuracy = 0.7165\n",
    "\n",
    "Лучший результат показал \"Случайный лес\". На нем и будем тестировать."
   ]
  },
  {
   "cell_type": "markdown",
   "metadata": {},
   "source": [
    "## Тестирование модели"
   ]
  },
  {
   "cell_type": "code",
   "execution_count": 105,
   "metadata": {},
   "outputs": [
    {
     "name": "stdout",
     "output_type": "stream",
     "text": [
      "Полнота: 0.6053921568627451\n",
      "Точность: 0.6206030150753769\n",
      "F-1: 0.6129032258064516\n",
      "accuracy: 0.8435\n"
     ]
    }
   ],
   "source": [
    "model_forest = RandomForestClassifier(class_weight='balanced', random_state=12345, n_estimators=109, max_depth=14) \n",
    "model_forest.fit(features_upsampled, target_upsampled) \n",
    "predicted_test = model_forest.predict(features_test)\n",
    "f1 = f1_score(target_test, predicted_test)\n",
    "\n",
    "print(\"Полнота:\", recall_score(target_test, predicted_test))\n",
    "print(\"Точность:\", precision_score(target_test, predicted_test))\n",
    "print(\"F-1:\", f1)\n",
    "accuracy_reg = model_forest.score(features_valid, target_valid) \n",
    "print(\"accuracy:\", accuracy_reg)"
   ]
  },
  {
   "cell_type": "markdown",
   "metadata": {},
   "source": [
    "## Выводы"
   ]
  },
  {
   "cell_type": "markdown",
   "metadata": {},
   "source": [
    "В рамках проекта были проведены исследования и выбрана лучшая модель для прогнозироватьния, уйдёт клиент из банка в ближайшее время или нет.\n",
    "Для анализа были загруженны, проанализированы и скорректированы данные.\n",
    "Были исследованы три модели. \n",
    "- «Случайный лес» лучший результат показал при количестве деревьев = 33 и глубине = 13. F-1 = 0.541033434650456, accuracy = 0.849 \n",
    "- «Логистическая регрессия» F-1 = 0.31617647058823534, accuracy = 0.814\n",
    "\n",
    "Лучший результат показал \"Случайный лес\". Но в наших данных был дисбаланс. Из всех данных приблизительно 80% отрицательных ответов.\n",
    "После исбавления от дисбаланса методом upsampling, были еще раз обучены три модели. Результаты моделей улучшились.\n",
    "- «Случайный лес» лучший результат показал при количестве деревьев = 109 и глубине = 14. F-1 = 0.5905006418485238, accuracy = 0.8405  \n",
    "- «Логистическая регрессия» F-1 = 0.509090909090909, accuracy = 0.7165\n",
    "\n",
    "Лучший результат показал \"Случайный лес\". На нем и провели тестирование.\n",
    "\n",
    "Выбранная модель на тестовых данных показала самые высокие результаты F-1 = 0.6093366093366093,\n",
    "accuracy = 0.842."
   ]
  },
  {
   "cell_type": "markdown",
   "metadata": {},
   "source": [
    "## Чек-лист готовности проекта"
   ]
  },
  {
   "cell_type": "markdown",
   "metadata": {},
   "source": [
    "Поставьте 'x' в выполненных пунктах. Далее нажмите Shift+Enter."
   ]
  },
  {
   "cell_type": "markdown",
   "metadata": {},
   "source": [
    "- [x]  Jupyter Notebook открыт\n",
    "- [ ]  Весь код выполняется без ошибок\n",
    "- [ ]  Ячейки с кодом расположены в порядке исполнения\n",
    "- [ ]  Выполнен шаг 1: данные подготовлены\n",
    "- [ ]  Выполнен шаг 2: задача исследована\n",
    "    - [ ]  Исследован баланс классов\n",
    "    - [ ]  Изучены модели без учёта дисбаланса\n",
    "    - [ ]  Написаны выводы по результатам исследования\n",
    "- [ ]  Выполнен шаг 3: учтён дисбаланс\n",
    "    - [ ]  Применено несколько способов борьбы с дисбалансом\n",
    "    - [ ]  Написаны выводы по результатам исследования\n",
    "- [ ]  Выполнен шаг 4: проведено тестирование\n",
    "- [ ]  Удалось достичь *F1*-меры не менее 0.59\n",
    "- [ ]  Исследована метрика *AUC-ROC*"
   ]
  },
  {
   "cell_type": "code",
   "execution_count": null,
   "metadata": {},
   "outputs": [],
   "source": []
  }
 ],
 "metadata": {
  "ExecuteTimeLog": [
   {
    "duration": 451,
    "start_time": "2022-11-24T06:35:22.981Z"
   },
   {
    "duration": 166,
    "start_time": "2022-11-24T06:35:23.651Z"
   },
   {
    "duration": 19,
    "start_time": "2022-11-24T06:35:24.418Z"
   },
   {
    "duration": 365,
    "start_time": "2022-11-24T18:55:04.113Z"
   },
   {
    "duration": 170,
    "start_time": "2022-11-24T18:55:04.479Z"
   },
   {
    "duration": 20,
    "start_time": "2022-11-24T18:55:04.650Z"
   },
   {
    "duration": 14,
    "start_time": "2022-11-24T18:55:04.672Z"
   },
   {
    "duration": 47,
    "start_time": "2022-12-01T17:40:59.912Z"
   },
   {
    "duration": 407,
    "start_time": "2022-12-01T17:41:07.000Z"
   },
   {
    "duration": 165,
    "start_time": "2022-12-01T17:41:07.409Z"
   },
   {
    "duration": 20,
    "start_time": "2022-12-01T17:41:07.576Z"
   },
   {
    "duration": 3,
    "start_time": "2022-12-01T17:41:07.598Z"
   },
   {
    "duration": 19,
    "start_time": "2022-12-01T17:41:07.603Z"
   },
   {
    "duration": 11,
    "start_time": "2022-12-01T17:42:32.029Z"
   },
   {
    "duration": 43,
    "start_time": "2022-12-01T17:43:23.231Z"
   },
   {
    "duration": 17,
    "start_time": "2022-12-01T18:01:53.595Z"
   },
   {
    "duration": 4,
    "start_time": "2022-12-01T18:01:53.691Z"
   },
   {
    "duration": 24,
    "start_time": "2022-12-01T18:02:11.152Z"
   },
   {
    "duration": 28,
    "start_time": "2022-12-01T18:29:43.915Z"
   },
   {
    "duration": 4,
    "start_time": "2022-12-01T18:29:52.727Z"
   },
   {
    "duration": 8,
    "start_time": "2022-12-01T18:30:55.788Z"
   },
   {
    "duration": 9,
    "start_time": "2022-12-01T18:31:04.941Z"
   },
   {
    "duration": 404,
    "start_time": "2022-12-02T16:13:08.275Z"
   },
   {
    "duration": 151,
    "start_time": "2022-12-02T16:13:08.681Z"
   },
   {
    "duration": 30,
    "start_time": "2022-12-02T16:13:08.833Z"
   },
   {
    "duration": 5,
    "start_time": "2022-12-02T16:13:08.865Z"
   },
   {
    "duration": 18,
    "start_time": "2022-12-02T16:13:08.872Z"
   },
   {
    "duration": 29,
    "start_time": "2022-12-02T16:13:08.893Z"
   },
   {
    "duration": 68,
    "start_time": "2022-12-02T16:13:08.925Z"
   },
   {
    "duration": 19,
    "start_time": "2022-12-02T16:13:08.995Z"
   },
   {
    "duration": 10,
    "start_time": "2022-12-02T16:13:09.016Z"
   },
   {
    "duration": 61,
    "start_time": "2022-12-02T16:13:09.028Z"
   },
   {
    "duration": 2110,
    "start_time": "2022-12-02T16:13:34.323Z"
   },
   {
    "duration": 3,
    "start_time": "2022-12-02T20:13:05.511Z"
   },
   {
    "duration": 42,
    "start_time": "2022-12-02T20:13:05.519Z"
   },
   {
    "duration": 23,
    "start_time": "2022-12-02T20:13:05.563Z"
   },
   {
    "duration": 6,
    "start_time": "2022-12-02T20:13:05.587Z"
   },
   {
    "duration": 16,
    "start_time": "2022-12-02T20:13:05.596Z"
   },
   {
    "duration": 10,
    "start_time": "2022-12-02T20:13:05.614Z"
   },
   {
    "duration": 38,
    "start_time": "2022-12-02T20:13:05.626Z"
   },
   {
    "duration": 3,
    "start_time": "2022-12-02T20:13:05.666Z"
   },
   {
    "duration": 10,
    "start_time": "2022-12-02T20:13:05.671Z"
   },
   {
    "duration": 1591,
    "start_time": "2022-12-02T20:13:05.682Z"
   },
   {
    "duration": 4,
    "start_time": "2022-12-02T20:13:07.275Z"
   },
   {
    "duration": 17,
    "start_time": "2022-12-02T20:13:07.281Z"
   },
   {
    "duration": 17,
    "start_time": "2022-12-02T20:14:50.026Z"
   },
   {
    "duration": 10,
    "start_time": "2022-12-02T20:15:15.839Z"
   },
   {
    "duration": 13,
    "start_time": "2022-12-02T20:15:32.178Z"
   },
   {
    "duration": 4,
    "start_time": "2022-12-02T20:16:26.358Z"
   },
   {
    "duration": 4,
    "start_time": "2022-12-02T20:16:40.588Z"
   },
   {
    "duration": 1122,
    "start_time": "2022-12-02T20:19:42.043Z"
   },
   {
    "duration": 1279,
    "start_time": "2022-12-02T20:20:21.754Z"
   },
   {
    "duration": 8,
    "start_time": "2022-12-02T20:21:24.351Z"
   },
   {
    "duration": 2,
    "start_time": "2022-12-02T20:22:13.162Z"
   },
   {
    "duration": 8,
    "start_time": "2022-12-02T20:22:22.214Z"
   },
   {
    "duration": 3,
    "start_time": "2022-12-02T20:22:32.094Z"
   },
   {
    "duration": 38,
    "start_time": "2022-12-02T20:22:32.099Z"
   },
   {
    "duration": 23,
    "start_time": "2022-12-02T20:22:32.139Z"
   },
   {
    "duration": 5,
    "start_time": "2022-12-02T20:22:32.165Z"
   },
   {
    "duration": 18,
    "start_time": "2022-12-02T20:22:32.173Z"
   },
   {
    "duration": 28,
    "start_time": "2022-12-02T20:22:32.193Z"
   },
   {
    "duration": 53,
    "start_time": "2022-12-02T20:22:32.224Z"
   },
   {
    "duration": 4,
    "start_time": "2022-12-02T20:22:32.279Z"
   },
   {
    "duration": 29,
    "start_time": "2022-12-02T20:22:32.285Z"
   },
   {
    "duration": 1634,
    "start_time": "2022-12-02T20:22:32.316Z"
   },
   {
    "duration": 4,
    "start_time": "2022-12-02T20:22:33.952Z"
   },
   {
    "duration": 17,
    "start_time": "2022-12-02T20:22:33.958Z"
   },
   {
    "duration": 8,
    "start_time": "2022-12-02T20:22:33.976Z"
   },
   {
    "duration": 26,
    "start_time": "2022-12-02T20:22:33.987Z"
   },
   {
    "duration": 11,
    "start_time": "2022-12-02T20:22:34.015Z"
   },
   {
    "duration": 8,
    "start_time": "2022-12-02T20:22:34.028Z"
   },
   {
    "duration": 5,
    "start_time": "2022-12-02T20:27:12.941Z"
   },
   {
    "duration": 4,
    "start_time": "2022-12-02T20:29:54.866Z"
   },
   {
    "duration": 10,
    "start_time": "2022-12-02T20:29:55.427Z"
   },
   {
    "duration": 719,
    "start_time": "2022-12-02T20:31:16.765Z"
   },
   {
    "duration": 10,
    "start_time": "2022-12-02T20:31:22.234Z"
   },
   {
    "duration": 6,
    "start_time": "2022-12-02T20:31:25.212Z"
   },
   {
    "duration": 8,
    "start_time": "2022-12-02T20:59:12.117Z"
   },
   {
    "duration": 11,
    "start_time": "2022-12-02T20:59:16.059Z"
   },
   {
    "duration": 6,
    "start_time": "2022-12-02T20:59:16.177Z"
   },
   {
    "duration": 999,
    "start_time": "2022-12-05T18:40:44.743Z"
   },
   {
    "duration": 170,
    "start_time": "2022-12-05T18:40:45.745Z"
   },
   {
    "duration": 29,
    "start_time": "2022-12-05T18:40:45.917Z"
   },
   {
    "duration": 4,
    "start_time": "2022-12-05T18:40:45.948Z"
   },
   {
    "duration": 29,
    "start_time": "2022-12-05T18:40:45.953Z"
   },
   {
    "duration": 28,
    "start_time": "2022-12-05T18:40:45.984Z"
   },
   {
    "duration": 49,
    "start_time": "2022-12-05T18:40:46.013Z"
   },
   {
    "duration": 3,
    "start_time": "2022-12-05T18:40:46.064Z"
   },
   {
    "duration": 31,
    "start_time": "2022-12-05T18:40:46.068Z"
   },
   {
    "duration": 2050,
    "start_time": "2022-12-05T18:40:46.102Z"
   },
   {
    "duration": 4,
    "start_time": "2022-12-05T18:40:48.154Z"
   },
   {
    "duration": 18,
    "start_time": "2022-12-05T18:40:48.160Z"
   },
   {
    "duration": 12,
    "start_time": "2022-12-05T18:40:48.179Z"
   },
   {
    "duration": 14,
    "start_time": "2022-12-05T18:40:48.193Z"
   },
   {
    "duration": 18,
    "start_time": "2022-12-05T18:40:48.209Z"
   },
   {
    "duration": 10,
    "start_time": "2022-12-05T18:40:48.229Z"
   },
   {
    "duration": 15,
    "start_time": "2022-12-05T18:40:48.240Z"
   },
   {
    "duration": 6,
    "start_time": "2022-12-05T18:40:48.257Z"
   },
   {
    "duration": 20,
    "start_time": "2022-12-05T18:40:48.265Z"
   },
   {
    "duration": 111,
    "start_time": "2022-12-05T18:40:48.287Z"
   },
   {
    "duration": 3,
    "start_time": "2022-12-05T18:42:45.400Z"
   },
   {
    "duration": 3,
    "start_time": "2022-12-05T18:42:50.708Z"
   },
   {
    "duration": 9,
    "start_time": "2022-12-05T18:45:27.103Z"
   },
   {
    "duration": 23,
    "start_time": "2022-12-05T18:45:54.132Z"
   },
   {
    "duration": 11,
    "start_time": "2022-12-05T18:46:58.204Z"
   },
   {
    "duration": 45,
    "start_time": "2022-12-05T18:50:25.196Z"
   },
   {
    "duration": 31,
    "start_time": "2022-12-05T18:52:27.059Z"
   },
   {
    "duration": 4,
    "start_time": "2022-12-05T18:52:58.031Z"
   },
   {
    "duration": 5638,
    "start_time": "2022-12-05T18:53:04.053Z"
   },
   {
    "duration": 5256,
    "start_time": "2022-12-05T18:53:46.109Z"
   },
   {
    "duration": 5,
    "start_time": "2022-12-05T18:55:14.602Z"
   },
   {
    "duration": 19,
    "start_time": "2022-12-05T18:58:10.419Z"
   },
   {
    "duration": 82,
    "start_time": "2022-12-05T18:58:36.649Z"
   },
   {
    "duration": 19,
    "start_time": "2022-12-05T18:58:46.818Z"
   },
   {
    "duration": 19,
    "start_time": "2022-12-05T18:59:05.590Z"
   },
   {
    "duration": 238,
    "start_time": "2022-12-05T19:54:34.688Z"
   },
   {
    "duration": 4724,
    "start_time": "2022-12-05T19:55:39.295Z"
   },
   {
    "duration": 108,
    "start_time": "2022-12-05T19:56:11.837Z"
   },
   {
    "duration": 121,
    "start_time": "2022-12-05T19:56:18.528Z"
   },
   {
    "duration": 78,
    "start_time": "2022-12-05T19:56:59.222Z"
   },
   {
    "duration": 40976,
    "start_time": "2022-12-05T19:57:04.714Z"
   },
   {
    "duration": 31917,
    "start_time": "2022-12-05T19:59:27.335Z"
   },
   {
    "duration": 3066,
    "start_time": "2022-12-05T20:00:22.843Z"
   },
   {
    "duration": 208,
    "start_time": "2022-12-05T20:01:06.472Z"
   },
   {
    "duration": 11,
    "start_time": "2022-12-05T20:07:55.766Z"
   },
   {
    "duration": 4,
    "start_time": "2022-12-05T20:08:13.578Z"
   },
   {
    "duration": 9,
    "start_time": "2022-12-05T20:08:20.231Z"
   },
   {
    "duration": 6,
    "start_time": "2022-12-05T20:11:09.657Z"
   },
   {
    "duration": 270,
    "start_time": "2022-12-05T20:17:01.944Z"
   },
   {
    "duration": 3,
    "start_time": "2022-12-05T20:17:22.361Z"
   },
   {
    "duration": 247,
    "start_time": "2022-12-05T20:17:30.327Z"
   },
   {
    "duration": 289,
    "start_time": "2022-12-05T20:17:53.824Z"
   },
   {
    "duration": 22,
    "start_time": "2022-12-05T20:18:14.034Z"
   },
   {
    "duration": 15,
    "start_time": "2022-12-05T20:18:57.026Z"
   },
   {
    "duration": 3,
    "start_time": "2022-12-05T20:19:38.492Z"
   },
   {
    "duration": 18,
    "start_time": "2022-12-05T20:19:43.872Z"
   },
   {
    "duration": 257,
    "start_time": "2022-12-05T20:19:59.151Z"
   },
   {
    "duration": 41,
    "start_time": "2022-12-05T20:20:49.933Z"
   },
   {
    "duration": 39,
    "start_time": "2022-12-05T20:21:02.997Z"
   },
   {
    "duration": 3274,
    "start_time": "2022-12-05T20:21:16.290Z"
   },
   {
    "duration": 3136,
    "start_time": "2022-12-05T20:21:37.882Z"
   },
   {
    "duration": 200,
    "start_time": "2022-12-05T20:23:39.278Z"
   },
   {
    "duration": 1175,
    "start_time": "2022-12-06T18:08:50.135Z"
   },
   {
    "duration": 97,
    "start_time": "2022-12-06T18:08:51.313Z"
   },
   {
    "duration": 20,
    "start_time": "2022-12-06T18:08:51.411Z"
   },
   {
    "duration": 24,
    "start_time": "2022-12-06T18:08:51.433Z"
   },
   {
    "duration": 44,
    "start_time": "2022-12-06T18:08:51.458Z"
   },
   {
    "duration": 26,
    "start_time": "2022-12-06T18:08:51.503Z"
   },
   {
    "duration": 62,
    "start_time": "2022-12-06T18:08:51.530Z"
   },
   {
    "duration": 4,
    "start_time": "2022-12-06T18:08:51.593Z"
   },
   {
    "duration": 15,
    "start_time": "2022-12-06T18:08:51.598Z"
   },
   {
    "duration": 2234,
    "start_time": "2022-12-06T18:08:51.616Z"
   },
   {
    "duration": 5,
    "start_time": "2022-12-06T18:08:53.852Z"
   },
   {
    "duration": 53,
    "start_time": "2022-12-06T18:08:53.859Z"
   },
   {
    "duration": 38,
    "start_time": "2022-12-06T18:08:53.913Z"
   },
   {
    "duration": 30,
    "start_time": "2022-12-06T18:08:53.953Z"
   },
   {
    "duration": 13,
    "start_time": "2022-12-06T18:08:53.985Z"
   },
   {
    "duration": 6,
    "start_time": "2022-12-06T18:08:54.000Z"
   },
   {
    "duration": 20,
    "start_time": "2022-12-06T18:08:54.008Z"
   },
   {
    "duration": 7,
    "start_time": "2022-12-06T18:08:54.029Z"
   },
   {
    "duration": 43,
    "start_time": "2022-12-06T18:08:54.038Z"
   },
   {
    "duration": 36,
    "start_time": "2022-12-06T18:08:54.082Z"
   },
   {
    "duration": 55,
    "start_time": "2022-12-06T18:08:54.120Z"
   },
   {
    "duration": 28,
    "start_time": "2022-12-06T18:08:54.177Z"
   },
   {
    "duration": 44,
    "start_time": "2022-12-06T18:08:54.207Z"
   },
   {
    "duration": 148,
    "start_time": "2022-12-06T18:08:54.253Z"
   },
   {
    "duration": 0,
    "start_time": "2022-12-06T18:08:54.402Z"
   },
   {
    "duration": 0,
    "start_time": "2022-12-06T18:08:54.404Z"
   },
   {
    "duration": 25,
    "start_time": "2022-12-06T18:09:10.933Z"
   },
   {
    "duration": 18,
    "start_time": "2022-12-06T18:09:50.174Z"
   },
   {
    "duration": 271,
    "start_time": "2022-12-06T18:10:34.710Z"
   },
   {
    "duration": 24,
    "start_time": "2022-12-06T18:10:45.936Z"
   },
   {
    "duration": 20,
    "start_time": "2022-12-06T18:10:52.505Z"
   },
   {
    "duration": 3,
    "start_time": "2022-12-06T18:11:16.289Z"
   },
   {
    "duration": 18,
    "start_time": "2022-12-06T18:11:24.465Z"
   },
   {
    "duration": 18,
    "start_time": "2022-12-06T18:13:45.485Z"
   },
   {
    "duration": 21,
    "start_time": "2022-12-06T18:13:57.521Z"
   },
   {
    "duration": 4,
    "start_time": "2022-12-06T18:14:13.256Z"
   },
   {
    "duration": 101,
    "start_time": "2022-12-06T18:14:13.262Z"
   },
   {
    "duration": 17,
    "start_time": "2022-12-06T18:14:13.365Z"
   },
   {
    "duration": 48,
    "start_time": "2022-12-06T18:14:13.385Z"
   },
   {
    "duration": 57,
    "start_time": "2022-12-06T18:14:13.438Z"
   },
   {
    "duration": 23,
    "start_time": "2022-12-06T18:14:13.497Z"
   },
   {
    "duration": 63,
    "start_time": "2022-12-06T18:14:13.522Z"
   },
   {
    "duration": 3,
    "start_time": "2022-12-06T18:14:13.587Z"
   },
   {
    "duration": 19,
    "start_time": "2022-12-06T18:14:13.592Z"
   },
   {
    "duration": 1659,
    "start_time": "2022-12-06T18:14:13.613Z"
   },
   {
    "duration": 5,
    "start_time": "2022-12-06T18:14:15.274Z"
   },
   {
    "duration": 21,
    "start_time": "2022-12-06T18:14:15.280Z"
   },
   {
    "duration": 9,
    "start_time": "2022-12-06T18:14:15.302Z"
   },
   {
    "duration": 14,
    "start_time": "2022-12-06T18:14:15.313Z"
   },
   {
    "duration": 39,
    "start_time": "2022-12-06T18:14:15.328Z"
   },
   {
    "duration": 10,
    "start_time": "2022-12-06T18:14:15.369Z"
   },
   {
    "duration": 14,
    "start_time": "2022-12-06T18:14:15.381Z"
   },
   {
    "duration": 6,
    "start_time": "2022-12-06T18:14:15.396Z"
   },
   {
    "duration": 6,
    "start_time": "2022-12-06T18:14:15.403Z"
   },
   {
    "duration": 5,
    "start_time": "2022-12-06T18:14:15.411Z"
   },
   {
    "duration": 33,
    "start_time": "2022-12-06T18:14:15.418Z"
   },
   {
    "duration": 14,
    "start_time": "2022-12-06T18:14:15.453Z"
   },
   {
    "duration": 6,
    "start_time": "2022-12-06T18:14:15.469Z"
   },
   {
    "duration": 18,
    "start_time": "2022-12-06T18:14:15.477Z"
   },
   {
    "duration": 0,
    "start_time": "2022-12-06T18:14:15.496Z"
   },
   {
    "duration": 0,
    "start_time": "2022-12-06T18:14:15.497Z"
   },
   {
    "duration": 20,
    "start_time": "2022-12-06T18:15:24.528Z"
   },
   {
    "duration": 19,
    "start_time": "2022-12-06T18:16:02.665Z"
   },
   {
    "duration": 17,
    "start_time": "2022-12-06T18:16:33.358Z"
   },
   {
    "duration": 17,
    "start_time": "2022-12-06T18:16:41.567Z"
   },
   {
    "duration": 328,
    "start_time": "2022-12-06T18:17:06.500Z"
   },
   {
    "duration": 17,
    "start_time": "2022-12-06T18:17:36.357Z"
   },
   {
    "duration": 164,
    "start_time": "2022-12-06T18:17:45.625Z"
   },
   {
    "duration": 152,
    "start_time": "2022-12-06T18:18:24.671Z"
   },
   {
    "duration": 192,
    "start_time": "2022-12-06T18:18:32.418Z"
   },
   {
    "duration": 156,
    "start_time": "2022-12-06T18:19:23.687Z"
   },
   {
    "duration": 29,
    "start_time": "2022-12-06T18:23:54.763Z"
   },
   {
    "duration": 453,
    "start_time": "2022-12-06T19:27:27.297Z"
   },
   {
    "duration": 4,
    "start_time": "2022-12-06T19:34:33.574Z"
   },
   {
    "duration": 48,
    "start_time": "2022-12-06T19:34:39.717Z"
   },
   {
    "duration": 46,
    "start_time": "2022-12-06T19:34:57.924Z"
   },
   {
    "duration": 48,
    "start_time": "2022-12-06T19:35:19.520Z"
   },
   {
    "duration": 41,
    "start_time": "2022-12-06T19:38:48.772Z"
   },
   {
    "duration": 4,
    "start_time": "2022-12-06T19:39:12.912Z"
   },
   {
    "duration": 48,
    "start_time": "2022-12-06T19:39:18.608Z"
   },
   {
    "duration": 56,
    "start_time": "2022-12-06T19:39:39.209Z"
   },
   {
    "duration": 60,
    "start_time": "2022-12-06T19:44:14.103Z"
   },
   {
    "duration": 34,
    "start_time": "2022-12-06T19:44:58.186Z"
   },
   {
    "duration": 128,
    "start_time": "2022-12-06T19:45:33.589Z"
   },
   {
    "duration": 581,
    "start_time": "2022-12-06T19:45:52.567Z"
   },
   {
    "duration": 1087,
    "start_time": "2022-12-06T19:46:12.464Z"
   },
   {
    "duration": 54,
    "start_time": "2022-12-06T19:46:26.403Z"
   },
   {
    "duration": 320,
    "start_time": "2022-12-06T19:49:50.753Z"
   },
   {
    "duration": 98,
    "start_time": "2022-12-06T19:50:37.665Z"
   },
   {
    "duration": 52,
    "start_time": "2022-12-06T19:50:58.593Z"
   },
   {
    "duration": 58,
    "start_time": "2022-12-06T19:51:05.599Z"
   },
   {
    "duration": 23,
    "start_time": "2022-12-06T19:56:03.874Z"
   },
   {
    "duration": 19,
    "start_time": "2022-12-06T19:56:36.204Z"
   },
   {
    "duration": 8,
    "start_time": "2022-12-06T20:00:59.563Z"
   },
   {
    "duration": 350,
    "start_time": "2022-12-06T20:01:10.066Z"
   },
   {
    "duration": 320,
    "start_time": "2022-12-06T20:02:01.221Z"
   },
   {
    "duration": 363,
    "start_time": "2022-12-06T20:04:37.122Z"
   },
   {
    "duration": 1658,
    "start_time": "2022-12-06T20:04:45.717Z"
   },
   {
    "duration": 1611,
    "start_time": "2022-12-06T20:05:14.763Z"
   },
   {
    "duration": 36,
    "start_time": "2022-12-06T20:09:26.862Z"
   },
   {
    "duration": 48,
    "start_time": "2022-12-06T20:10:21.912Z"
   },
   {
    "duration": 57,
    "start_time": "2022-12-06T20:10:44.134Z"
   },
   {
    "duration": 5976,
    "start_time": "2022-12-06T20:11:15.996Z"
   },
   {
    "duration": 93,
    "start_time": "2022-12-06T20:11:36.706Z"
   },
   {
    "duration": 48450,
    "start_time": "2022-12-06T20:11:46.468Z"
   },
   {
    "duration": 4366,
    "start_time": "2022-12-06T20:13:46.104Z"
   },
   {
    "duration": 1194,
    "start_time": "2022-12-07T13:53:27.410Z"
   },
   {
    "duration": 169,
    "start_time": "2022-12-07T13:53:28.607Z"
   },
   {
    "duration": 24,
    "start_time": "2022-12-07T13:53:28.778Z"
   },
   {
    "duration": 4,
    "start_time": "2022-12-07T13:53:28.803Z"
   },
   {
    "duration": 15,
    "start_time": "2022-12-07T13:53:28.809Z"
   },
   {
    "duration": 11,
    "start_time": "2022-12-07T13:53:28.826Z"
   },
   {
    "duration": 66,
    "start_time": "2022-12-07T13:53:28.838Z"
   },
   {
    "duration": 3,
    "start_time": "2022-12-07T13:53:28.905Z"
   },
   {
    "duration": 9,
    "start_time": "2022-12-07T13:53:28.910Z"
   },
   {
    "duration": 2031,
    "start_time": "2022-12-07T13:53:28.921Z"
   },
   {
    "duration": 5,
    "start_time": "2022-12-07T13:53:30.954Z"
   },
   {
    "duration": 49,
    "start_time": "2022-12-07T13:53:30.960Z"
   },
   {
    "duration": 27,
    "start_time": "2022-12-07T13:53:31.010Z"
   },
   {
    "duration": 19,
    "start_time": "2022-12-07T13:53:31.040Z"
   },
   {
    "duration": 24,
    "start_time": "2022-12-07T13:53:31.061Z"
   },
   {
    "duration": 16,
    "start_time": "2022-12-07T13:53:31.089Z"
   },
   {
    "duration": 18,
    "start_time": "2022-12-07T13:53:31.106Z"
   },
   {
    "duration": 11,
    "start_time": "2022-12-07T13:53:31.126Z"
   },
   {
    "duration": 16,
    "start_time": "2022-12-07T13:53:31.138Z"
   },
   {
    "duration": 10,
    "start_time": "2022-12-07T13:53:31.156Z"
   },
   {
    "duration": 43,
    "start_time": "2022-12-07T13:53:31.168Z"
   },
   {
    "duration": 24,
    "start_time": "2022-12-07T13:53:31.213Z"
   },
   {
    "duration": 1356,
    "start_time": "2022-12-07T13:53:31.239Z"
   },
   {
    "duration": 3800,
    "start_time": "2022-12-07T13:53:32.599Z"
   },
   {
    "duration": 28,
    "start_time": "2022-12-07T13:53:36.401Z"
   },
   {
    "duration": 104,
    "start_time": "2022-12-07T14:46:07.276Z"
   },
   {
    "duration": 34,
    "start_time": "2022-12-07T14:46:27.643Z"
   },
   {
    "duration": 1191,
    "start_time": "2022-12-07T20:15:11.843Z"
   },
   {
    "duration": 103,
    "start_time": "2022-12-07T20:15:13.036Z"
   },
   {
    "duration": 20,
    "start_time": "2022-12-07T20:15:13.141Z"
   },
   {
    "duration": 4,
    "start_time": "2022-12-07T20:15:13.163Z"
   },
   {
    "duration": 24,
    "start_time": "2022-12-07T20:15:13.169Z"
   },
   {
    "duration": 12,
    "start_time": "2022-12-07T20:15:13.195Z"
   },
   {
    "duration": 61,
    "start_time": "2022-12-07T20:15:13.208Z"
   },
   {
    "duration": 4,
    "start_time": "2022-12-07T20:15:13.271Z"
   },
   {
    "duration": 12,
    "start_time": "2022-12-07T20:15:13.276Z"
   },
   {
    "duration": 2185,
    "start_time": "2022-12-07T20:15:13.290Z"
   },
   {
    "duration": 6,
    "start_time": "2022-12-07T20:15:15.478Z"
   },
   {
    "duration": 25,
    "start_time": "2022-12-07T20:15:15.487Z"
   },
   {
    "duration": 8,
    "start_time": "2022-12-07T20:15:15.514Z"
   },
   {
    "duration": 16,
    "start_time": "2022-12-07T20:15:15.526Z"
   },
   {
    "duration": 16,
    "start_time": "2022-12-07T20:15:15.543Z"
   },
   {
    "duration": 14,
    "start_time": "2022-12-07T20:15:15.562Z"
   },
   {
    "duration": 17,
    "start_time": "2022-12-07T20:15:15.578Z"
   },
   {
    "duration": 20,
    "start_time": "2022-12-07T20:15:15.597Z"
   },
   {
    "duration": 8,
    "start_time": "2022-12-07T20:15:15.619Z"
   },
   {
    "duration": 13,
    "start_time": "2022-12-07T20:15:15.629Z"
   },
   {
    "duration": 44,
    "start_time": "2022-12-07T20:15:15.644Z"
   },
   {
    "duration": 14,
    "start_time": "2022-12-07T20:15:15.690Z"
   },
   {
    "duration": 1633,
    "start_time": "2022-12-07T20:15:15.706Z"
   },
   {
    "duration": 4118,
    "start_time": "2022-12-07T20:15:17.342Z"
   },
   {
    "duration": 64,
    "start_time": "2022-12-07T20:15:21.462Z"
   },
   {
    "duration": 90,
    "start_time": "2022-12-07T20:15:21.528Z"
   },
   {
    "duration": 200,
    "start_time": "2022-12-07T20:15:21.620Z"
   },
   {
    "duration": 11,
    "start_time": "2022-12-07T20:26:06.938Z"
   },
   {
    "duration": 4,
    "start_time": "2022-12-07T20:26:58.545Z"
   },
   {
    "duration": 14,
    "start_time": "2022-12-07T20:27:02.476Z"
   },
   {
    "duration": 81,
    "start_time": "2022-12-07T20:28:21.738Z"
   },
   {
    "duration": 46,
    "start_time": "2022-12-07T20:28:40.309Z"
   },
   {
    "duration": 15,
    "start_time": "2022-12-07T20:28:46.320Z"
   },
   {
    "duration": 80,
    "start_time": "2022-12-07T20:28:54.136Z"
   },
   {
    "duration": 42,
    "start_time": "2022-12-07T20:28:59.507Z"
   },
   {
    "duration": 69,
    "start_time": "2022-12-07T20:29:07.382Z"
   },
   {
    "duration": 107,
    "start_time": "2022-12-07T20:29:14.409Z"
   },
   {
    "duration": 316,
    "start_time": "2022-12-07T20:29:23.822Z"
   },
   {
    "duration": 34,
    "start_time": "2022-12-07T20:29:32.214Z"
   },
   {
    "duration": 1091,
    "start_time": "2022-12-08T08:22:06.995Z"
   },
   {
    "duration": 91,
    "start_time": "2022-12-08T08:22:08.088Z"
   },
   {
    "duration": 20,
    "start_time": "2022-12-08T08:22:08.181Z"
   },
   {
    "duration": 4,
    "start_time": "2022-12-08T08:22:08.203Z"
   },
   {
    "duration": 18,
    "start_time": "2022-12-08T08:22:08.209Z"
   },
   {
    "duration": 12,
    "start_time": "2022-12-08T08:22:08.228Z"
   },
   {
    "duration": 72,
    "start_time": "2022-12-08T08:22:08.242Z"
   },
   {
    "duration": 3,
    "start_time": "2022-12-08T08:22:08.316Z"
   },
   {
    "duration": 12,
    "start_time": "2022-12-08T08:22:08.321Z"
   },
   {
    "duration": 1928,
    "start_time": "2022-12-08T08:22:08.334Z"
   },
   {
    "duration": 5,
    "start_time": "2022-12-08T08:22:10.264Z"
   },
   {
    "duration": 14,
    "start_time": "2022-12-08T08:22:10.270Z"
   },
   {
    "duration": 9,
    "start_time": "2022-12-08T08:22:10.285Z"
   },
   {
    "duration": 13,
    "start_time": "2022-12-08T08:22:10.297Z"
   },
   {
    "duration": 13,
    "start_time": "2022-12-08T08:22:10.312Z"
   },
   {
    "duration": 3,
    "start_time": "2022-12-08T08:22:10.327Z"
   },
   {
    "duration": 6,
    "start_time": "2022-12-08T08:22:10.332Z"
   },
   {
    "duration": 9,
    "start_time": "2022-12-08T08:22:10.340Z"
   },
   {
    "duration": 5,
    "start_time": "2022-12-08T08:22:10.351Z"
   },
   {
    "duration": 40,
    "start_time": "2022-12-08T08:22:10.358Z"
   },
   {
    "duration": 3,
    "start_time": "2022-12-08T08:22:10.399Z"
   },
   {
    "duration": 28,
    "start_time": "2022-12-08T08:22:10.403Z"
   },
   {
    "duration": 10,
    "start_time": "2022-12-08T08:22:10.432Z"
   },
   {
    "duration": 1234,
    "start_time": "2022-12-08T08:22:10.444Z"
   },
   {
    "duration": 3232,
    "start_time": "2022-12-08T08:22:11.679Z"
   },
   {
    "duration": 90,
    "start_time": "2022-12-08T08:22:14.912Z"
   },
   {
    "duration": 100,
    "start_time": "2022-12-08T08:22:15.004Z"
   },
   {
    "duration": 94,
    "start_time": "2022-12-08T08:22:15.106Z"
   },
   {
    "duration": 8,
    "start_time": "2022-12-08T10:02:49.433Z"
   },
   {
    "duration": 6,
    "start_time": "2022-12-08T10:02:51.443Z"
   },
   {
    "duration": 9,
    "start_time": "2022-12-08T10:02:53.195Z"
   },
   {
    "duration": 4,
    "start_time": "2022-12-08T10:02:54.427Z"
   },
   {
    "duration": 4,
    "start_time": "2022-12-08T10:03:06.691Z"
   },
   {
    "duration": 46,
    "start_time": "2022-12-08T10:03:06.697Z"
   },
   {
    "duration": 12,
    "start_time": "2022-12-08T10:03:06.745Z"
   },
   {
    "duration": 7,
    "start_time": "2022-12-08T10:03:06.758Z"
   },
   {
    "duration": 20,
    "start_time": "2022-12-08T10:03:06.768Z"
   },
   {
    "duration": 9,
    "start_time": "2022-12-08T10:03:06.789Z"
   },
   {
    "duration": 67,
    "start_time": "2022-12-08T10:03:06.800Z"
   },
   {
    "duration": 3,
    "start_time": "2022-12-08T10:03:06.869Z"
   },
   {
    "duration": 10,
    "start_time": "2022-12-08T10:03:06.874Z"
   },
   {
    "duration": 1386,
    "start_time": "2022-12-08T10:03:06.886Z"
   },
   {
    "duration": 4,
    "start_time": "2022-12-08T10:03:08.274Z"
   },
   {
    "duration": 23,
    "start_time": "2022-12-08T10:03:08.279Z"
   },
   {
    "duration": 8,
    "start_time": "2022-12-08T10:03:08.303Z"
   },
   {
    "duration": 14,
    "start_time": "2022-12-08T10:03:08.314Z"
   },
   {
    "duration": 11,
    "start_time": "2022-12-08T10:03:08.329Z"
   },
   {
    "duration": 18,
    "start_time": "2022-12-08T10:03:08.342Z"
   },
   {
    "duration": 8,
    "start_time": "2022-12-08T10:03:08.361Z"
   },
   {
    "duration": 7,
    "start_time": "2022-12-08T10:03:08.370Z"
   },
   {
    "duration": 6,
    "start_time": "2022-12-08T10:03:08.379Z"
   },
   {
    "duration": 15,
    "start_time": "2022-12-08T10:03:08.386Z"
   },
   {
    "duration": 6,
    "start_time": "2022-12-08T10:03:08.402Z"
   },
   {
    "duration": 25,
    "start_time": "2022-12-08T10:03:08.410Z"
   },
   {
    "duration": 11,
    "start_time": "2022-12-08T10:03:08.437Z"
   },
   {
    "duration": 1319,
    "start_time": "2022-12-08T10:03:08.450Z"
   },
   {
    "duration": 3384,
    "start_time": "2022-12-08T10:03:09.772Z"
   },
   {
    "duration": 50,
    "start_time": "2022-12-08T10:03:13.157Z"
   },
   {
    "duration": 94,
    "start_time": "2022-12-08T10:03:13.209Z"
   },
   {
    "duration": 95,
    "start_time": "2022-12-08T10:03:13.305Z"
   },
   {
    "duration": 106,
    "start_time": "2022-12-08T13:34:03.181Z"
   },
   {
    "duration": 4,
    "start_time": "2022-12-08T13:34:15.320Z"
   },
   {
    "duration": 42,
    "start_time": "2022-12-08T13:34:15.326Z"
   },
   {
    "duration": 12,
    "start_time": "2022-12-08T13:34:15.369Z"
   },
   {
    "duration": 9,
    "start_time": "2022-12-08T13:34:15.382Z"
   },
   {
    "duration": 12,
    "start_time": "2022-12-08T13:34:15.393Z"
   },
   {
    "duration": 8,
    "start_time": "2022-12-08T13:34:15.407Z"
   },
   {
    "duration": 37,
    "start_time": "2022-12-08T13:34:15.417Z"
   },
   {
    "duration": 3,
    "start_time": "2022-12-08T13:34:15.455Z"
   },
   {
    "duration": 11,
    "start_time": "2022-12-08T13:34:15.460Z"
   },
   {
    "duration": 1578,
    "start_time": "2022-12-08T13:34:15.473Z"
   },
   {
    "duration": 5,
    "start_time": "2022-12-08T13:34:17.054Z"
   },
   {
    "duration": 32,
    "start_time": "2022-12-08T13:34:17.061Z"
   },
   {
    "duration": 21,
    "start_time": "2022-12-08T13:34:17.097Z"
   },
   {
    "duration": 27,
    "start_time": "2022-12-08T13:34:17.122Z"
   },
   {
    "duration": 28,
    "start_time": "2022-12-08T13:34:17.151Z"
   },
   {
    "duration": 24,
    "start_time": "2022-12-08T13:34:17.181Z"
   },
   {
    "duration": 24,
    "start_time": "2022-12-08T13:34:17.208Z"
   },
   {
    "duration": 0,
    "start_time": "2022-12-08T13:34:17.234Z"
   },
   {
    "duration": 0,
    "start_time": "2022-12-08T13:34:17.235Z"
   },
   {
    "duration": 0,
    "start_time": "2022-12-08T13:34:17.236Z"
   },
   {
    "duration": 0,
    "start_time": "2022-12-08T13:34:17.237Z"
   },
   {
    "duration": 0,
    "start_time": "2022-12-08T13:34:17.239Z"
   },
   {
    "duration": 0,
    "start_time": "2022-12-08T13:34:17.241Z"
   },
   {
    "duration": 0,
    "start_time": "2022-12-08T13:34:17.242Z"
   },
   {
    "duration": 0,
    "start_time": "2022-12-08T13:34:17.243Z"
   },
   {
    "duration": 0,
    "start_time": "2022-12-08T13:34:17.245Z"
   },
   {
    "duration": 0,
    "start_time": "2022-12-08T13:34:17.246Z"
   },
   {
    "duration": 0,
    "start_time": "2022-12-08T13:34:17.247Z"
   },
   {
    "duration": 5,
    "start_time": "2022-12-08T13:35:57.162Z"
   },
   {
    "duration": 16,
    "start_time": "2022-12-08T13:36:00.570Z"
   },
   {
    "duration": 5,
    "start_time": "2022-12-08T13:38:18.858Z"
   },
   {
    "duration": 16,
    "start_time": "2022-12-08T13:38:20.738Z"
   },
   {
    "duration": 8,
    "start_time": "2022-12-08T13:39:12.727Z"
   },
   {
    "duration": 11,
    "start_time": "2022-12-08T13:41:03.314Z"
   },
   {
    "duration": 23,
    "start_time": "2022-12-08T13:41:06.338Z"
   },
   {
    "duration": 21,
    "start_time": "2022-12-08T13:41:16.657Z"
   },
   {
    "duration": 12,
    "start_time": "2022-12-08T13:41:17.377Z"
   },
   {
    "duration": 1353,
    "start_time": "2022-12-08T13:43:33.979Z"
   },
   {
    "duration": 4,
    "start_time": "2022-12-08T13:43:48.758Z"
   },
   {
    "duration": 53,
    "start_time": "2022-12-08T13:43:48.764Z"
   },
   {
    "duration": 13,
    "start_time": "2022-12-08T13:43:48.818Z"
   },
   {
    "duration": 27,
    "start_time": "2022-12-08T13:43:48.832Z"
   },
   {
    "duration": 26,
    "start_time": "2022-12-08T13:43:48.861Z"
   },
   {
    "duration": 33,
    "start_time": "2022-12-08T13:43:48.889Z"
   },
   {
    "duration": 58,
    "start_time": "2022-12-08T13:43:48.924Z"
   },
   {
    "duration": 3,
    "start_time": "2022-12-08T13:43:48.984Z"
   },
   {
    "duration": 31,
    "start_time": "2022-12-08T13:43:48.988Z"
   },
   {
    "duration": 1425,
    "start_time": "2022-12-08T13:43:49.021Z"
   },
   {
    "duration": 4,
    "start_time": "2022-12-08T13:43:50.447Z"
   },
   {
    "duration": 17,
    "start_time": "2022-12-08T13:43:50.453Z"
   },
   {
    "duration": 7,
    "start_time": "2022-12-08T13:43:50.471Z"
   },
   {
    "duration": 23,
    "start_time": "2022-12-08T13:43:50.480Z"
   },
   {
    "duration": 10,
    "start_time": "2022-12-08T13:43:50.504Z"
   },
   {
    "duration": 11,
    "start_time": "2022-12-08T13:43:50.515Z"
   },
   {
    "duration": 13,
    "start_time": "2022-12-08T13:43:50.527Z"
   },
   {
    "duration": 11,
    "start_time": "2022-12-08T13:43:50.541Z"
   },
   {
    "duration": 5,
    "start_time": "2022-12-08T13:43:50.554Z"
   },
   {
    "duration": 7,
    "start_time": "2022-12-08T13:43:50.561Z"
   },
   {
    "duration": 39,
    "start_time": "2022-12-08T13:43:50.569Z"
   },
   {
    "duration": 11,
    "start_time": "2022-12-08T13:43:50.610Z"
   },
   {
    "duration": 1417,
    "start_time": "2022-12-08T13:43:50.622Z"
   },
   {
    "duration": 3422,
    "start_time": "2022-12-08T13:43:52.041Z"
   },
   {
    "duration": 131,
    "start_time": "2022-12-08T13:43:55.465Z"
   },
   {
    "duration": 7,
    "start_time": "2022-12-08T13:43:55.599Z"
   },
   {
    "duration": 142,
    "start_time": "2022-12-08T13:43:55.608Z"
   },
   {
    "duration": 3462,
    "start_time": "2022-12-08T13:47:20.736Z"
   },
   {
    "duration": 24,
    "start_time": "2022-12-08T13:48:35.253Z"
   },
   {
    "duration": 6,
    "start_time": "2022-12-08T13:49:05.570Z"
   },
   {
    "duration": 32,
    "start_time": "2022-12-08T13:49:12.778Z"
   },
   {
    "duration": 34,
    "start_time": "2022-12-08T13:50:30.838Z"
   },
   {
    "duration": 1671,
    "start_time": "2022-12-08T13:51:48.298Z"
   },
   {
    "duration": 4666,
    "start_time": "2022-12-08T13:53:14.326Z"
   },
   {
    "duration": 45,
    "start_time": "2022-12-08T13:58:24.783Z"
   },
   {
    "duration": 86,
    "start_time": "2022-12-08T13:58:53.613Z"
   },
   {
    "duration": 69,
    "start_time": "2022-12-08T14:04:29.228Z"
   },
   {
    "duration": 86,
    "start_time": "2022-12-08T14:05:21.617Z"
   },
   {
    "duration": 3619,
    "start_time": "2022-12-08T14:06:47.325Z"
   },
   {
    "duration": 159,
    "start_time": "2022-12-08T14:08:40.143Z"
   },
   {
    "duration": 281,
    "start_time": "2022-12-08T14:09:00.918Z"
   },
   {
    "duration": 188,
    "start_time": "2022-12-08T14:09:15.662Z"
   },
   {
    "duration": 583,
    "start_time": "2022-12-08T14:09:24.974Z"
   },
   {
    "duration": 559,
    "start_time": "2022-12-08T14:09:34.156Z"
   },
   {
    "duration": 166,
    "start_time": "2022-12-08T14:10:03.475Z"
   },
   {
    "duration": 107,
    "start_time": "2022-12-08T14:10:46.398Z"
   },
   {
    "duration": 169,
    "start_time": "2022-12-08T14:11:13.719Z"
   },
   {
    "duration": 31,
    "start_time": "2022-12-08T14:12:35.157Z"
   },
   {
    "duration": 144,
    "start_time": "2022-12-08T14:12:58.906Z"
   },
   {
    "duration": 28,
    "start_time": "2022-12-08T14:13:04.369Z"
   },
   {
    "duration": 5115,
    "start_time": "2022-12-08T14:23:52.154Z"
   },
   {
    "duration": 223,
    "start_time": "2022-12-08T14:26:25.226Z"
   },
   {
    "duration": 233,
    "start_time": "2022-12-08T14:29:08.266Z"
   },
   {
    "duration": 1050,
    "start_time": "2022-12-08T18:52:03.442Z"
   },
   {
    "duration": 103,
    "start_time": "2022-12-08T18:52:04.495Z"
   },
   {
    "duration": 19,
    "start_time": "2022-12-08T18:52:04.600Z"
   },
   {
    "duration": 4,
    "start_time": "2022-12-08T18:52:04.620Z"
   },
   {
    "duration": 14,
    "start_time": "2022-12-08T18:52:04.626Z"
   },
   {
    "duration": 10,
    "start_time": "2022-12-08T18:52:04.642Z"
   },
   {
    "duration": 38,
    "start_time": "2022-12-08T18:52:04.654Z"
   },
   {
    "duration": 30,
    "start_time": "2022-12-08T18:52:04.693Z"
   },
   {
    "duration": 12,
    "start_time": "2022-12-08T18:52:04.724Z"
   },
   {
    "duration": 1939,
    "start_time": "2022-12-08T18:52:04.737Z"
   },
   {
    "duration": 4,
    "start_time": "2022-12-08T18:52:06.678Z"
   },
   {
    "duration": 19,
    "start_time": "2022-12-08T18:52:06.684Z"
   },
   {
    "duration": 7,
    "start_time": "2022-12-08T18:52:06.705Z"
   },
   {
    "duration": 11,
    "start_time": "2022-12-08T18:52:06.715Z"
   },
   {
    "duration": 10,
    "start_time": "2022-12-08T18:52:06.728Z"
   },
   {
    "duration": 9,
    "start_time": "2022-12-08T18:52:06.739Z"
   },
   {
    "duration": 7,
    "start_time": "2022-12-08T18:52:06.750Z"
   },
   {
    "duration": 10,
    "start_time": "2022-12-08T18:52:06.759Z"
   },
   {
    "duration": 6,
    "start_time": "2022-12-08T18:52:06.770Z"
   },
   {
    "duration": 3,
    "start_time": "2022-12-08T18:52:06.777Z"
   },
   {
    "duration": 44,
    "start_time": "2022-12-08T18:52:06.782Z"
   },
   {
    "duration": 10,
    "start_time": "2022-12-08T18:52:06.828Z"
   },
   {
    "duration": 1279,
    "start_time": "2022-12-08T18:52:06.839Z"
   },
   {
    "duration": 3350,
    "start_time": "2022-12-08T18:52:08.120Z"
   },
   {
    "duration": 61,
    "start_time": "2022-12-08T18:52:11.472Z"
   },
   {
    "duration": 94,
    "start_time": "2022-12-08T18:52:11.535Z"
   },
   {
    "duration": 124,
    "start_time": "2022-12-08T18:52:11.631Z"
   },
   {
    "duration": 110,
    "start_time": "2022-12-08T18:52:11.757Z"
   },
   {
    "duration": 64,
    "start_time": "2022-12-08T18:52:11.869Z"
   },
   {
    "duration": 229,
    "start_time": "2022-12-08T18:52:11.935Z"
   },
   {
    "duration": 1,
    "start_time": "2022-12-08T18:52:12.165Z"
   },
   {
    "duration": 0,
    "start_time": "2022-12-08T18:52:12.167Z"
   },
   {
    "duration": 0,
    "start_time": "2022-12-08T18:52:12.169Z"
   },
   {
    "duration": 0,
    "start_time": "2022-12-08T18:52:12.170Z"
   },
   {
    "duration": 29,
    "start_time": "2022-12-08T18:54:25.632Z"
   },
   {
    "duration": 11,
    "start_time": "2022-12-08T18:55:12.990Z"
   },
   {
    "duration": 12,
    "start_time": "2022-12-08T18:56:12.727Z"
   },
   {
    "duration": 4,
    "start_time": "2022-12-08T18:56:18.932Z"
   },
   {
    "duration": 45,
    "start_time": "2022-12-08T18:56:18.937Z"
   },
   {
    "duration": 13,
    "start_time": "2022-12-08T18:56:18.984Z"
   },
   {
    "duration": 21,
    "start_time": "2022-12-08T18:56:18.999Z"
   },
   {
    "duration": 17,
    "start_time": "2022-12-08T18:56:19.023Z"
   },
   {
    "duration": 16,
    "start_time": "2022-12-08T18:56:19.041Z"
   },
   {
    "duration": 41,
    "start_time": "2022-12-08T18:56:19.059Z"
   },
   {
    "duration": 21,
    "start_time": "2022-12-08T18:56:19.101Z"
   },
   {
    "duration": 17,
    "start_time": "2022-12-08T18:56:19.123Z"
   },
   {
    "duration": 1345,
    "start_time": "2022-12-08T18:56:19.142Z"
   },
   {
    "duration": 4,
    "start_time": "2022-12-08T18:56:20.489Z"
   },
   {
    "duration": 14,
    "start_time": "2022-12-08T18:56:20.494Z"
   },
   {
    "duration": 13,
    "start_time": "2022-12-08T18:56:20.509Z"
   },
   {
    "duration": 13,
    "start_time": "2022-12-08T18:56:20.524Z"
   },
   {
    "duration": 25,
    "start_time": "2022-12-08T18:56:20.538Z"
   },
   {
    "duration": 14,
    "start_time": "2022-12-08T18:56:20.564Z"
   },
   {
    "duration": 13,
    "start_time": "2022-12-08T18:56:20.580Z"
   },
   {
    "duration": 16,
    "start_time": "2022-12-08T18:56:20.595Z"
   },
   {
    "duration": 10,
    "start_time": "2022-12-08T18:56:20.612Z"
   },
   {
    "duration": 7,
    "start_time": "2022-12-08T18:56:20.624Z"
   },
   {
    "duration": 26,
    "start_time": "2022-12-08T18:56:20.632Z"
   },
   {
    "duration": 10,
    "start_time": "2022-12-08T18:56:20.660Z"
   },
   {
    "duration": 1275,
    "start_time": "2022-12-08T18:56:20.671Z"
   },
   {
    "duration": 3355,
    "start_time": "2022-12-08T18:56:21.948Z"
   },
   {
    "duration": 36,
    "start_time": "2022-12-08T18:56:25.305Z"
   },
   {
    "duration": 190,
    "start_time": "2022-12-08T18:56:25.343Z"
   },
   {
    "duration": 47,
    "start_time": "2022-12-08T18:56:25.535Z"
   },
   {
    "duration": 103,
    "start_time": "2022-12-08T18:56:25.583Z"
   },
   {
    "duration": 36,
    "start_time": "2022-12-08T18:56:25.688Z"
   },
   {
    "duration": 108,
    "start_time": "2022-12-08T18:56:25.727Z"
   },
   {
    "duration": 2269,
    "start_time": "2022-12-08T18:56:25.836Z"
   },
   {
    "duration": 6117,
    "start_time": "2022-12-08T18:56:28.107Z"
   },
   {
    "duration": 100,
    "start_time": "2022-12-08T18:56:34.225Z"
   },
   {
    "duration": 384,
    "start_time": "2022-12-08T18:56:34.327Z"
   },
   {
    "duration": 12,
    "start_time": "2022-12-08T18:56:45.562Z"
   },
   {
    "duration": 1654,
    "start_time": "2022-12-08T18:56:47.068Z"
   },
   {
    "duration": 4719,
    "start_time": "2022-12-08T18:56:48.724Z"
   },
   {
    "duration": 4,
    "start_time": "2022-12-08T18:57:16.001Z"
   },
   {
    "duration": 52,
    "start_time": "2022-12-08T18:57:16.006Z"
   },
   {
    "duration": 12,
    "start_time": "2022-12-08T18:57:16.059Z"
   },
   {
    "duration": 10,
    "start_time": "2022-12-08T18:57:16.073Z"
   },
   {
    "duration": 15,
    "start_time": "2022-12-08T18:57:16.085Z"
   },
   {
    "duration": 10,
    "start_time": "2022-12-08T18:57:16.101Z"
   },
   {
    "duration": 46,
    "start_time": "2022-12-08T18:57:16.112Z"
   },
   {
    "duration": 3,
    "start_time": "2022-12-08T18:57:16.160Z"
   },
   {
    "duration": 10,
    "start_time": "2022-12-08T18:57:16.165Z"
   },
   {
    "duration": 1605,
    "start_time": "2022-12-08T18:57:16.176Z"
   },
   {
    "duration": 4,
    "start_time": "2022-12-08T18:57:17.783Z"
   },
   {
    "duration": 17,
    "start_time": "2022-12-08T18:57:17.788Z"
   },
   {
    "duration": 9,
    "start_time": "2022-12-08T18:57:17.807Z"
   },
   {
    "duration": 13,
    "start_time": "2022-12-08T18:57:17.824Z"
   },
   {
    "duration": 11,
    "start_time": "2022-12-08T18:57:17.839Z"
   },
   {
    "duration": 6,
    "start_time": "2022-12-08T18:57:17.851Z"
   },
   {
    "duration": 7,
    "start_time": "2022-12-08T18:57:17.858Z"
   },
   {
    "duration": 13,
    "start_time": "2022-12-08T18:57:17.866Z"
   },
   {
    "duration": 6,
    "start_time": "2022-12-08T18:57:17.881Z"
   },
   {
    "duration": 36,
    "start_time": "2022-12-08T18:57:17.888Z"
   },
   {
    "duration": 27,
    "start_time": "2022-12-08T18:57:17.934Z"
   },
   {
    "duration": 10,
    "start_time": "2022-12-08T18:57:17.962Z"
   },
   {
    "duration": 1363,
    "start_time": "2022-12-08T18:57:17.973Z"
   },
   {
    "duration": 3634,
    "start_time": "2022-12-08T18:57:19.338Z"
   },
   {
    "duration": 60,
    "start_time": "2022-12-08T18:57:22.974Z"
   },
   {
    "duration": 88,
    "start_time": "2022-12-08T18:57:23.039Z"
   },
   {
    "duration": 50,
    "start_time": "2022-12-08T18:57:23.130Z"
   },
   {
    "duration": 111,
    "start_time": "2022-12-08T18:57:23.183Z"
   },
   {
    "duration": 138,
    "start_time": "2022-12-08T18:57:23.295Z"
   },
   {
    "duration": 15,
    "start_time": "2022-12-08T18:57:23.436Z"
   },
   {
    "duration": 1639,
    "start_time": "2022-12-08T18:57:23.452Z"
   },
   {
    "duration": 4372,
    "start_time": "2022-12-08T18:57:25.093Z"
   },
   {
    "duration": 61,
    "start_time": "2022-12-08T18:57:29.467Z"
   },
   {
    "duration": 283,
    "start_time": "2022-12-08T18:57:29.530Z"
   },
   {
    "duration": 4,
    "start_time": "2022-12-08T18:57:34.991Z"
   },
   {
    "duration": 41,
    "start_time": "2022-12-08T18:57:34.998Z"
   },
   {
    "duration": 11,
    "start_time": "2022-12-08T18:57:35.041Z"
   },
   {
    "duration": 7,
    "start_time": "2022-12-08T18:57:35.054Z"
   },
   {
    "duration": 14,
    "start_time": "2022-12-08T18:57:35.063Z"
   },
   {
    "duration": 10,
    "start_time": "2022-12-08T18:57:35.079Z"
   },
   {
    "duration": 55,
    "start_time": "2022-12-08T18:57:35.091Z"
   },
   {
    "duration": 3,
    "start_time": "2022-12-08T18:57:35.148Z"
   },
   {
    "duration": 39,
    "start_time": "2022-12-08T18:57:35.152Z"
   },
   {
    "duration": 1595,
    "start_time": "2022-12-08T18:57:35.193Z"
   },
   {
    "duration": 4,
    "start_time": "2022-12-08T18:57:36.790Z"
   },
   {
    "duration": 16,
    "start_time": "2022-12-08T18:57:36.795Z"
   },
   {
    "duration": 5,
    "start_time": "2022-12-08T18:57:36.821Z"
   },
   {
    "duration": 10,
    "start_time": "2022-12-08T18:57:36.828Z"
   },
   {
    "duration": 11,
    "start_time": "2022-12-08T18:57:36.839Z"
   },
   {
    "duration": 7,
    "start_time": "2022-12-08T18:57:36.851Z"
   },
   {
    "duration": 9,
    "start_time": "2022-12-08T18:57:36.860Z"
   },
   {
    "duration": 13,
    "start_time": "2022-12-08T18:57:36.871Z"
   },
   {
    "duration": 7,
    "start_time": "2022-12-08T18:57:36.885Z"
   },
   {
    "duration": 30,
    "start_time": "2022-12-08T18:57:36.893Z"
   },
   {
    "duration": 27,
    "start_time": "2022-12-08T18:57:36.924Z"
   },
   {
    "duration": 10,
    "start_time": "2022-12-08T18:57:36.952Z"
   },
   {
    "duration": 1285,
    "start_time": "2022-12-08T18:57:36.964Z"
   },
   {
    "duration": 3381,
    "start_time": "2022-12-08T18:57:38.250Z"
   },
   {
    "duration": 88,
    "start_time": "2022-12-08T18:57:41.633Z"
   },
   {
    "duration": 9,
    "start_time": "2022-12-08T18:57:41.723Z"
   },
   {
    "duration": 111,
    "start_time": "2022-12-08T18:57:41.736Z"
   },
   {
    "duration": 108,
    "start_time": "2022-12-08T18:57:41.849Z"
   },
   {
    "duration": 66,
    "start_time": "2022-12-08T18:57:41.959Z"
   },
   {
    "duration": 96,
    "start_time": "2022-12-08T18:57:42.027Z"
   },
   {
    "duration": 1636,
    "start_time": "2022-12-08T18:57:42.125Z"
   },
   {
    "duration": 4611,
    "start_time": "2022-12-08T18:57:43.763Z"
   },
   {
    "duration": 55,
    "start_time": "2022-12-08T18:57:48.375Z"
   },
   {
    "duration": 333,
    "start_time": "2022-12-08T18:57:48.431Z"
   },
   {
    "duration": 4,
    "start_time": "2022-12-08T18:57:52.430Z"
   },
   {
    "duration": 54,
    "start_time": "2022-12-08T18:57:52.437Z"
   },
   {
    "duration": 13,
    "start_time": "2022-12-08T18:57:52.492Z"
   },
   {
    "duration": 6,
    "start_time": "2022-12-08T18:57:52.506Z"
   },
   {
    "duration": 18,
    "start_time": "2022-12-08T18:57:52.514Z"
   },
   {
    "duration": 10,
    "start_time": "2022-12-08T18:57:52.534Z"
   },
   {
    "duration": 37,
    "start_time": "2022-12-08T18:57:52.546Z"
   },
   {
    "duration": 3,
    "start_time": "2022-12-08T18:57:52.585Z"
   },
   {
    "duration": 17,
    "start_time": "2022-12-08T18:57:52.590Z"
   },
   {
    "duration": 1417,
    "start_time": "2022-12-08T18:57:52.609Z"
   },
   {
    "duration": 4,
    "start_time": "2022-12-08T18:57:54.027Z"
   },
   {
    "duration": 26,
    "start_time": "2022-12-08T18:57:54.033Z"
   },
   {
    "duration": 13,
    "start_time": "2022-12-08T18:57:54.060Z"
   },
   {
    "duration": 9,
    "start_time": "2022-12-08T18:57:54.076Z"
   },
   {
    "duration": 10,
    "start_time": "2022-12-08T18:57:54.087Z"
   },
   {
    "duration": 7,
    "start_time": "2022-12-08T18:57:54.098Z"
   },
   {
    "duration": 7,
    "start_time": "2022-12-08T18:57:54.106Z"
   },
   {
    "duration": 14,
    "start_time": "2022-12-08T18:57:54.115Z"
   },
   {
    "duration": 6,
    "start_time": "2022-12-08T18:57:54.130Z"
   },
   {
    "duration": 3,
    "start_time": "2022-12-08T18:57:54.138Z"
   },
   {
    "duration": 27,
    "start_time": "2022-12-08T18:57:54.142Z"
   },
   {
    "duration": 10,
    "start_time": "2022-12-08T18:57:54.170Z"
   },
   {
    "duration": 1313,
    "start_time": "2022-12-08T18:57:54.181Z"
   },
   {
    "duration": 3368,
    "start_time": "2022-12-08T18:57:55.495Z"
   },
   {
    "duration": 156,
    "start_time": "2022-12-08T18:57:58.865Z"
   },
   {
    "duration": 5,
    "start_time": "2022-12-08T18:57:59.023Z"
   },
   {
    "duration": 42,
    "start_time": "2022-12-08T18:57:59.030Z"
   },
   {
    "duration": 122,
    "start_time": "2022-12-08T18:57:59.073Z"
   },
   {
    "duration": 125,
    "start_time": "2022-12-08T18:57:59.197Z"
   },
   {
    "duration": 100,
    "start_time": "2022-12-08T18:57:59.324Z"
   },
   {
    "duration": 1376,
    "start_time": "2022-12-08T18:57:59.426Z"
   },
   {
    "duration": 3869,
    "start_time": "2022-12-08T18:58:00.804Z"
   },
   {
    "duration": 60,
    "start_time": "2022-12-08T18:58:04.674Z"
   },
   {
    "duration": 300,
    "start_time": "2022-12-08T18:58:04.736Z"
   },
   {
    "duration": 12,
    "start_time": "2022-12-08T18:58:09.914Z"
   },
   {
    "duration": 1585,
    "start_time": "2022-12-08T18:58:11.011Z"
   },
   {
    "duration": 11,
    "start_time": "2022-12-08T18:58:24.375Z"
   },
   {
    "duration": 1911,
    "start_time": "2022-12-08T18:58:25.673Z"
   },
   {
    "duration": 12,
    "start_time": "2022-12-08T18:58:34.170Z"
   },
   {
    "duration": 1885,
    "start_time": "2022-12-08T18:58:36.111Z"
   },
   {
    "duration": 15,
    "start_time": "2022-12-08T18:58:45.614Z"
   },
   {
    "duration": 1760,
    "start_time": "2022-12-08T18:58:47.969Z"
   },
   {
    "duration": 4899,
    "start_time": "2022-12-08T18:58:49.731Z"
   },
   {
    "duration": 11,
    "start_time": "2022-12-08T18:59:07.604Z"
   },
   {
    "duration": 1893,
    "start_time": "2022-12-08T18:59:08.128Z"
   },
   {
    "duration": 5202,
    "start_time": "2022-12-08T18:59:10.023Z"
   },
   {
    "duration": 11,
    "start_time": "2022-12-08T18:59:15.997Z"
   },
   {
    "duration": 1723,
    "start_time": "2022-12-08T18:59:17.205Z"
   },
   {
    "duration": 4,
    "start_time": "2022-12-08T18:59:26.801Z"
   },
   {
    "duration": 40,
    "start_time": "2022-12-08T18:59:26.807Z"
   },
   {
    "duration": 12,
    "start_time": "2022-12-08T18:59:26.849Z"
   },
   {
    "duration": 7,
    "start_time": "2022-12-08T18:59:26.862Z"
   },
   {
    "duration": 15,
    "start_time": "2022-12-08T18:59:26.871Z"
   },
   {
    "duration": 11,
    "start_time": "2022-12-08T18:59:26.887Z"
   },
   {
    "duration": 55,
    "start_time": "2022-12-08T18:59:26.900Z"
   },
   {
    "duration": 4,
    "start_time": "2022-12-08T18:59:26.956Z"
   },
   {
    "duration": 14,
    "start_time": "2022-12-08T18:59:26.962Z"
   },
   {
    "duration": 1621,
    "start_time": "2022-12-08T18:59:26.977Z"
   },
   {
    "duration": 4,
    "start_time": "2022-12-08T18:59:28.600Z"
   },
   {
    "duration": 22,
    "start_time": "2022-12-08T18:59:28.606Z"
   },
   {
    "duration": 12,
    "start_time": "2022-12-08T18:59:28.630Z"
   },
   {
    "duration": 11,
    "start_time": "2022-12-08T18:59:28.646Z"
   },
   {
    "duration": 14,
    "start_time": "2022-12-08T18:59:28.659Z"
   },
   {
    "duration": 7,
    "start_time": "2022-12-08T18:59:28.674Z"
   },
   {
    "duration": 10,
    "start_time": "2022-12-08T18:59:28.683Z"
   },
   {
    "duration": 32,
    "start_time": "2022-12-08T18:59:28.695Z"
   },
   {
    "duration": 6,
    "start_time": "2022-12-08T18:59:28.729Z"
   },
   {
    "duration": 10,
    "start_time": "2022-12-08T18:59:28.736Z"
   },
   {
    "duration": 33,
    "start_time": "2022-12-08T18:59:28.748Z"
   },
   {
    "duration": 10,
    "start_time": "2022-12-08T18:59:28.783Z"
   },
   {
    "duration": 1303,
    "start_time": "2022-12-08T18:59:28.795Z"
   },
   {
    "duration": 3433,
    "start_time": "2022-12-08T18:59:30.100Z"
   },
   {
    "duration": 87,
    "start_time": "2022-12-08T18:59:33.535Z"
   },
   {
    "duration": 12,
    "start_time": "2022-12-08T18:59:33.623Z"
   },
   {
    "duration": 38,
    "start_time": "2022-12-08T18:59:33.721Z"
   },
   {
    "duration": 121,
    "start_time": "2022-12-08T18:59:33.760Z"
   },
   {
    "duration": 44,
    "start_time": "2022-12-08T18:59:33.883Z"
   },
   {
    "duration": 113,
    "start_time": "2022-12-08T18:59:33.929Z"
   },
   {
    "duration": 2051,
    "start_time": "2022-12-08T18:59:34.044Z"
   },
   {
    "duration": 5484,
    "start_time": "2022-12-08T18:59:36.097Z"
   },
   {
    "duration": 52,
    "start_time": "2022-12-08T18:59:41.583Z"
   },
   {
    "duration": 395,
    "start_time": "2022-12-08T18:59:41.720Z"
   },
   {
    "duration": 13,
    "start_time": "2022-12-08T18:59:59.477Z"
   },
   {
    "duration": 1698,
    "start_time": "2022-12-08T19:00:01.560Z"
   },
   {
    "duration": 12,
    "start_time": "2022-12-08T19:00:10.127Z"
   },
   {
    "duration": 1525,
    "start_time": "2022-12-08T19:00:12.168Z"
   },
   {
    "duration": 4284,
    "start_time": "2022-12-08T19:00:18.173Z"
   },
   {
    "duration": 225,
    "start_time": "2022-12-08T19:00:25.801Z"
   },
   {
    "duration": 10,
    "start_time": "2022-12-08T19:01:26.747Z"
   },
   {
    "duration": 458,
    "start_time": "2022-12-08T19:02:51.639Z"
   },
   {
    "duration": 210,
    "start_time": "2022-12-08T19:05:00.505Z"
   },
   {
    "duration": 210,
    "start_time": "2022-12-08T19:05:28.334Z"
   },
   {
    "duration": 127,
    "start_time": "2022-12-08T19:06:35.068Z"
   },
   {
    "duration": 211,
    "start_time": "2022-12-08T19:06:42.656Z"
   },
   {
    "duration": 17,
    "start_time": "2022-12-08T19:07:32.501Z"
   },
   {
    "duration": 223,
    "start_time": "2022-12-08T19:08:46.932Z"
   },
   {
    "duration": 211,
    "start_time": "2022-12-08T19:08:57.648Z"
   },
   {
    "duration": 1120,
    "start_time": "2022-12-09T06:36:50.609Z"
   },
   {
    "duration": 107,
    "start_time": "2022-12-09T06:36:51.731Z"
   },
   {
    "duration": 18,
    "start_time": "2022-12-09T06:36:51.839Z"
   },
   {
    "duration": 3,
    "start_time": "2022-12-09T06:36:51.859Z"
   },
   {
    "duration": 15,
    "start_time": "2022-12-09T06:36:51.863Z"
   },
   {
    "duration": 10,
    "start_time": "2022-12-09T06:36:51.879Z"
   },
   {
    "duration": 40,
    "start_time": "2022-12-09T06:36:51.890Z"
   },
   {
    "duration": 3,
    "start_time": "2022-12-09T06:36:51.932Z"
   },
   {
    "duration": 9,
    "start_time": "2022-12-09T06:36:51.936Z"
   },
   {
    "duration": 2011,
    "start_time": "2022-12-09T06:36:51.947Z"
   },
   {
    "duration": 5,
    "start_time": "2022-12-09T06:36:53.960Z"
   },
   {
    "duration": 24,
    "start_time": "2022-12-09T06:36:53.966Z"
   },
   {
    "duration": 10,
    "start_time": "2022-12-09T06:36:53.991Z"
   },
   {
    "duration": 21,
    "start_time": "2022-12-09T06:36:54.006Z"
   },
   {
    "duration": 14,
    "start_time": "2022-12-09T06:36:54.029Z"
   },
   {
    "duration": 5,
    "start_time": "2022-12-09T06:36:54.046Z"
   },
   {
    "duration": 12,
    "start_time": "2022-12-09T06:36:54.053Z"
   },
   {
    "duration": 14,
    "start_time": "2022-12-09T06:36:54.067Z"
   },
   {
    "duration": 18,
    "start_time": "2022-12-09T06:36:54.083Z"
   },
   {
    "duration": 10,
    "start_time": "2022-12-09T06:36:54.103Z"
   },
   {
    "duration": 50,
    "start_time": "2022-12-09T06:36:54.115Z"
   },
   {
    "duration": 13,
    "start_time": "2022-12-09T06:36:54.167Z"
   },
   {
    "duration": 1403,
    "start_time": "2022-12-09T06:36:54.181Z"
   },
   {
    "duration": 3573,
    "start_time": "2022-12-09T06:36:55.587Z"
   },
   {
    "duration": 38,
    "start_time": "2022-12-09T06:36:59.162Z"
   },
   {
    "duration": 9,
    "start_time": "2022-12-09T06:36:59.203Z"
   },
   {
    "duration": 48,
    "start_time": "2022-12-09T06:36:59.297Z"
   },
   {
    "duration": 126,
    "start_time": "2022-12-09T06:36:59.347Z"
   },
   {
    "duration": 32,
    "start_time": "2022-12-09T06:36:59.474Z"
   },
   {
    "duration": 110,
    "start_time": "2022-12-09T06:36:59.508Z"
   },
   {
    "duration": 1671,
    "start_time": "2022-12-09T06:36:59.620Z"
   },
   {
    "duration": 21,
    "start_time": "2022-12-09T06:37:41.388Z"
   },
   {
    "duration": 46,
    "start_time": "2022-12-09T06:37:41.413Z"
   },
   {
    "duration": 12,
    "start_time": "2022-12-09T06:37:41.460Z"
   },
   {
    "duration": 8,
    "start_time": "2022-12-09T06:37:41.474Z"
   },
   {
    "duration": 15,
    "start_time": "2022-12-09T06:37:41.484Z"
   },
   {
    "duration": 15,
    "start_time": "2022-12-09T06:37:41.501Z"
   },
   {
    "duration": 38,
    "start_time": "2022-12-09T06:37:41.518Z"
   },
   {
    "duration": 3,
    "start_time": "2022-12-09T06:37:41.558Z"
   },
   {
    "duration": 13,
    "start_time": "2022-12-09T06:37:41.563Z"
   },
   {
    "duration": 1562,
    "start_time": "2022-12-09T06:37:41.577Z"
   },
   {
    "duration": 4,
    "start_time": "2022-12-09T06:37:43.141Z"
   },
   {
    "duration": 13,
    "start_time": "2022-12-09T06:37:43.146Z"
   },
   {
    "duration": 7,
    "start_time": "2022-12-09T06:37:43.161Z"
   },
   {
    "duration": 10,
    "start_time": "2022-12-09T06:37:43.170Z"
   },
   {
    "duration": 31,
    "start_time": "2022-12-09T06:37:43.181Z"
   },
   {
    "duration": 8,
    "start_time": "2022-12-09T06:37:43.213Z"
   },
   {
    "duration": 17,
    "start_time": "2022-12-09T06:37:43.223Z"
   },
   {
    "duration": 11,
    "start_time": "2022-12-09T06:37:43.241Z"
   },
   {
    "duration": 7,
    "start_time": "2022-12-09T06:37:43.254Z"
   },
   {
    "duration": 3,
    "start_time": "2022-12-09T06:37:43.262Z"
   },
   {
    "duration": 49,
    "start_time": "2022-12-09T06:37:43.267Z"
   },
   {
    "duration": 11,
    "start_time": "2022-12-09T06:37:43.318Z"
   },
   {
    "duration": 4,
    "start_time": "2022-12-09T06:37:55.628Z"
   },
   {
    "duration": 51,
    "start_time": "2022-12-09T06:37:55.634Z"
   },
   {
    "duration": 15,
    "start_time": "2022-12-09T06:37:55.687Z"
   },
   {
    "duration": 19,
    "start_time": "2022-12-09T06:37:55.705Z"
   },
   {
    "duration": 12,
    "start_time": "2022-12-09T06:37:55.726Z"
   },
   {
    "duration": 11,
    "start_time": "2022-12-09T06:37:55.740Z"
   },
   {
    "duration": 37,
    "start_time": "2022-12-09T06:37:55.753Z"
   },
   {
    "duration": 4,
    "start_time": "2022-12-09T06:37:55.796Z"
   },
   {
    "duration": 20,
    "start_time": "2022-12-09T06:37:55.802Z"
   },
   {
    "duration": 1596,
    "start_time": "2022-12-09T06:37:55.824Z"
   },
   {
    "duration": 4,
    "start_time": "2022-12-09T06:37:57.423Z"
   },
   {
    "duration": 17,
    "start_time": "2022-12-09T06:37:57.429Z"
   },
   {
    "duration": 8,
    "start_time": "2022-12-09T06:37:57.447Z"
   },
   {
    "duration": 15,
    "start_time": "2022-12-09T06:37:57.457Z"
   },
   {
    "duration": 28,
    "start_time": "2022-12-09T06:37:57.473Z"
   },
   {
    "duration": 43,
    "start_time": "2022-12-09T06:37:57.503Z"
   },
   {
    "duration": 9,
    "start_time": "2022-12-09T06:37:57.547Z"
   },
   {
    "duration": 11,
    "start_time": "2022-12-09T06:37:57.558Z"
   },
   {
    "duration": 6,
    "start_time": "2022-12-09T06:37:57.571Z"
   },
   {
    "duration": 4,
    "start_time": "2022-12-09T06:37:57.578Z"
   },
   {
    "duration": 35,
    "start_time": "2022-12-09T06:37:57.583Z"
   },
   {
    "duration": 12,
    "start_time": "2022-12-09T06:37:57.619Z"
   },
   {
    "duration": 1447,
    "start_time": "2022-12-09T06:37:57.633Z"
   },
   {
    "duration": 3724,
    "start_time": "2022-12-09T06:37:59.081Z"
   },
   {
    "duration": 98,
    "start_time": "2022-12-09T06:38:02.808Z"
   },
   {
    "duration": 99,
    "start_time": "2022-12-09T06:38:02.908Z"
   },
   {
    "duration": 44,
    "start_time": "2022-12-09T06:38:03.009Z"
   },
   {
    "duration": 145,
    "start_time": "2022-12-09T06:38:03.055Z"
   },
   {
    "duration": 96,
    "start_time": "2022-12-09T06:38:03.203Z"
   },
   {
    "duration": 99,
    "start_time": "2022-12-09T06:38:03.304Z"
   },
   {
    "duration": 1753,
    "start_time": "2022-12-09T06:38:03.406Z"
   },
   {
    "duration": 4519,
    "start_time": "2022-12-09T06:38:05.162Z"
   },
   {
    "duration": 44,
    "start_time": "2022-12-09T06:38:09.683Z"
   },
   {
    "duration": 99,
    "start_time": "2022-12-09T06:38:09.801Z"
   },
   {
    "duration": 47,
    "start_time": "2022-12-09T06:38:09.903Z"
   },
   {
    "duration": 261,
    "start_time": "2022-12-09T06:38:09.952Z"
   },
   {
    "duration": 893,
    "start_time": "2022-12-09T06:39:37.725Z"
   },
   {
    "duration": 219,
    "start_time": "2022-12-09T06:39:52.325Z"
   },
   {
    "duration": 4,
    "start_time": "2022-12-09T06:48:35.411Z"
   },
   {
    "duration": 5,
    "start_time": "2022-12-09T07:03:45.011Z"
   },
   {
    "duration": 55,
    "start_time": "2022-12-09T07:03:45.019Z"
   },
   {
    "duration": 14,
    "start_time": "2022-12-09T07:03:45.076Z"
   },
   {
    "duration": 18,
    "start_time": "2022-12-09T07:03:45.092Z"
   },
   {
    "duration": 17,
    "start_time": "2022-12-09T07:03:45.111Z"
   },
   {
    "duration": 19,
    "start_time": "2022-12-09T07:03:45.129Z"
   },
   {
    "duration": 41,
    "start_time": "2022-12-09T07:03:45.149Z"
   },
   {
    "duration": 4,
    "start_time": "2022-12-09T07:03:45.191Z"
   },
   {
    "duration": 27,
    "start_time": "2022-12-09T07:03:45.196Z"
   },
   {
    "duration": 1640,
    "start_time": "2022-12-09T07:03:45.226Z"
   },
   {
    "duration": 5,
    "start_time": "2022-12-09T07:03:46.868Z"
   },
   {
    "duration": 28,
    "start_time": "2022-12-09T07:03:46.874Z"
   },
   {
    "duration": 16,
    "start_time": "2022-12-09T07:03:46.904Z"
   },
   {
    "duration": 10,
    "start_time": "2022-12-09T07:03:46.922Z"
   },
   {
    "duration": 10,
    "start_time": "2022-12-09T07:03:46.933Z"
   },
   {
    "duration": 5,
    "start_time": "2022-12-09T07:03:46.944Z"
   },
   {
    "duration": 7,
    "start_time": "2022-12-09T07:03:46.951Z"
   },
   {
    "duration": 55,
    "start_time": "2022-12-09T07:03:46.959Z"
   },
   {
    "duration": 0,
    "start_time": "2022-12-09T07:03:47.016Z"
   },
   {
    "duration": 0,
    "start_time": "2022-12-09T07:03:47.017Z"
   },
   {
    "duration": 0,
    "start_time": "2022-12-09T07:03:47.018Z"
   },
   {
    "duration": 0,
    "start_time": "2022-12-09T07:03:47.019Z"
   },
   {
    "duration": 0,
    "start_time": "2022-12-09T07:03:47.021Z"
   },
   {
    "duration": 0,
    "start_time": "2022-12-09T07:03:47.022Z"
   },
   {
    "duration": 0,
    "start_time": "2022-12-09T07:03:47.023Z"
   },
   {
    "duration": 0,
    "start_time": "2022-12-09T07:03:47.024Z"
   },
   {
    "duration": 0,
    "start_time": "2022-12-09T07:03:47.025Z"
   },
   {
    "duration": 0,
    "start_time": "2022-12-09T07:03:47.026Z"
   },
   {
    "duration": 0,
    "start_time": "2022-12-09T07:03:47.027Z"
   },
   {
    "duration": 0,
    "start_time": "2022-12-09T07:03:47.027Z"
   },
   {
    "duration": 0,
    "start_time": "2022-12-09T07:03:47.028Z"
   },
   {
    "duration": 0,
    "start_time": "2022-12-09T07:03:47.030Z"
   },
   {
    "duration": 0,
    "start_time": "2022-12-09T07:03:47.031Z"
   },
   {
    "duration": 0,
    "start_time": "2022-12-09T07:03:47.032Z"
   },
   {
    "duration": 0,
    "start_time": "2022-12-09T07:03:47.034Z"
   },
   {
    "duration": 0,
    "start_time": "2022-12-09T07:03:47.035Z"
   },
   {
    "duration": 11,
    "start_time": "2022-12-09T07:04:07.258Z"
   },
   {
    "duration": 4,
    "start_time": "2022-12-09T07:05:19.325Z"
   },
   {
    "duration": 56,
    "start_time": "2022-12-09T07:05:19.350Z"
   },
   {
    "duration": 12,
    "start_time": "2022-12-09T07:05:19.409Z"
   },
   {
    "duration": 17,
    "start_time": "2022-12-09T07:05:19.422Z"
   },
   {
    "duration": 15,
    "start_time": "2022-12-09T07:05:19.441Z"
   },
   {
    "duration": 27,
    "start_time": "2022-12-09T07:05:19.458Z"
   },
   {
    "duration": 39,
    "start_time": "2022-12-09T07:05:19.486Z"
   },
   {
    "duration": 4,
    "start_time": "2022-12-09T07:05:19.527Z"
   },
   {
    "duration": 13,
    "start_time": "2022-12-09T07:05:19.532Z"
   },
   {
    "duration": 1406,
    "start_time": "2022-12-09T07:05:19.547Z"
   },
   {
    "duration": 4,
    "start_time": "2022-12-09T07:05:20.955Z"
   },
   {
    "duration": 15,
    "start_time": "2022-12-09T07:05:20.961Z"
   },
   {
    "duration": 8,
    "start_time": "2022-12-09T07:05:20.977Z"
   },
   {
    "duration": 22,
    "start_time": "2022-12-09T07:05:20.997Z"
   },
   {
    "duration": 13,
    "start_time": "2022-12-09T07:05:21.020Z"
   },
   {
    "duration": 6,
    "start_time": "2022-12-09T07:05:21.035Z"
   },
   {
    "duration": 7,
    "start_time": "2022-12-09T07:05:21.043Z"
   },
   {
    "duration": 160,
    "start_time": "2022-12-09T07:05:21.052Z"
   },
   {
    "duration": 6,
    "start_time": "2022-12-09T07:05:21.215Z"
   },
   {
    "duration": 5,
    "start_time": "2022-12-09T07:05:21.223Z"
   },
   {
    "duration": 24,
    "start_time": "2022-12-09T07:05:21.230Z"
   },
   {
    "duration": 11,
    "start_time": "2022-12-09T07:05:21.255Z"
   },
   {
    "duration": 1366,
    "start_time": "2022-12-09T07:05:21.267Z"
   },
   {
    "duration": 3665,
    "start_time": "2022-12-09T07:05:22.634Z"
   },
   {
    "duration": 99,
    "start_time": "2022-12-09T07:05:26.301Z"
   },
   {
    "duration": 7,
    "start_time": "2022-12-09T07:05:26.402Z"
   },
   {
    "duration": 124,
    "start_time": "2022-12-09T07:05:26.413Z"
   },
   {
    "duration": 110,
    "start_time": "2022-12-09T07:05:26.538Z"
   },
   {
    "duration": 48,
    "start_time": "2022-12-09T07:05:26.651Z"
   },
   {
    "duration": 16,
    "start_time": "2022-12-09T07:05:26.700Z"
   },
   {
    "duration": 1643,
    "start_time": "2022-12-09T07:05:26.718Z"
   },
   {
    "duration": 4420,
    "start_time": "2022-12-09T07:05:28.362Z"
   },
   {
    "duration": 45,
    "start_time": "2022-12-09T07:05:32.783Z"
   },
   {
    "duration": 105,
    "start_time": "2022-12-09T07:05:32.898Z"
   },
   {
    "duration": 38,
    "start_time": "2022-12-09T07:05:33.004Z"
   },
   {
    "duration": 227,
    "start_time": "2022-12-09T07:05:33.043Z"
   },
   {
    "duration": 2,
    "start_time": "2022-12-09T07:06:47.350Z"
   },
   {
    "duration": 127,
    "start_time": "2022-12-09T07:33:36.100Z"
   },
   {
    "duration": 10,
    "start_time": "2022-12-09T07:33:41.623Z"
   },
   {
    "duration": 10,
    "start_time": "2022-12-09T07:38:16.703Z"
   },
   {
    "duration": 198,
    "start_time": "2022-12-09T07:38:22.693Z"
   },
   {
    "duration": 3,
    "start_time": "2022-12-09T07:45:48.873Z"
   },
   {
    "duration": 8,
    "start_time": "2022-12-09T07:45:53.776Z"
   },
   {
    "duration": 11,
    "start_time": "2022-12-09T07:46:13.451Z"
   },
   {
    "duration": 3,
    "start_time": "2022-12-09T07:46:31.586Z"
   },
   {
    "duration": 37,
    "start_time": "2022-12-09T07:46:31.598Z"
   },
   {
    "duration": 11,
    "start_time": "2022-12-09T07:46:31.637Z"
   },
   {
    "duration": 15,
    "start_time": "2022-12-09T07:46:31.650Z"
   },
   {
    "duration": 14,
    "start_time": "2022-12-09T07:46:31.666Z"
   },
   {
    "duration": 11,
    "start_time": "2022-12-09T07:46:31.683Z"
   },
   {
    "duration": 34,
    "start_time": "2022-12-09T07:46:31.695Z"
   },
   {
    "duration": 2,
    "start_time": "2022-12-09T07:46:31.730Z"
   },
   {
    "duration": 22,
    "start_time": "2022-12-09T07:46:31.734Z"
   },
   {
    "duration": 6,
    "start_time": "2022-12-09T07:46:31.757Z"
   },
   {
    "duration": 1327,
    "start_time": "2022-12-09T07:46:31.765Z"
   },
   {
    "duration": 14,
    "start_time": "2022-12-09T07:46:33.097Z"
   },
   {
    "duration": 0,
    "start_time": "2022-12-09T07:46:33.113Z"
   },
   {
    "duration": 0,
    "start_time": "2022-12-09T07:46:33.114Z"
   },
   {
    "duration": 0,
    "start_time": "2022-12-09T07:46:33.116Z"
   },
   {
    "duration": 0,
    "start_time": "2022-12-09T07:46:33.118Z"
   },
   {
    "duration": 0,
    "start_time": "2022-12-09T07:46:33.119Z"
   },
   {
    "duration": 0,
    "start_time": "2022-12-09T07:46:33.121Z"
   },
   {
    "duration": 0,
    "start_time": "2022-12-09T07:46:33.122Z"
   },
   {
    "duration": 0,
    "start_time": "2022-12-09T07:46:33.123Z"
   },
   {
    "duration": 0,
    "start_time": "2022-12-09T07:46:33.125Z"
   },
   {
    "duration": 0,
    "start_time": "2022-12-09T07:46:33.126Z"
   },
   {
    "duration": 0,
    "start_time": "2022-12-09T07:46:33.127Z"
   },
   {
    "duration": 0,
    "start_time": "2022-12-09T07:46:33.129Z"
   },
   {
    "duration": 0,
    "start_time": "2022-12-09T07:46:33.131Z"
   },
   {
    "duration": 0,
    "start_time": "2022-12-09T07:46:33.132Z"
   },
   {
    "duration": 0,
    "start_time": "2022-12-09T07:46:33.134Z"
   },
   {
    "duration": 0,
    "start_time": "2022-12-09T07:46:33.135Z"
   },
   {
    "duration": 0,
    "start_time": "2022-12-09T07:46:33.137Z"
   },
   {
    "duration": 0,
    "start_time": "2022-12-09T07:46:33.149Z"
   },
   {
    "duration": 0,
    "start_time": "2022-12-09T07:46:33.197Z"
   },
   {
    "duration": 0,
    "start_time": "2022-12-09T07:46:33.198Z"
   },
   {
    "duration": 0,
    "start_time": "2022-12-09T07:46:33.200Z"
   },
   {
    "duration": 1,
    "start_time": "2022-12-09T07:46:33.200Z"
   },
   {
    "duration": 0,
    "start_time": "2022-12-09T07:46:33.202Z"
   },
   {
    "duration": 0,
    "start_time": "2022-12-09T07:46:33.203Z"
   },
   {
    "duration": 0,
    "start_time": "2022-12-09T07:46:33.203Z"
   },
   {
    "duration": 2,
    "start_time": "2022-12-09T07:48:20.537Z"
   },
   {
    "duration": 841,
    "start_time": "2022-12-09T07:48:25.753Z"
   },
   {
    "duration": 0,
    "start_time": "2022-12-09T07:48:26.595Z"
   },
   {
    "duration": 993,
    "start_time": "2022-12-09T07:48:39.120Z"
   },
   {
    "duration": 993,
    "start_time": "2022-12-09T07:49:01.191Z"
   },
   {
    "duration": 10,
    "start_time": "2022-12-09T07:52:42.269Z"
   },
   {
    "duration": 10,
    "start_time": "2022-12-09T07:52:50.852Z"
   },
   {
    "duration": 10,
    "start_time": "2022-12-09T07:52:58.475Z"
   },
   {
    "duration": 996,
    "start_time": "2022-12-09T07:54:11.999Z"
   },
   {
    "duration": 4,
    "start_time": "2022-12-09T07:54:22.874Z"
   },
   {
    "duration": 42,
    "start_time": "2022-12-09T07:54:22.880Z"
   },
   {
    "duration": 11,
    "start_time": "2022-12-09T07:54:22.923Z"
   },
   {
    "duration": 6,
    "start_time": "2022-12-09T07:54:22.936Z"
   },
   {
    "duration": 14,
    "start_time": "2022-12-09T07:54:22.943Z"
   },
   {
    "duration": 9,
    "start_time": "2022-12-09T07:54:22.958Z"
   },
   {
    "duration": 56,
    "start_time": "2022-12-09T07:54:22.969Z"
   },
   {
    "duration": 4,
    "start_time": "2022-12-09T07:54:23.026Z"
   },
   {
    "duration": 11,
    "start_time": "2022-12-09T07:54:23.031Z"
   },
   {
    "duration": 1375,
    "start_time": "2022-12-09T07:54:23.045Z"
   },
   {
    "duration": 4,
    "start_time": "2022-12-09T07:54:24.422Z"
   },
   {
    "duration": 17,
    "start_time": "2022-12-09T07:54:24.427Z"
   },
   {
    "duration": 9,
    "start_time": "2022-12-09T07:54:24.446Z"
   },
   {
    "duration": 9,
    "start_time": "2022-12-09T07:54:24.457Z"
   },
   {
    "duration": 30,
    "start_time": "2022-12-09T07:54:24.468Z"
   },
   {
    "duration": 6,
    "start_time": "2022-12-09T07:54:24.500Z"
   },
   {
    "duration": 10,
    "start_time": "2022-12-09T07:54:24.507Z"
   },
   {
    "duration": 12,
    "start_time": "2022-12-09T07:54:24.518Z"
   },
   {
    "duration": 8,
    "start_time": "2022-12-09T07:54:24.531Z"
   },
   {
    "duration": 7,
    "start_time": "2022-12-09T07:54:24.541Z"
   },
   {
    "duration": 52,
    "start_time": "2022-12-09T07:54:24.550Z"
   },
   {
    "duration": 220,
    "start_time": "2022-12-09T07:54:24.604Z"
   },
   {
    "duration": 1252,
    "start_time": "2022-12-09T07:54:24.825Z"
   },
   {
    "duration": 3275,
    "start_time": "2022-12-09T07:54:26.079Z"
   },
   {
    "duration": 146,
    "start_time": "2022-12-09T07:54:29.356Z"
   },
   {
    "duration": 6,
    "start_time": "2022-12-09T07:54:29.504Z"
   },
   {
    "duration": 31,
    "start_time": "2022-12-09T07:54:29.511Z"
   },
   {
    "duration": 132,
    "start_time": "2022-12-09T07:54:29.546Z"
   },
   {
    "duration": 34,
    "start_time": "2022-12-09T07:54:29.680Z"
   },
   {
    "duration": 89,
    "start_time": "2022-12-09T07:54:29.716Z"
   },
   {
    "duration": 1621,
    "start_time": "2022-12-09T07:54:29.807Z"
   },
   {
    "duration": 4191,
    "start_time": "2022-12-09T07:54:31.430Z"
   },
   {
    "duration": 175,
    "start_time": "2022-12-09T07:54:35.623Z"
   },
   {
    "duration": 11,
    "start_time": "2022-12-09T07:54:35.800Z"
   },
   {
    "duration": 34,
    "start_time": "2022-12-09T07:54:35.812Z"
   },
   {
    "duration": 253,
    "start_time": "2022-12-09T07:54:35.847Z"
   },
   {
    "duration": 8,
    "start_time": "2022-12-09T07:55:05.345Z"
   },
   {
    "duration": 9,
    "start_time": "2022-12-09T07:55:06.660Z"
   },
   {
    "duration": 15,
    "start_time": "2022-12-09T07:55:22.204Z"
   },
   {
    "duration": 5,
    "start_time": "2022-12-09T07:55:29.847Z"
   },
   {
    "duration": 69,
    "start_time": "2022-12-09T07:55:29.855Z"
   },
   {
    "duration": 18,
    "start_time": "2022-12-09T07:55:29.926Z"
   },
   {
    "duration": 31,
    "start_time": "2022-12-09T07:55:29.947Z"
   },
   {
    "duration": 63,
    "start_time": "2022-12-09T07:55:29.981Z"
   },
   {
    "duration": 48,
    "start_time": "2022-12-09T07:55:30.045Z"
   },
   {
    "duration": 89,
    "start_time": "2022-12-09T07:55:30.095Z"
   },
   {
    "duration": 2,
    "start_time": "2022-12-09T07:55:30.186Z"
   },
   {
    "duration": 56,
    "start_time": "2022-12-09T07:55:30.190Z"
   },
   {
    "duration": 22,
    "start_time": "2022-12-09T07:55:30.248Z"
   },
   {
    "duration": 1404,
    "start_time": "2022-12-09T07:55:30.272Z"
   },
   {
    "duration": 5,
    "start_time": "2022-12-09T07:55:31.677Z"
   },
   {
    "duration": 26,
    "start_time": "2022-12-09T07:55:31.683Z"
   },
   {
    "duration": 7,
    "start_time": "2022-12-09T07:55:31.712Z"
   },
   {
    "duration": 14,
    "start_time": "2022-12-09T07:55:31.721Z"
   },
   {
    "duration": 11,
    "start_time": "2022-12-09T07:55:31.737Z"
   },
   {
    "duration": 8,
    "start_time": "2022-12-09T07:55:31.750Z"
   },
   {
    "duration": 13,
    "start_time": "2022-12-09T07:55:31.760Z"
   },
   {
    "duration": 30,
    "start_time": "2022-12-09T07:55:31.775Z"
   },
   {
    "duration": 7,
    "start_time": "2022-12-09T07:55:31.806Z"
   },
   {
    "duration": 4,
    "start_time": "2022-12-09T07:55:31.815Z"
   },
   {
    "duration": 30,
    "start_time": "2022-12-09T07:55:31.820Z"
   },
   {
    "duration": 13,
    "start_time": "2022-12-09T07:55:31.851Z"
   },
   {
    "duration": 1877,
    "start_time": "2022-12-09T07:55:31.866Z"
   },
   {
    "duration": 3494,
    "start_time": "2022-12-09T07:55:33.797Z"
   },
   {
    "duration": 200,
    "start_time": "2022-12-09T07:55:37.297Z"
   },
   {
    "duration": 7,
    "start_time": "2022-12-09T07:55:37.499Z"
   },
   {
    "duration": 28,
    "start_time": "2022-12-09T07:55:37.508Z"
   },
   {
    "duration": 142,
    "start_time": "2022-12-09T07:55:37.538Z"
   },
   {
    "duration": 117,
    "start_time": "2022-12-09T07:55:37.682Z"
   },
   {
    "duration": 100,
    "start_time": "2022-12-09T07:55:37.801Z"
   },
   {
    "duration": 1489,
    "start_time": "2022-12-09T07:55:37.903Z"
   },
   {
    "duration": 3962,
    "start_time": "2022-12-09T07:55:39.394Z"
   },
   {
    "duration": 151,
    "start_time": "2022-12-09T07:55:43.358Z"
   },
   {
    "duration": 92,
    "start_time": "2022-12-09T07:55:43.513Z"
   },
   {
    "duration": 40,
    "start_time": "2022-12-09T07:55:43.607Z"
   },
   {
    "duration": 211,
    "start_time": "2022-12-09T07:55:43.648Z"
   },
   {
    "duration": 4,
    "start_time": "2022-12-09T08:01:27.861Z"
   },
   {
    "duration": 44,
    "start_time": "2022-12-09T08:01:27.866Z"
   },
   {
    "duration": 12,
    "start_time": "2022-12-09T08:01:27.911Z"
   },
   {
    "duration": 9,
    "start_time": "2022-12-09T08:01:27.925Z"
   },
   {
    "duration": 14,
    "start_time": "2022-12-09T08:01:27.937Z"
   },
   {
    "duration": 12,
    "start_time": "2022-12-09T08:01:27.953Z"
   },
   {
    "duration": 63,
    "start_time": "2022-12-09T08:01:27.966Z"
   },
   {
    "duration": 4,
    "start_time": "2022-12-09T08:01:28.031Z"
   },
   {
    "duration": 18,
    "start_time": "2022-12-09T08:01:28.036Z"
   },
   {
    "duration": 7,
    "start_time": "2022-12-09T08:01:28.055Z"
   },
   {
    "duration": 1385,
    "start_time": "2022-12-09T08:01:28.063Z"
   },
   {
    "duration": 4,
    "start_time": "2022-12-09T08:01:29.450Z"
   },
   {
    "duration": 14,
    "start_time": "2022-12-09T08:01:29.456Z"
   },
   {
    "duration": 25,
    "start_time": "2022-12-09T08:01:29.473Z"
   },
   {
    "duration": 10,
    "start_time": "2022-12-09T08:01:29.499Z"
   },
   {
    "duration": 16,
    "start_time": "2022-12-09T08:01:29.510Z"
   },
   {
    "duration": 10,
    "start_time": "2022-12-09T08:01:29.527Z"
   },
   {
    "duration": 8,
    "start_time": "2022-12-09T08:01:29.539Z"
   },
   {
    "duration": 11,
    "start_time": "2022-12-09T08:01:29.548Z"
   },
   {
    "duration": 6,
    "start_time": "2022-12-09T08:01:29.561Z"
   },
   {
    "duration": 3,
    "start_time": "2022-12-09T08:01:29.569Z"
   },
   {
    "duration": 23,
    "start_time": "2022-12-09T08:01:29.598Z"
   },
   {
    "duration": 10,
    "start_time": "2022-12-09T08:01:29.623Z"
   },
   {
    "duration": 1326,
    "start_time": "2022-12-09T08:01:29.635Z"
   },
   {
    "duration": 3281,
    "start_time": "2022-12-09T08:01:30.962Z"
   },
   {
    "duration": 60,
    "start_time": "2022-12-09T08:01:34.245Z"
   },
   {
    "duration": 91,
    "start_time": "2022-12-09T08:01:34.307Z"
   },
   {
    "duration": 29,
    "start_time": "2022-12-09T08:01:34.400Z"
   },
   {
    "duration": 119,
    "start_time": "2022-12-09T08:01:34.431Z"
   },
   {
    "duration": 56,
    "start_time": "2022-12-09T08:01:34.552Z"
   },
   {
    "duration": 97,
    "start_time": "2022-12-09T08:01:34.609Z"
   },
   {
    "duration": 1534,
    "start_time": "2022-12-09T08:01:34.708Z"
   },
   {
    "duration": 4127,
    "start_time": "2022-12-09T08:01:36.244Z"
   },
   {
    "duration": 40,
    "start_time": "2022-12-09T08:01:40.373Z"
   },
   {
    "duration": 300,
    "start_time": "2022-12-09T08:01:40.499Z"
   },
   {
    "duration": 3,
    "start_time": "2022-12-09T08:07:39.051Z"
   },
   {
    "duration": 42,
    "start_time": "2022-12-09T08:07:39.056Z"
   },
   {
    "duration": 12,
    "start_time": "2022-12-09T08:07:39.100Z"
   },
   {
    "duration": 5,
    "start_time": "2022-12-09T08:07:39.114Z"
   },
   {
    "duration": 12,
    "start_time": "2022-12-09T08:07:39.121Z"
   },
   {
    "duration": 10,
    "start_time": "2022-12-09T08:07:39.135Z"
   },
   {
    "duration": 62,
    "start_time": "2022-12-09T08:07:39.146Z"
   },
   {
    "duration": 3,
    "start_time": "2022-12-09T08:07:39.210Z"
   },
   {
    "duration": 14,
    "start_time": "2022-12-09T08:07:39.215Z"
   },
   {
    "duration": 7,
    "start_time": "2022-12-09T08:07:39.231Z"
   },
   {
    "duration": 1622,
    "start_time": "2022-12-09T08:07:39.240Z"
   },
   {
    "duration": 4,
    "start_time": "2022-12-09T08:07:40.864Z"
   },
   {
    "duration": 33,
    "start_time": "2022-12-09T08:07:40.869Z"
   },
   {
    "duration": 8,
    "start_time": "2022-12-09T08:07:40.904Z"
   },
   {
    "duration": 18,
    "start_time": "2022-12-09T08:07:40.914Z"
   },
   {
    "duration": 11,
    "start_time": "2022-12-09T08:07:40.934Z"
   },
   {
    "duration": 15,
    "start_time": "2022-12-09T08:07:40.946Z"
   },
   {
    "duration": 12,
    "start_time": "2022-12-09T08:07:40.962Z"
   },
   {
    "duration": 12,
    "start_time": "2022-12-09T08:07:40.975Z"
   },
   {
    "duration": 12,
    "start_time": "2022-12-09T08:07:40.989Z"
   },
   {
    "duration": 3,
    "start_time": "2022-12-09T08:07:41.003Z"
   },
   {
    "duration": 30,
    "start_time": "2022-12-09T08:07:41.008Z"
   },
   {
    "duration": 11,
    "start_time": "2022-12-09T08:07:41.040Z"
   },
   {
    "duration": 1269,
    "start_time": "2022-12-09T08:07:41.052Z"
   },
   {
    "duration": 3479,
    "start_time": "2022-12-09T08:07:42.323Z"
   },
   {
    "duration": 101,
    "start_time": "2022-12-09T08:07:45.803Z"
   },
   {
    "duration": 109,
    "start_time": "2022-12-09T08:07:45.907Z"
   },
   {
    "duration": 34,
    "start_time": "2022-12-09T08:07:46.020Z"
   },
   {
    "duration": 109,
    "start_time": "2022-12-09T08:07:46.056Z"
   },
   {
    "duration": 136,
    "start_time": "2022-12-09T08:07:46.167Z"
   },
   {
    "duration": 92,
    "start_time": "2022-12-09T08:07:46.306Z"
   },
   {
    "duration": 1508,
    "start_time": "2022-12-09T08:07:46.400Z"
   },
   {
    "duration": 4310,
    "start_time": "2022-12-09T08:07:47.910Z"
   },
   {
    "duration": 78,
    "start_time": "2022-12-09T08:07:52.221Z"
   },
   {
    "duration": 301,
    "start_time": "2022-12-09T08:07:52.303Z"
   },
   {
    "duration": 30,
    "start_time": "2022-12-09T08:11:18.091Z"
   },
   {
    "duration": 18,
    "start_time": "2022-12-09T08:12:25.864Z"
   },
   {
    "duration": 16,
    "start_time": "2022-12-09T10:12:16.339Z"
   },
   {
    "duration": 4,
    "start_time": "2022-12-09T10:12:37.539Z"
   },
   {
    "duration": 48,
    "start_time": "2022-12-09T10:12:37.544Z"
   },
   {
    "duration": 11,
    "start_time": "2022-12-09T10:12:37.593Z"
   },
   {
    "duration": 5,
    "start_time": "2022-12-09T10:12:37.606Z"
   },
   {
    "duration": 15,
    "start_time": "2022-12-09T10:12:37.613Z"
   },
   {
    "duration": 10,
    "start_time": "2022-12-09T10:12:37.629Z"
   },
   {
    "duration": 36,
    "start_time": "2022-12-09T10:12:37.640Z"
   },
   {
    "duration": 3,
    "start_time": "2022-12-09T10:12:37.698Z"
   },
   {
    "duration": 13,
    "start_time": "2022-12-09T10:12:37.703Z"
   },
   {
    "duration": 7,
    "start_time": "2022-12-09T10:12:37.717Z"
   },
   {
    "duration": 1335,
    "start_time": "2022-12-09T10:12:37.725Z"
   },
   {
    "duration": 4,
    "start_time": "2022-12-09T10:12:39.061Z"
   },
   {
    "duration": 13,
    "start_time": "2022-12-09T10:12:39.067Z"
   },
   {
    "duration": 5,
    "start_time": "2022-12-09T10:12:39.096Z"
   },
   {
    "duration": 12,
    "start_time": "2022-12-09T10:12:39.102Z"
   },
   {
    "duration": 9,
    "start_time": "2022-12-09T10:12:39.115Z"
   },
   {
    "duration": 8,
    "start_time": "2022-12-09T10:12:39.126Z"
   },
   {
    "duration": 8,
    "start_time": "2022-12-09T10:12:39.135Z"
   },
   {
    "duration": 11,
    "start_time": "2022-12-09T10:12:39.144Z"
   },
   {
    "duration": 5,
    "start_time": "2022-12-09T10:12:39.157Z"
   },
   {
    "duration": 5,
    "start_time": "2022-12-09T10:12:39.163Z"
   },
   {
    "duration": 52,
    "start_time": "2022-12-09T10:12:39.170Z"
   },
   {
    "duration": 15,
    "start_time": "2022-12-09T10:12:39.224Z"
   },
   {
    "duration": 0,
    "start_time": "2022-12-09T10:12:39.241Z"
   },
   {
    "duration": 0,
    "start_time": "2022-12-09T10:12:39.242Z"
   },
   {
    "duration": 0,
    "start_time": "2022-12-09T10:12:39.243Z"
   },
   {
    "duration": 0,
    "start_time": "2022-12-09T10:12:39.244Z"
   },
   {
    "duration": 0,
    "start_time": "2022-12-09T10:12:39.245Z"
   },
   {
    "duration": 0,
    "start_time": "2022-12-09T10:12:39.246Z"
   },
   {
    "duration": 0,
    "start_time": "2022-12-09T10:12:39.247Z"
   },
   {
    "duration": 0,
    "start_time": "2022-12-09T10:12:39.248Z"
   },
   {
    "duration": 0,
    "start_time": "2022-12-09T10:12:39.249Z"
   },
   {
    "duration": 0,
    "start_time": "2022-12-09T10:12:39.250Z"
   },
   {
    "duration": 0,
    "start_time": "2022-12-09T10:12:39.251Z"
   },
   {
    "duration": 0,
    "start_time": "2022-12-09T10:12:39.252Z"
   },
   {
    "duration": 1319,
    "start_time": "2022-12-09T10:28:17.011Z"
   },
   {
    "duration": 3519,
    "start_time": "2022-12-09T10:28:30.217Z"
   },
   {
    "duration": 97,
    "start_time": "2022-12-09T10:28:41.201Z"
   },
   {
    "duration": 40,
    "start_time": "2022-12-09T10:28:56.112Z"
   },
   {
    "duration": 5,
    "start_time": "2022-12-09T10:29:24.226Z"
   },
   {
    "duration": 42,
    "start_time": "2022-12-09T10:29:24.233Z"
   },
   {
    "duration": 12,
    "start_time": "2022-12-09T10:29:24.276Z"
   },
   {
    "duration": 7,
    "start_time": "2022-12-09T10:29:24.289Z"
   },
   {
    "duration": 13,
    "start_time": "2022-12-09T10:29:24.298Z"
   },
   {
    "duration": 10,
    "start_time": "2022-12-09T10:29:24.313Z"
   },
   {
    "duration": 41,
    "start_time": "2022-12-09T10:29:24.324Z"
   },
   {
    "duration": 4,
    "start_time": "2022-12-09T10:29:24.366Z"
   },
   {
    "duration": 14,
    "start_time": "2022-12-09T10:29:24.397Z"
   },
   {
    "duration": 8,
    "start_time": "2022-12-09T10:29:24.413Z"
   },
   {
    "duration": 1517,
    "start_time": "2022-12-09T10:29:24.422Z"
   },
   {
    "duration": 5,
    "start_time": "2022-12-09T10:29:25.941Z"
   },
   {
    "duration": 14,
    "start_time": "2022-12-09T10:29:25.948Z"
   },
   {
    "duration": 8,
    "start_time": "2022-12-09T10:29:25.966Z"
   },
   {
    "duration": 30,
    "start_time": "2022-12-09T10:29:25.975Z"
   },
   {
    "duration": 13,
    "start_time": "2022-12-09T10:29:26.006Z"
   },
   {
    "duration": 11,
    "start_time": "2022-12-09T10:29:26.021Z"
   },
   {
    "duration": 8,
    "start_time": "2022-12-09T10:29:26.033Z"
   },
   {
    "duration": 11,
    "start_time": "2022-12-09T10:29:26.042Z"
   },
   {
    "duration": 7,
    "start_time": "2022-12-09T10:29:26.055Z"
   },
   {
    "duration": 3,
    "start_time": "2022-12-09T10:29:26.064Z"
   },
   {
    "duration": 289,
    "start_time": "2022-12-09T10:29:26.068Z"
   },
   {
    "duration": 16,
    "start_time": "2022-12-09T10:29:26.359Z"
   },
   {
    "duration": 0,
    "start_time": "2022-12-09T10:29:26.377Z"
   },
   {
    "duration": 0,
    "start_time": "2022-12-09T10:29:26.378Z"
   },
   {
    "duration": 0,
    "start_time": "2022-12-09T10:29:26.379Z"
   },
   {
    "duration": 0,
    "start_time": "2022-12-09T10:29:26.380Z"
   },
   {
    "duration": 0,
    "start_time": "2022-12-09T10:29:26.397Z"
   },
   {
    "duration": 0,
    "start_time": "2022-12-09T10:29:26.398Z"
   },
   {
    "duration": 0,
    "start_time": "2022-12-09T10:29:26.399Z"
   },
   {
    "duration": 0,
    "start_time": "2022-12-09T10:29:26.401Z"
   },
   {
    "duration": 1,
    "start_time": "2022-12-09T10:29:26.401Z"
   },
   {
    "duration": 0,
    "start_time": "2022-12-09T10:29:26.402Z"
   },
   {
    "duration": 0,
    "start_time": "2022-12-09T10:29:26.403Z"
   },
   {
    "duration": 0,
    "start_time": "2022-12-09T10:29:26.405Z"
   },
   {
    "duration": 4,
    "start_time": "2022-12-09T10:30:38.846Z"
   },
   {
    "duration": 43,
    "start_time": "2022-12-09T10:30:38.851Z"
   },
   {
    "duration": 18,
    "start_time": "2022-12-09T10:30:38.895Z"
   },
   {
    "duration": 5,
    "start_time": "2022-12-09T10:30:38.916Z"
   },
   {
    "duration": 14,
    "start_time": "2022-12-09T10:30:38.924Z"
   },
   {
    "duration": 11,
    "start_time": "2022-12-09T10:30:38.940Z"
   },
   {
    "duration": 75,
    "start_time": "2022-12-09T10:30:38.953Z"
   },
   {
    "duration": 4,
    "start_time": "2022-12-09T10:30:39.030Z"
   },
   {
    "duration": 17,
    "start_time": "2022-12-09T10:30:39.035Z"
   },
   {
    "duration": 8,
    "start_time": "2022-12-09T10:30:39.055Z"
   },
   {
    "duration": 1636,
    "start_time": "2022-12-09T10:30:39.064Z"
   },
   {
    "duration": 4,
    "start_time": "2022-12-09T10:30:40.703Z"
   },
   {
    "duration": 37,
    "start_time": "2022-12-09T10:30:40.709Z"
   },
   {
    "duration": 11,
    "start_time": "2022-12-09T10:30:40.748Z"
   },
   {
    "duration": 16,
    "start_time": "2022-12-09T10:30:40.760Z"
   },
   {
    "duration": 18,
    "start_time": "2022-12-09T10:30:40.778Z"
   },
   {
    "duration": 24,
    "start_time": "2022-12-09T10:30:40.798Z"
   },
   {
    "duration": 10,
    "start_time": "2022-12-09T10:30:40.823Z"
   },
   {
    "duration": 18,
    "start_time": "2022-12-09T10:30:40.835Z"
   },
   {
    "duration": 6,
    "start_time": "2022-12-09T10:30:40.855Z"
   },
   {
    "duration": 25,
    "start_time": "2022-12-09T10:30:40.862Z"
   },
   {
    "duration": 63,
    "start_time": "2022-12-09T10:30:40.889Z"
   },
   {
    "duration": 17,
    "start_time": "2022-12-09T10:30:40.954Z"
   },
   {
    "duration": 0,
    "start_time": "2022-12-09T10:30:40.972Z"
   },
   {
    "duration": 0,
    "start_time": "2022-12-09T10:30:40.973Z"
   },
   {
    "duration": 0,
    "start_time": "2022-12-09T10:30:40.975Z"
   },
   {
    "duration": 0,
    "start_time": "2022-12-09T10:30:40.975Z"
   },
   {
    "duration": 1,
    "start_time": "2022-12-09T10:30:40.976Z"
   },
   {
    "duration": 0,
    "start_time": "2022-12-09T10:30:40.978Z"
   },
   {
    "duration": 0,
    "start_time": "2022-12-09T10:30:40.978Z"
   },
   {
    "duration": 0,
    "start_time": "2022-12-09T10:30:40.980Z"
   },
   {
    "duration": 0,
    "start_time": "2022-12-09T10:30:40.981Z"
   },
   {
    "duration": 0,
    "start_time": "2022-12-09T10:30:40.983Z"
   },
   {
    "duration": 0,
    "start_time": "2022-12-09T10:30:40.998Z"
   },
   {
    "duration": 0,
    "start_time": "2022-12-09T10:30:41.000Z"
   },
   {
    "duration": 16,
    "start_time": "2022-12-09T10:33:34.003Z"
   },
   {
    "duration": 30,
    "start_time": "2022-12-09T10:33:46.147Z"
   },
   {
    "duration": 5,
    "start_time": "2022-12-09T10:33:51.813Z"
   },
   {
    "duration": 45,
    "start_time": "2022-12-09T10:33:51.820Z"
   },
   {
    "duration": 11,
    "start_time": "2022-12-09T10:33:51.867Z"
   },
   {
    "duration": 7,
    "start_time": "2022-12-09T10:33:51.880Z"
   },
   {
    "duration": 20,
    "start_time": "2022-12-09T10:33:51.889Z"
   },
   {
    "duration": 16,
    "start_time": "2022-12-09T10:33:51.911Z"
   },
   {
    "duration": 76,
    "start_time": "2022-12-09T10:33:51.929Z"
   },
   {
    "duration": 4,
    "start_time": "2022-12-09T10:33:52.007Z"
   },
   {
    "duration": 27,
    "start_time": "2022-12-09T10:33:52.013Z"
   },
   {
    "duration": 11,
    "start_time": "2022-12-09T10:33:52.042Z"
   },
   {
    "duration": 1569,
    "start_time": "2022-12-09T10:33:52.055Z"
   },
   {
    "duration": 4,
    "start_time": "2022-12-09T10:33:53.626Z"
   },
   {
    "duration": 22,
    "start_time": "2022-12-09T10:33:53.631Z"
   },
   {
    "duration": 13,
    "start_time": "2022-12-09T10:33:53.656Z"
   },
   {
    "duration": 24,
    "start_time": "2022-12-09T10:33:53.671Z"
   },
   {
    "duration": 28,
    "start_time": "2022-12-09T10:33:53.697Z"
   },
   {
    "duration": 28,
    "start_time": "2022-12-09T10:33:53.727Z"
   },
   {
    "duration": 27,
    "start_time": "2022-12-09T10:33:53.756Z"
   },
   {
    "duration": 45,
    "start_time": "2022-12-09T10:33:53.784Z"
   },
   {
    "duration": 8,
    "start_time": "2022-12-09T10:33:53.831Z"
   },
   {
    "duration": 12,
    "start_time": "2022-12-09T10:33:53.840Z"
   },
   {
    "duration": 61,
    "start_time": "2022-12-09T10:33:53.854Z"
   },
   {
    "duration": 33,
    "start_time": "2022-12-09T10:33:53.917Z"
   },
   {
    "duration": 2659,
    "start_time": "2022-12-09T10:33:53.953Z"
   },
   {
    "duration": 4319,
    "start_time": "2022-12-09T10:33:56.616Z"
   },
   {
    "duration": 284,
    "start_time": "2022-12-09T10:34:00.938Z"
   },
   {
    "duration": 84,
    "start_time": "2022-12-09T10:34:01.241Z"
   },
   {
    "duration": 97,
    "start_time": "2022-12-09T10:34:01.336Z"
   },
   {
    "duration": 364,
    "start_time": "2022-12-09T10:34:01.435Z"
   },
   {
    "duration": 228,
    "start_time": "2022-12-09T10:34:01.801Z"
   },
   {
    "duration": 99,
    "start_time": "2022-12-09T10:34:02.032Z"
   },
   {
    "duration": 1923,
    "start_time": "2022-12-09T10:34:02.137Z"
   },
   {
    "duration": 5042,
    "start_time": "2022-12-09T10:34:04.103Z"
   },
   {
    "duration": 196,
    "start_time": "2022-12-09T10:34:09.204Z"
   },
   {
    "duration": 345,
    "start_time": "2022-12-09T10:34:09.402Z"
   },
   {
    "duration": 5,
    "start_time": "2022-12-09T10:36:17.565Z"
   },
   {
    "duration": 55,
    "start_time": "2022-12-09T10:36:17.572Z"
   },
   {
    "duration": 13,
    "start_time": "2022-12-09T10:36:17.629Z"
   },
   {
    "duration": 6,
    "start_time": "2022-12-09T10:36:17.644Z"
   },
   {
    "duration": 20,
    "start_time": "2022-12-09T10:36:17.652Z"
   },
   {
    "duration": 12,
    "start_time": "2022-12-09T10:36:17.673Z"
   },
   {
    "duration": 60,
    "start_time": "2022-12-09T10:36:17.686Z"
   },
   {
    "duration": 4,
    "start_time": "2022-12-09T10:36:17.748Z"
   },
   {
    "duration": 22,
    "start_time": "2022-12-09T10:36:17.754Z"
   },
   {
    "duration": 11,
    "start_time": "2022-12-09T10:36:17.796Z"
   },
   {
    "duration": 1614,
    "start_time": "2022-12-09T10:36:17.809Z"
   },
   {
    "duration": 5,
    "start_time": "2022-12-09T10:36:19.425Z"
   },
   {
    "duration": 19,
    "start_time": "2022-12-09T10:36:19.432Z"
   },
   {
    "duration": 7,
    "start_time": "2022-12-09T10:36:19.453Z"
   },
   {
    "duration": 15,
    "start_time": "2022-12-09T10:36:19.462Z"
   },
   {
    "duration": 15,
    "start_time": "2022-12-09T10:36:19.503Z"
   },
   {
    "duration": 7,
    "start_time": "2022-12-09T10:36:19.520Z"
   },
   {
    "duration": 10,
    "start_time": "2022-12-09T10:36:19.529Z"
   },
   {
    "duration": 13,
    "start_time": "2022-12-09T10:36:19.541Z"
   },
   {
    "duration": 7,
    "start_time": "2022-12-09T10:36:19.555Z"
   },
   {
    "duration": 3,
    "start_time": "2022-12-09T10:36:19.564Z"
   },
   {
    "duration": 65,
    "start_time": "2022-12-09T10:36:19.569Z"
   },
   {
    "duration": 31,
    "start_time": "2022-12-09T10:36:19.636Z"
   },
   {
    "duration": 1694,
    "start_time": "2022-12-09T10:36:19.669Z"
   },
   {
    "duration": 3759,
    "start_time": "2022-12-09T10:36:21.365Z"
   },
   {
    "duration": 85,
    "start_time": "2022-12-09T10:36:25.125Z"
   },
   {
    "duration": 92,
    "start_time": "2022-12-09T10:36:25.212Z"
   },
   {
    "duration": 121,
    "start_time": "2022-12-09T10:36:25.311Z"
   },
   {
    "duration": 126,
    "start_time": "2022-12-09T10:36:25.434Z"
   },
   {
    "duration": 152,
    "start_time": "2022-12-09T10:36:25.562Z"
   },
   {
    "duration": 181,
    "start_time": "2022-12-09T10:36:25.716Z"
   },
   {
    "duration": 1515,
    "start_time": "2022-12-09T10:36:25.899Z"
   },
   {
    "duration": 4333,
    "start_time": "2022-12-09T10:36:27.415Z"
   },
   {
    "duration": 161,
    "start_time": "2022-12-09T10:36:31.750Z"
   },
   {
    "duration": 415,
    "start_time": "2022-12-09T10:36:31.913Z"
   },
   {
    "duration": 4,
    "start_time": "2022-12-09T10:42:29.812Z"
   },
   {
    "duration": 40,
    "start_time": "2022-12-09T10:42:29.817Z"
   },
   {
    "duration": 11,
    "start_time": "2022-12-09T10:42:29.858Z"
   },
   {
    "duration": 6,
    "start_time": "2022-12-09T10:42:29.871Z"
   },
   {
    "duration": 11,
    "start_time": "2022-12-09T10:42:29.879Z"
   },
   {
    "duration": 15,
    "start_time": "2022-12-09T10:42:29.892Z"
   },
   {
    "duration": 44,
    "start_time": "2022-12-09T10:42:29.909Z"
   },
   {
    "duration": 3,
    "start_time": "2022-12-09T10:42:29.955Z"
   },
   {
    "duration": 22,
    "start_time": "2022-12-09T10:42:29.959Z"
   },
   {
    "duration": 7,
    "start_time": "2022-12-09T10:42:29.982Z"
   },
   {
    "duration": 1822,
    "start_time": "2022-12-09T10:42:29.996Z"
   },
   {
    "duration": 5,
    "start_time": "2022-12-09T10:42:31.820Z"
   },
   {
    "duration": 43,
    "start_time": "2022-12-09T10:42:31.827Z"
   },
   {
    "duration": 65,
    "start_time": "2022-12-09T10:42:31.873Z"
   },
   {
    "duration": 23,
    "start_time": "2022-12-09T10:42:31.940Z"
   },
   {
    "duration": 13,
    "start_time": "2022-12-09T10:42:31.965Z"
   },
   {
    "duration": 10,
    "start_time": "2022-12-09T10:42:31.979Z"
   },
   {
    "duration": 9,
    "start_time": "2022-12-09T10:42:31.991Z"
   },
   {
    "duration": 29,
    "start_time": "2022-12-09T10:42:32.002Z"
   },
   {
    "duration": 9,
    "start_time": "2022-12-09T10:42:32.032Z"
   },
   {
    "duration": 13,
    "start_time": "2022-12-09T10:42:32.043Z"
   },
   {
    "duration": 48,
    "start_time": "2022-12-09T10:42:32.058Z"
   },
   {
    "duration": 34,
    "start_time": "2022-12-09T10:42:32.109Z"
   },
   {
    "duration": 2378,
    "start_time": "2022-12-09T10:42:32.145Z"
   },
   {
    "duration": 3408,
    "start_time": "2022-12-09T10:42:34.524Z"
   },
   {
    "duration": 82,
    "start_time": "2022-12-09T10:42:37.934Z"
   },
   {
    "duration": 94,
    "start_time": "2022-12-09T10:42:38.018Z"
   },
   {
    "duration": 120,
    "start_time": "2022-12-09T10:42:38.116Z"
   },
   {
    "duration": 111,
    "start_time": "2022-12-09T10:42:38.238Z"
   },
   {
    "duration": 54,
    "start_time": "2022-12-09T10:42:38.350Z"
   },
   {
    "duration": 191,
    "start_time": "2022-12-09T10:42:38.406Z"
   },
   {
    "duration": 1474,
    "start_time": "2022-12-09T10:42:38.600Z"
   },
   {
    "duration": 4064,
    "start_time": "2022-12-09T10:42:40.076Z"
   },
   {
    "duration": 156,
    "start_time": "2022-12-09T10:42:44.142Z"
   },
   {
    "duration": 315,
    "start_time": "2022-12-09T10:42:44.302Z"
   },
   {
    "duration": 853,
    "start_time": "2022-12-09T10:43:05.686Z"
   },
   {
    "duration": 716,
    "start_time": "2022-12-09T10:45:24.599Z"
   },
   {
    "duration": 66879,
    "start_time": "2022-12-09T10:46:03.022Z"
   },
   {
    "duration": 826,
    "start_time": "2022-12-09T10:47:52.968Z"
   },
   {
    "duration": 259231,
    "start_time": "2022-12-09T10:48:48.714Z"
   },
   {
    "duration": 81106,
    "start_time": "2022-12-09T10:55:28.928Z"
   },
   {
    "duration": 18427,
    "start_time": "2022-12-09T10:57:01.107Z"
   },
   {
    "duration": 4,
    "start_time": "2022-12-09T10:58:03.786Z"
   },
   {
    "duration": 54,
    "start_time": "2022-12-09T10:58:03.792Z"
   },
   {
    "duration": 15,
    "start_time": "2022-12-09T10:58:03.847Z"
   },
   {
    "duration": 36,
    "start_time": "2022-12-09T10:58:03.864Z"
   },
   {
    "duration": 19,
    "start_time": "2022-12-09T10:58:03.901Z"
   },
   {
    "duration": 16,
    "start_time": "2022-12-09T10:58:03.922Z"
   },
   {
    "duration": 67,
    "start_time": "2022-12-09T10:58:03.941Z"
   },
   {
    "duration": 4,
    "start_time": "2022-12-09T10:58:04.010Z"
   },
   {
    "duration": 38,
    "start_time": "2022-12-09T10:58:04.016Z"
   },
   {
    "duration": 9,
    "start_time": "2022-12-09T10:58:04.057Z"
   },
   {
    "duration": 2276,
    "start_time": "2022-12-09T10:58:04.068Z"
   },
   {
    "duration": 6,
    "start_time": "2022-12-09T10:58:06.398Z"
   },
   {
    "duration": 26,
    "start_time": "2022-12-09T10:58:06.406Z"
   },
   {
    "duration": 14,
    "start_time": "2022-12-09T10:58:06.434Z"
   },
   {
    "duration": 51,
    "start_time": "2022-12-09T10:58:06.450Z"
   },
   {
    "duration": 12,
    "start_time": "2022-12-09T10:58:06.502Z"
   },
   {
    "duration": 9,
    "start_time": "2022-12-09T10:58:06.515Z"
   },
   {
    "duration": 15,
    "start_time": "2022-12-09T10:58:06.525Z"
   },
   {
    "duration": 59,
    "start_time": "2022-12-09T10:58:06.541Z"
   },
   {
    "duration": 7,
    "start_time": "2022-12-09T10:58:06.602Z"
   },
   {
    "duration": 6,
    "start_time": "2022-12-09T10:58:06.611Z"
   },
   {
    "duration": 106,
    "start_time": "2022-12-09T10:58:06.619Z"
   },
   {
    "duration": 1351,
    "start_time": "2022-12-09T10:58:06.727Z"
   },
   {
    "duration": 3437,
    "start_time": "2022-12-09T10:58:08.080Z"
   },
   {
    "duration": 86,
    "start_time": "2022-12-09T10:58:11.519Z"
   },
   {
    "duration": 93,
    "start_time": "2022-12-09T10:58:11.607Z"
   },
   {
    "duration": 137,
    "start_time": "2022-12-09T10:58:11.703Z"
   },
   {
    "duration": 144,
    "start_time": "2022-12-09T10:58:11.842Z"
   },
   {
    "duration": 113,
    "start_time": "2022-12-09T10:58:11.988Z"
   },
   {
    "duration": 111,
    "start_time": "2022-12-09T10:58:12.103Z"
   },
   {
    "duration": 1555,
    "start_time": "2022-12-09T10:58:12.297Z"
   },
   {
    "duration": 20481,
    "start_time": "2022-12-09T10:58:13.854Z"
   },
   {
    "duration": 162,
    "start_time": "2022-12-09T10:58:34.336Z"
   },
   {
    "duration": 1108,
    "start_time": "2022-12-09T10:58:34.500Z"
   },
   {
    "duration": 4,
    "start_time": "2022-12-09T10:59:51.934Z"
   },
   {
    "duration": 63,
    "start_time": "2022-12-09T10:59:51.940Z"
   },
   {
    "duration": 14,
    "start_time": "2022-12-09T10:59:52.005Z"
   },
   {
    "duration": 22,
    "start_time": "2022-12-09T10:59:52.021Z"
   },
   {
    "duration": 33,
    "start_time": "2022-12-09T10:59:52.045Z"
   },
   {
    "duration": 10,
    "start_time": "2022-12-09T10:59:52.080Z"
   },
   {
    "duration": 47,
    "start_time": "2022-12-09T10:59:52.091Z"
   },
   {
    "duration": 3,
    "start_time": "2022-12-09T10:59:52.140Z"
   },
   {
    "duration": 18,
    "start_time": "2022-12-09T10:59:52.145Z"
   },
   {
    "duration": 7,
    "start_time": "2022-12-09T10:59:52.165Z"
   },
   {
    "duration": 1558,
    "start_time": "2022-12-09T10:59:52.174Z"
   },
   {
    "duration": 4,
    "start_time": "2022-12-09T10:59:53.734Z"
   },
   {
    "duration": 65,
    "start_time": "2022-12-09T10:59:53.739Z"
   },
   {
    "duration": 7,
    "start_time": "2022-12-09T10:59:53.805Z"
   },
   {
    "duration": 17,
    "start_time": "2022-12-09T10:59:53.814Z"
   },
   {
    "duration": 70,
    "start_time": "2022-12-09T10:59:53.833Z"
   },
   {
    "duration": 8,
    "start_time": "2022-12-09T10:59:53.904Z"
   },
   {
    "duration": 10,
    "start_time": "2022-12-09T10:59:53.913Z"
   },
   {
    "duration": 13,
    "start_time": "2022-12-09T10:59:53.925Z"
   },
   {
    "duration": 61,
    "start_time": "2022-12-09T10:59:53.940Z"
   },
   {
    "duration": 3,
    "start_time": "2022-12-09T10:59:54.002Z"
   },
   {
    "duration": 33,
    "start_time": "2022-12-09T10:59:54.006Z"
   },
   {
    "duration": 1862,
    "start_time": "2022-12-09T10:59:54.040Z"
   },
   {
    "duration": 3359,
    "start_time": "2022-12-09T10:59:55.904Z"
   },
   {
    "duration": 37,
    "start_time": "2022-12-09T10:59:59.265Z"
   },
   {
    "duration": 95,
    "start_time": "2022-12-09T10:59:59.304Z"
   },
   {
    "duration": 124,
    "start_time": "2022-12-09T10:59:59.401Z"
   },
   {
    "duration": 126,
    "start_time": "2022-12-09T10:59:59.528Z"
   },
   {
    "duration": 47,
    "start_time": "2022-12-09T10:59:59.656Z"
   },
   {
    "duration": 104,
    "start_time": "2022-12-09T10:59:59.797Z"
   },
   {
    "duration": 1536,
    "start_time": "2022-12-09T10:59:59.903Z"
   },
   {
    "duration": 19839,
    "start_time": "2022-12-09T11:00:01.441Z"
   },
   {
    "duration": 118,
    "start_time": "2022-12-09T11:00:21.282Z"
   },
   {
    "duration": 1084,
    "start_time": "2022-12-09T11:00:21.402Z"
   },
   {
    "duration": 4,
    "start_time": "2022-12-09T11:15:15.699Z"
   },
   {
    "duration": 64,
    "start_time": "2022-12-09T11:18:10.570Z"
   },
   {
    "duration": 59,
    "start_time": "2022-12-09T11:19:07.670Z"
   },
   {
    "duration": 4,
    "start_time": "2022-12-09T11:19:49.557Z"
   },
   {
    "duration": 164,
    "start_time": "2022-12-09T11:19:52.813Z"
   },
   {
    "duration": 9,
    "start_time": "2022-12-09T11:23:13.438Z"
   },
   {
    "duration": 4,
    "start_time": "2022-12-09T11:23:49.513Z"
   },
   {
    "duration": 5,
    "start_time": "2022-12-09T11:23:52.850Z"
   },
   {
    "duration": 1695,
    "start_time": "2022-12-09T17:39:42.854Z"
   },
   {
    "duration": 182,
    "start_time": "2022-12-09T17:39:44.551Z"
   },
   {
    "duration": 25,
    "start_time": "2022-12-09T17:39:44.734Z"
   },
   {
    "duration": 5,
    "start_time": "2022-12-09T17:39:44.760Z"
   },
   {
    "duration": 18,
    "start_time": "2022-12-09T17:39:44.768Z"
   },
   {
    "duration": 20,
    "start_time": "2022-12-09T17:39:44.788Z"
   },
   {
    "duration": 62,
    "start_time": "2022-12-09T17:39:44.810Z"
   },
   {
    "duration": 2,
    "start_time": "2022-12-09T17:39:44.874Z"
   },
   {
    "duration": 22,
    "start_time": "2022-12-09T17:39:44.878Z"
   },
   {
    "duration": 9,
    "start_time": "2022-12-09T17:39:44.902Z"
   },
   {
    "duration": 1796,
    "start_time": "2022-12-09T17:39:44.913Z"
   },
   {
    "duration": 7,
    "start_time": "2022-12-09T17:39:46.710Z"
   },
   {
    "duration": 33,
    "start_time": "2022-12-09T17:39:46.719Z"
   },
   {
    "duration": 7,
    "start_time": "2022-12-09T17:39:46.755Z"
   },
   {
    "duration": 14,
    "start_time": "2022-12-09T17:39:46.763Z"
   },
   {
    "duration": 13,
    "start_time": "2022-12-09T17:39:46.779Z"
   },
   {
    "duration": 8,
    "start_time": "2022-12-09T17:39:46.794Z"
   },
   {
    "duration": 9,
    "start_time": "2022-12-09T17:39:46.804Z"
   },
   {
    "duration": 39,
    "start_time": "2022-12-09T17:39:46.815Z"
   },
   {
    "duration": 8,
    "start_time": "2022-12-09T17:39:46.856Z"
   },
   {
    "duration": 4,
    "start_time": "2022-12-09T17:39:46.866Z"
   },
   {
    "duration": 41,
    "start_time": "2022-12-09T17:39:46.872Z"
   },
   {
    "duration": 1484,
    "start_time": "2022-12-09T17:39:46.915Z"
   },
   {
    "duration": 4098,
    "start_time": "2022-12-09T17:39:48.402Z"
   },
   {
    "duration": 152,
    "start_time": "2022-12-09T17:39:52.502Z"
   },
   {
    "duration": 99,
    "start_time": "2022-12-09T17:39:52.656Z"
   },
   {
    "duration": 127,
    "start_time": "2022-12-09T17:39:52.759Z"
   },
   {
    "duration": 147,
    "start_time": "2022-12-09T17:39:52.888Z"
   },
   {
    "duration": 124,
    "start_time": "2022-12-09T17:39:53.037Z"
   },
   {
    "duration": 103,
    "start_time": "2022-12-09T17:39:53.163Z"
   },
   {
    "duration": 1593,
    "start_time": "2022-12-09T17:39:53.352Z"
   },
   {
    "duration": 22321,
    "start_time": "2022-12-09T17:39:54.947Z"
   },
   {
    "duration": 83,
    "start_time": "2022-12-09T17:40:17.270Z"
   },
   {
    "duration": 1197,
    "start_time": "2022-12-09T17:40:17.355Z"
   },
   {
    "duration": 218,
    "start_time": "2022-12-09T17:40:18.554Z"
   },
   {
    "duration": 8,
    "start_time": "2022-12-09T17:40:18.773Z"
   },
   {
    "duration": 1571,
    "start_time": "2022-12-09T18:20:19.735Z"
   },
   {
    "duration": 1498,
    "start_time": "2022-12-09T18:20:45.882Z"
   },
   {
    "duration": 4280,
    "start_time": "2022-12-09T18:21:15.758Z"
   },
   {
    "duration": 200,
    "start_time": "2022-12-09T18:22:01.750Z"
   },
   {
    "duration": 1536,
    "start_time": "2022-12-09T18:32:57.643Z"
   },
   {
    "duration": 1485,
    "start_time": "2022-12-09T18:42:25.673Z"
   },
   {
    "duration": 34,
    "start_time": "2022-12-09T18:42:48.082Z"
   },
   {
    "duration": 5,
    "start_time": "2022-12-09T20:01:19.257Z"
   },
   {
    "duration": 52,
    "start_time": "2022-12-09T20:01:19.303Z"
   },
   {
    "duration": 20,
    "start_time": "2022-12-09T20:01:19.358Z"
   },
   {
    "duration": 16,
    "start_time": "2022-12-09T20:01:19.380Z"
   },
   {
    "duration": 21,
    "start_time": "2022-12-09T20:01:19.398Z"
   },
   {
    "duration": 35,
    "start_time": "2022-12-09T20:01:19.422Z"
   },
   {
    "duration": 62,
    "start_time": "2022-12-09T20:01:19.459Z"
   },
   {
    "duration": 3,
    "start_time": "2022-12-09T20:01:19.526Z"
   },
   {
    "duration": 22,
    "start_time": "2022-12-09T20:01:19.550Z"
   },
   {
    "duration": 13,
    "start_time": "2022-12-09T20:01:19.575Z"
   },
   {
    "duration": 1851,
    "start_time": "2022-12-09T20:01:19.590Z"
   },
   {
    "duration": 10,
    "start_time": "2022-12-09T20:01:21.443Z"
   },
   {
    "duration": 35,
    "start_time": "2022-12-09T20:01:21.455Z"
   },
   {
    "duration": 8,
    "start_time": "2022-12-09T20:01:21.493Z"
   },
   {
    "duration": 16,
    "start_time": "2022-12-09T20:01:21.505Z"
   },
   {
    "duration": 29,
    "start_time": "2022-12-09T20:01:21.524Z"
   },
   {
    "duration": 5,
    "start_time": "2022-12-09T20:01:21.556Z"
   },
   {
    "duration": 11,
    "start_time": "2022-12-09T20:01:21.563Z"
   },
   {
    "duration": 27,
    "start_time": "2022-12-09T20:01:21.576Z"
   },
   {
    "duration": 8,
    "start_time": "2022-12-09T20:01:21.605Z"
   },
   {
    "duration": 15,
    "start_time": "2022-12-09T20:01:21.615Z"
   },
   {
    "duration": 55,
    "start_time": "2022-12-09T20:01:21.650Z"
   },
   {
    "duration": 1576,
    "start_time": "2022-12-09T20:01:21.707Z"
   },
   {
    "duration": 4230,
    "start_time": "2022-12-09T20:01:23.285Z"
   },
   {
    "duration": 140,
    "start_time": "2022-12-09T20:01:27.517Z"
   },
   {
    "duration": 99,
    "start_time": "2022-12-09T20:01:27.661Z"
   },
   {
    "duration": 41,
    "start_time": "2022-12-09T20:01:27.762Z"
   },
   {
    "duration": 180,
    "start_time": "2022-12-09T20:01:27.806Z"
   },
   {
    "duration": 69,
    "start_time": "2022-12-09T20:01:27.988Z"
   },
   {
    "duration": 100,
    "start_time": "2022-12-09T20:01:28.059Z"
   },
   {
    "duration": 1738,
    "start_time": "2022-12-09T20:01:28.162Z"
   },
   {
    "duration": 24433,
    "start_time": "2022-12-09T20:01:29.903Z"
   },
   {
    "duration": 128,
    "start_time": "2022-12-09T20:01:54.339Z"
   },
   {
    "duration": 1186,
    "start_time": "2022-12-09T20:01:54.470Z"
   },
   {
    "duration": 205,
    "start_time": "2022-12-09T20:01:55.657Z"
   },
   {
    "duration": 8,
    "start_time": "2022-12-09T20:01:55.864Z"
   },
   {
    "duration": 137,
    "start_time": "2022-12-09T20:31:32.226Z"
   },
   {
    "duration": 8621,
    "start_time": "2022-12-09T20:32:27.376Z"
   },
   {
    "duration": 1619,
    "start_time": "2022-12-09T20:33:11.696Z"
   },
   {
    "duration": 1869,
    "start_time": "2022-12-09T20:33:28.884Z"
   },
   {
    "duration": 1560,
    "start_time": "2022-12-09T20:35:52.119Z"
   },
   {
    "duration": 180,
    "start_time": "2022-12-09T20:36:25.556Z"
   },
   {
    "duration": 129,
    "start_time": "2022-12-09T20:39:37.669Z"
   },
   {
    "duration": 7,
    "start_time": "2022-12-09T20:40:17.232Z"
   },
   {
    "duration": 329,
    "start_time": "2022-12-09T20:41:58.953Z"
   },
   {
    "duration": 8,
    "start_time": "2022-12-09T20:42:14.344Z"
   },
   {
    "duration": 180,
    "start_time": "2022-12-09T20:42:43.296Z"
   },
   {
    "duration": 132,
    "start_time": "2022-12-09T20:43:01.965Z"
   },
   {
    "duration": 6,
    "start_time": "2022-12-09T20:43:20.219Z"
   },
   {
    "duration": 21672,
    "start_time": "2022-12-09T20:52:51.179Z"
   },
   {
    "duration": 95,
    "start_time": "2022-12-09T20:54:31.160Z"
   },
   {
    "duration": 1011,
    "start_time": "2022-12-09T21:01:46.459Z"
   },
   {
    "duration": 1001,
    "start_time": "2022-12-09T21:07:08.271Z"
   },
   {
    "duration": 6,
    "start_time": "2022-12-09T21:25:08.056Z"
   },
   {
    "duration": 51,
    "start_time": "2022-12-09T21:25:08.064Z"
   },
   {
    "duration": 15,
    "start_time": "2022-12-09T21:25:08.116Z"
   },
   {
    "duration": 5,
    "start_time": "2022-12-09T21:25:08.133Z"
   },
   {
    "duration": 19,
    "start_time": "2022-12-09T21:25:08.140Z"
   },
   {
    "duration": 16,
    "start_time": "2022-12-09T21:25:08.161Z"
   },
   {
    "duration": 70,
    "start_time": "2022-12-09T21:25:08.180Z"
   },
   {
    "duration": 2,
    "start_time": "2022-12-09T21:25:08.253Z"
   },
   {
    "duration": 23,
    "start_time": "2022-12-09T21:25:08.257Z"
   },
   {
    "duration": 8,
    "start_time": "2022-12-09T21:25:08.283Z"
   },
   {
    "duration": 1922,
    "start_time": "2022-12-09T21:25:08.293Z"
   },
   {
    "duration": 6,
    "start_time": "2022-12-09T21:25:10.217Z"
   },
   {
    "duration": 32,
    "start_time": "2022-12-09T21:25:10.224Z"
   },
   {
    "duration": 9,
    "start_time": "2022-12-09T21:25:10.257Z"
   },
   {
    "duration": 13,
    "start_time": "2022-12-09T21:25:10.267Z"
   },
   {
    "duration": 15,
    "start_time": "2022-12-09T21:25:10.282Z"
   },
   {
    "duration": 6,
    "start_time": "2022-12-09T21:25:10.299Z"
   },
   {
    "duration": 13,
    "start_time": "2022-12-09T21:25:10.307Z"
   },
   {
    "duration": 37,
    "start_time": "2022-12-09T21:25:10.321Z"
   },
   {
    "duration": 8,
    "start_time": "2022-12-09T21:25:10.360Z"
   },
   {
    "duration": 4,
    "start_time": "2022-12-09T21:25:10.369Z"
   },
   {
    "duration": 48,
    "start_time": "2022-12-09T21:25:10.375Z"
   },
   {
    "duration": 71,
    "start_time": "2022-12-09T21:25:10.425Z"
   },
   {
    "duration": 1,
    "start_time": "2022-12-09T21:25:10.498Z"
   },
   {
    "duration": 0,
    "start_time": "2022-12-09T21:25:10.499Z"
   },
   {
    "duration": 0,
    "start_time": "2022-12-09T21:25:10.501Z"
   },
   {
    "duration": 0,
    "start_time": "2022-12-09T21:25:10.502Z"
   },
   {
    "duration": 0,
    "start_time": "2022-12-09T21:25:10.503Z"
   },
   {
    "duration": 0,
    "start_time": "2022-12-09T21:25:10.504Z"
   },
   {
    "duration": 0,
    "start_time": "2022-12-09T21:25:10.504Z"
   },
   {
    "duration": 0,
    "start_time": "2022-12-09T21:25:10.505Z"
   },
   {
    "duration": 0,
    "start_time": "2022-12-09T21:25:10.507Z"
   },
   {
    "duration": 0,
    "start_time": "2022-12-09T21:25:10.508Z"
   },
   {
    "duration": 0,
    "start_time": "2022-12-09T21:25:10.508Z"
   },
   {
    "duration": 0,
    "start_time": "2022-12-09T21:25:10.510Z"
   },
   {
    "duration": 0,
    "start_time": "2022-12-09T21:25:10.511Z"
   },
   {
    "duration": 0,
    "start_time": "2022-12-09T21:25:10.512Z"
   },
   {
    "duration": 0,
    "start_time": "2022-12-09T21:25:10.513Z"
   },
   {
    "duration": 0,
    "start_time": "2022-12-09T21:25:10.514Z"
   },
   {
    "duration": 0,
    "start_time": "2022-12-09T21:25:10.516Z"
   },
   {
    "duration": 0,
    "start_time": "2022-12-09T21:25:10.517Z"
   },
   {
    "duration": 6,
    "start_time": "2022-12-09T21:26:25.259Z"
   },
   {
    "duration": 41,
    "start_time": "2022-12-09T21:26:25.267Z"
   },
   {
    "duration": 18,
    "start_time": "2022-12-09T21:26:25.310Z"
   },
   {
    "duration": 7,
    "start_time": "2022-12-09T21:26:25.330Z"
   },
   {
    "duration": 14,
    "start_time": "2022-12-09T21:26:25.353Z"
   },
   {
    "duration": 11,
    "start_time": "2022-12-09T21:26:25.369Z"
   },
   {
    "duration": 43,
    "start_time": "2022-12-09T21:26:25.382Z"
   },
   {
    "duration": 4,
    "start_time": "2022-12-09T21:26:25.451Z"
   },
   {
    "duration": 18,
    "start_time": "2022-12-09T21:26:25.457Z"
   },
   {
    "duration": 8,
    "start_time": "2022-12-09T21:26:25.477Z"
   },
   {
    "duration": 1620,
    "start_time": "2022-12-09T21:26:25.486Z"
   },
   {
    "duration": 4,
    "start_time": "2022-12-09T21:26:27.108Z"
   },
   {
    "duration": 16,
    "start_time": "2022-12-09T21:26:27.114Z"
   },
   {
    "duration": 20,
    "start_time": "2022-12-09T21:26:27.133Z"
   },
   {
    "duration": 20,
    "start_time": "2022-12-09T21:26:27.155Z"
   },
   {
    "duration": 12,
    "start_time": "2022-12-09T21:26:27.177Z"
   },
   {
    "duration": 11,
    "start_time": "2022-12-09T21:26:27.191Z"
   },
   {
    "duration": 7,
    "start_time": "2022-12-09T21:26:27.203Z"
   },
   {
    "duration": 19,
    "start_time": "2022-12-09T21:26:27.212Z"
   },
   {
    "duration": 20,
    "start_time": "2022-12-09T21:26:27.234Z"
   },
   {
    "duration": 3,
    "start_time": "2022-12-09T21:26:27.255Z"
   },
   {
    "duration": 39,
    "start_time": "2022-12-09T21:26:27.259Z"
   },
   {
    "duration": 1480,
    "start_time": "2022-12-09T21:26:27.300Z"
   },
   {
    "duration": 4900,
    "start_time": "2022-12-09T21:26:28.782Z"
   },
   {
    "duration": 168,
    "start_time": "2022-12-09T21:26:33.684Z"
   },
   {
    "duration": 99,
    "start_time": "2022-12-09T21:26:33.854Z"
   },
   {
    "duration": 97,
    "start_time": "2022-12-09T21:26:33.955Z"
   },
   {
    "duration": 263,
    "start_time": "2022-12-09T21:26:34.054Z"
   },
   {
    "duration": 131,
    "start_time": "2022-12-09T21:26:34.320Z"
   },
   {
    "duration": 104,
    "start_time": "2022-12-09T21:26:34.454Z"
   },
   {
    "duration": 1590,
    "start_time": "2022-12-09T21:26:34.560Z"
   },
   {
    "duration": 143,
    "start_time": "2022-12-09T21:26:36.152Z"
   },
   {
    "duration": 6,
    "start_time": "2022-12-09T21:26:36.297Z"
   },
   {
    "duration": 22026,
    "start_time": "2022-12-09T21:26:36.305Z"
   },
   {
    "duration": 189,
    "start_time": "2022-12-09T21:26:58.334Z"
   },
   {
    "duration": 6,
    "start_time": "2022-12-09T21:26:58.525Z"
   },
   {
    "duration": 122,
    "start_time": "2022-12-09T21:26:58.532Z"
   },
   {
    "duration": 549,
    "start_time": "2022-12-09T21:26:58.656Z"
   },
   {
    "duration": 7,
    "start_time": "2022-12-09T21:26:59.207Z"
   },
   {
    "duration": 1085,
    "start_time": "2022-12-09T21:26:59.216Z"
   },
   {
    "duration": 1714,
    "start_time": "2022-12-11T18:32:51.467Z"
   },
   {
    "duration": 356,
    "start_time": "2022-12-11T18:32:53.184Z"
   },
   {
    "duration": 19,
    "start_time": "2022-12-11T18:32:53.543Z"
   },
   {
    "duration": 12,
    "start_time": "2022-12-11T18:32:53.564Z"
   },
   {
    "duration": 37,
    "start_time": "2022-12-11T18:32:53.579Z"
   },
   {
    "duration": 34,
    "start_time": "2022-12-11T18:32:53.618Z"
   },
   {
    "duration": 43,
    "start_time": "2022-12-11T18:32:53.654Z"
   },
   {
    "duration": 21,
    "start_time": "2022-12-11T18:32:53.751Z"
   },
   {
    "duration": 8,
    "start_time": "2022-12-11T18:32:53.774Z"
   },
   {
    "duration": 73,
    "start_time": "2022-12-11T18:32:53.784Z"
   },
   {
    "duration": 23,
    "start_time": "2022-12-11T18:32:53.859Z"
   },
   {
    "duration": 2678,
    "start_time": "2022-12-11T18:32:53.884Z"
   },
   {
    "duration": 5,
    "start_time": "2022-12-11T18:32:56.564Z"
   },
   {
    "duration": 14,
    "start_time": "2022-12-11T18:32:56.572Z"
   },
   {
    "duration": 7,
    "start_time": "2022-12-11T18:32:56.588Z"
   },
   {
    "duration": 12,
    "start_time": "2022-12-11T18:32:56.597Z"
   },
   {
    "duration": 41,
    "start_time": "2022-12-11T18:32:56.611Z"
   },
   {
    "duration": 4,
    "start_time": "2022-12-11T18:32:56.653Z"
   },
   {
    "duration": 9,
    "start_time": "2022-12-11T18:32:56.659Z"
   },
   {
    "duration": 19,
    "start_time": "2022-12-11T18:32:56.669Z"
   },
   {
    "duration": 6,
    "start_time": "2022-12-11T18:32:56.690Z"
   },
   {
    "duration": 3,
    "start_time": "2022-12-11T18:32:56.698Z"
   },
   {
    "duration": 71,
    "start_time": "2022-12-11T18:32:56.702Z"
   },
   {
    "duration": 1479,
    "start_time": "2022-12-11T18:32:56.774Z"
   },
   {
    "duration": 4241,
    "start_time": "2022-12-11T18:32:58.255Z"
   },
   {
    "duration": 163,
    "start_time": "2022-12-11T18:33:02.497Z"
   },
   {
    "duration": 93,
    "start_time": "2022-12-11T18:33:02.663Z"
   },
   {
    "duration": 48,
    "start_time": "2022-12-11T18:33:02.759Z"
   },
   {
    "duration": 155,
    "start_time": "2022-12-11T18:33:02.809Z"
   },
   {
    "duration": 95,
    "start_time": "2022-12-11T18:33:02.967Z"
   },
   {
    "duration": 96,
    "start_time": "2022-12-11T18:33:03.064Z"
   },
   {
    "duration": 1677,
    "start_time": "2022-12-11T18:33:03.163Z"
   },
   {
    "duration": 145,
    "start_time": "2022-12-11T18:33:04.842Z"
   },
   {
    "duration": 6,
    "start_time": "2022-12-11T18:33:04.989Z"
   },
   {
    "duration": 21964,
    "start_time": "2022-12-11T18:33:04.997Z"
   },
   {
    "duration": 190,
    "start_time": "2022-12-11T18:33:26.963Z"
   },
   {
    "duration": 7,
    "start_time": "2022-12-11T18:33:27.154Z"
   },
   {
    "duration": 98,
    "start_time": "2022-12-11T18:33:27.162Z"
   },
   {
    "duration": 401,
    "start_time": "2022-12-11T18:33:27.262Z"
   },
   {
    "duration": 6,
    "start_time": "2022-12-11T18:33:27.665Z"
   },
   {
    "duration": 1009,
    "start_time": "2022-12-11T18:33:27.674Z"
   },
   {
    "duration": 76,
    "start_time": "2022-12-11T18:34:42.260Z"
   },
   {
    "duration": 131,
    "start_time": "2022-12-11T18:48:33.590Z"
   },
   {
    "duration": 6,
    "start_time": "2022-12-11T18:49:05.165Z"
   },
   {
    "duration": 185,
    "start_time": "2022-12-11T18:50:00.357Z"
   },
   {
    "duration": 7,
    "start_time": "2022-12-11T18:50:16.388Z"
   },
   {
    "duration": 309,
    "start_time": "2022-12-11T18:50:59.321Z"
   },
   {
    "duration": 7,
    "start_time": "2022-12-11T18:51:11.858Z"
   },
   {
    "duration": 6,
    "start_time": "2022-12-11T18:59:06.681Z"
   },
   {
    "duration": 65,
    "start_time": "2022-12-11T19:00:00.759Z"
   },
   {
    "duration": 123,
    "start_time": "2022-12-11T19:00:26.137Z"
   },
   {
    "duration": 11,
    "start_time": "2022-12-11T19:00:36.942Z"
   },
   {
    "duration": 118,
    "start_time": "2022-12-11T19:01:18.037Z"
   },
   {
    "duration": 19044,
    "start_time": "2022-12-11T19:03:04.175Z"
   },
   {
    "duration": 12,
    "start_time": "2022-12-11T19:10:29.882Z"
   },
   {
    "duration": 149,
    "start_time": "2022-12-11T19:11:04.896Z"
   },
   {
    "duration": 140,
    "start_time": "2022-12-11T19:11:31.197Z"
   },
   {
    "duration": 166,
    "start_time": "2022-12-11T19:11:54.091Z"
   },
   {
    "duration": 119,
    "start_time": "2022-12-11T19:12:41.537Z"
   },
   {
    "duration": 139,
    "start_time": "2022-12-11T19:12:47.829Z"
   },
   {
    "duration": 137,
    "start_time": "2022-12-11T19:12:54.666Z"
   },
   {
    "duration": 111,
    "start_time": "2022-12-11T19:13:03.678Z"
   },
   {
    "duration": 124,
    "start_time": "2022-12-11T19:13:11.832Z"
   },
   {
    "duration": 145,
    "start_time": "2022-12-11T19:13:16.864Z"
   },
   {
    "duration": 5,
    "start_time": "2022-12-11T19:14:07.034Z"
   },
   {
    "duration": 501,
    "start_time": "2022-12-11T19:14:19.534Z"
   },
   {
    "duration": 1500,
    "start_time": "2022-12-11T19:17:03.808Z"
   },
   {
    "duration": 1506,
    "start_time": "2022-12-11T19:17:23.440Z"
   },
   {
    "duration": 1465,
    "start_time": "2022-12-11T19:18:01.779Z"
   },
   {
    "duration": 139,
    "start_time": "2022-12-11T19:19:01.663Z"
   },
   {
    "duration": 4250,
    "start_time": "2022-12-11T19:19:28.375Z"
   },
   {
    "duration": 4149,
    "start_time": "2022-12-11T19:19:51.967Z"
   },
   {
    "duration": 4017,
    "start_time": "2022-12-11T19:20:31.460Z"
   },
   {
    "duration": 1636,
    "start_time": "2022-12-13T19:09:25.222Z"
   },
   {
    "duration": 195,
    "start_time": "2022-12-13T19:09:26.860Z"
   },
   {
    "duration": 18,
    "start_time": "2022-12-13T19:09:27.057Z"
   },
   {
    "duration": 13,
    "start_time": "2022-12-13T19:09:27.077Z"
   },
   {
    "duration": 18,
    "start_time": "2022-12-13T19:09:27.092Z"
   },
   {
    "duration": 13,
    "start_time": "2022-12-13T19:09:27.111Z"
   },
   {
    "duration": 82,
    "start_time": "2022-12-13T19:09:27.126Z"
   },
   {
    "duration": 176,
    "start_time": "2022-12-13T19:09:27.210Z"
   },
   {
    "duration": 3,
    "start_time": "2022-12-13T19:09:27.394Z"
   },
   {
    "duration": 20,
    "start_time": "2022-12-13T19:09:27.400Z"
   },
   {
    "duration": 64,
    "start_time": "2022-12-13T19:09:27.422Z"
   },
   {
    "duration": 2860,
    "start_time": "2022-12-13T19:09:27.492Z"
   },
   {
    "duration": 5,
    "start_time": "2022-12-13T19:09:30.354Z"
   },
   {
    "duration": 56,
    "start_time": "2022-12-13T19:09:30.361Z"
   },
   {
    "duration": 35,
    "start_time": "2022-12-13T19:09:30.419Z"
   },
   {
    "duration": 49,
    "start_time": "2022-12-13T19:09:30.456Z"
   },
   {
    "duration": 52,
    "start_time": "2022-12-13T19:09:30.507Z"
   },
   {
    "duration": 36,
    "start_time": "2022-12-13T19:09:30.561Z"
   },
   {
    "duration": 40,
    "start_time": "2022-12-13T19:09:30.598Z"
   },
   {
    "duration": 28,
    "start_time": "2022-12-13T19:09:30.640Z"
   },
   {
    "duration": 45,
    "start_time": "2022-12-13T19:09:30.669Z"
   },
   {
    "duration": 23,
    "start_time": "2022-12-13T19:09:30.716Z"
   },
   {
    "duration": 83,
    "start_time": "2022-12-13T19:09:30.741Z"
   },
   {
    "duration": 1597,
    "start_time": "2022-12-13T19:09:30.825Z"
   },
   {
    "duration": 149,
    "start_time": "2022-12-13T19:09:32.424Z"
   },
   {
    "duration": 15,
    "start_time": "2022-12-13T19:09:32.575Z"
   },
   {
    "duration": 3797,
    "start_time": "2022-12-13T19:09:32.594Z"
   },
   {
    "duration": 128,
    "start_time": "2022-12-13T19:09:36.395Z"
   },
   {
    "duration": 6,
    "start_time": "2022-12-13T19:09:36.525Z"
   },
   {
    "duration": 60,
    "start_time": "2022-12-13T19:09:36.532Z"
   },
   {
    "duration": 458,
    "start_time": "2022-12-13T19:09:36.598Z"
   },
   {
    "duration": 6,
    "start_time": "2022-12-13T19:09:37.058Z"
   },
   {
    "duration": 24,
    "start_time": "2022-12-13T19:09:37.088Z"
   },
   {
    "duration": 152,
    "start_time": "2022-12-13T19:09:37.114Z"
   },
   {
    "duration": 1326,
    "start_time": "2022-12-13T19:09:37.267Z"
   },
   {
    "duration": 3715,
    "start_time": "2022-12-13T19:09:38.595Z"
   },
   {
    "duration": 78,
    "start_time": "2022-12-13T19:09:42.312Z"
   },
   {
    "duration": 218,
    "start_time": "2022-12-13T19:09:42.393Z"
   },
   {
    "duration": 1426,
    "start_time": "2022-12-13T19:09:42.613Z"
   },
   {
    "duration": 162,
    "start_time": "2022-12-13T19:09:44.041Z"
   },
   {
    "duration": 6,
    "start_time": "2022-12-13T19:09:44.205Z"
   },
   {
    "duration": 19927,
    "start_time": "2022-12-13T19:09:44.213Z"
   },
   {
    "duration": 175,
    "start_time": "2022-12-13T19:10:04.142Z"
   },
   {
    "duration": 6,
    "start_time": "2022-12-13T19:10:04.319Z"
   },
   {
    "duration": 65,
    "start_time": "2022-12-13T19:10:04.327Z"
   },
   {
    "duration": 362,
    "start_time": "2022-12-13T19:10:04.396Z"
   },
   {
    "duration": 5,
    "start_time": "2022-12-13T19:10:04.760Z"
   },
   {
    "duration": 926,
    "start_time": "2022-12-13T19:10:04.767Z"
   },
   {
    "duration": 1485,
    "start_time": "2022-12-14T06:43:15.460Z"
   },
   {
    "duration": 91,
    "start_time": "2022-12-14T06:43:16.948Z"
   },
   {
    "duration": 16,
    "start_time": "2022-12-14T06:43:17.041Z"
   },
   {
    "duration": 4,
    "start_time": "2022-12-14T06:43:17.059Z"
   },
   {
    "duration": 17,
    "start_time": "2022-12-14T06:43:17.065Z"
   },
   {
    "duration": 11,
    "start_time": "2022-12-14T06:43:17.083Z"
   },
   {
    "duration": 48,
    "start_time": "2022-12-14T06:43:17.095Z"
   },
   {
    "duration": 75,
    "start_time": "2022-12-14T06:43:17.145Z"
   },
   {
    "duration": 3,
    "start_time": "2022-12-14T06:43:17.222Z"
   },
   {
    "duration": 23,
    "start_time": "2022-12-14T06:43:17.226Z"
   },
   {
    "duration": 7,
    "start_time": "2022-12-14T06:43:17.250Z"
   },
   {
    "duration": 2169,
    "start_time": "2022-12-14T06:43:17.258Z"
   },
   {
    "duration": 4,
    "start_time": "2022-12-14T06:43:19.428Z"
   },
   {
    "duration": 17,
    "start_time": "2022-12-14T06:43:19.435Z"
   },
   {
    "duration": 8,
    "start_time": "2022-12-14T06:43:19.453Z"
   },
   {
    "duration": 57,
    "start_time": "2022-12-14T06:43:19.463Z"
   },
   {
    "duration": 13,
    "start_time": "2022-12-14T06:43:19.522Z"
   },
   {
    "duration": 13,
    "start_time": "2022-12-14T06:43:19.537Z"
   },
   {
    "duration": 7,
    "start_time": "2022-12-14T06:43:19.552Z"
   },
   {
    "duration": 4,
    "start_time": "2022-12-14T06:43:19.561Z"
   },
   {
    "duration": 55,
    "start_time": "2022-12-14T06:43:19.615Z"
   },
   {
    "duration": 0,
    "start_time": "2022-12-14T06:43:19.672Z"
   },
   {
    "duration": 0,
    "start_time": "2022-12-14T06:43:19.674Z"
   },
   {
    "duration": 0,
    "start_time": "2022-12-14T06:43:19.675Z"
   },
   {
    "duration": 0,
    "start_time": "2022-12-14T06:43:19.676Z"
   },
   {
    "duration": 0,
    "start_time": "2022-12-14T06:43:19.677Z"
   },
   {
    "duration": 0,
    "start_time": "2022-12-14T06:43:19.679Z"
   },
   {
    "duration": 0,
    "start_time": "2022-12-14T06:43:19.680Z"
   },
   {
    "duration": 0,
    "start_time": "2022-12-14T06:43:19.681Z"
   },
   {
    "duration": 0,
    "start_time": "2022-12-14T06:43:19.682Z"
   },
   {
    "duration": 0,
    "start_time": "2022-12-14T06:43:19.683Z"
   },
   {
    "duration": 0,
    "start_time": "2022-12-14T06:43:19.716Z"
   },
   {
    "duration": 0,
    "start_time": "2022-12-14T06:43:19.717Z"
   },
   {
    "duration": 0,
    "start_time": "2022-12-14T06:43:19.718Z"
   },
   {
    "duration": 0,
    "start_time": "2022-12-14T06:43:19.719Z"
   },
   {
    "duration": 0,
    "start_time": "2022-12-14T06:43:19.720Z"
   },
   {
    "duration": 0,
    "start_time": "2022-12-14T06:43:19.721Z"
   },
   {
    "duration": 0,
    "start_time": "2022-12-14T06:43:19.722Z"
   },
   {
    "duration": 0,
    "start_time": "2022-12-14T06:43:19.723Z"
   },
   {
    "duration": 0,
    "start_time": "2022-12-14T06:43:19.724Z"
   },
   {
    "duration": 0,
    "start_time": "2022-12-14T06:43:19.725Z"
   },
   {
    "duration": 0,
    "start_time": "2022-12-14T06:43:19.725Z"
   },
   {
    "duration": 0,
    "start_time": "2022-12-14T06:43:19.726Z"
   },
   {
    "duration": 0,
    "start_time": "2022-12-14T06:43:19.728Z"
   },
   {
    "duration": 0,
    "start_time": "2022-12-14T06:43:19.728Z"
   },
   {
    "duration": 0,
    "start_time": "2022-12-14T06:43:19.729Z"
   },
   {
    "duration": 0,
    "start_time": "2022-12-14T06:43:19.731Z"
   },
   {
    "duration": 0,
    "start_time": "2022-12-14T06:43:19.732Z"
   },
   {
    "duration": 0,
    "start_time": "2022-12-14T06:43:19.732Z"
   },
   {
    "duration": 4,
    "start_time": "2022-12-14T06:46:25.693Z"
   },
   {
    "duration": 44,
    "start_time": "2022-12-14T06:46:25.699Z"
   },
   {
    "duration": 11,
    "start_time": "2022-12-14T06:46:25.745Z"
   },
   {
    "duration": 6,
    "start_time": "2022-12-14T06:46:25.758Z"
   },
   {
    "duration": 13,
    "start_time": "2022-12-14T06:46:25.766Z"
   },
   {
    "duration": 10,
    "start_time": "2022-12-14T06:46:25.780Z"
   },
   {
    "duration": 54,
    "start_time": "2022-12-14T06:46:25.792Z"
   },
   {
    "duration": 32,
    "start_time": "2022-12-14T06:46:25.847Z"
   },
   {
    "duration": 3,
    "start_time": "2022-12-14T06:46:25.880Z"
   },
   {
    "duration": 35,
    "start_time": "2022-12-14T06:46:25.885Z"
   },
   {
    "duration": 7,
    "start_time": "2022-12-14T06:46:25.922Z"
   },
   {
    "duration": 1890,
    "start_time": "2022-12-14T06:46:25.930Z"
   },
   {
    "duration": 5,
    "start_time": "2022-12-14T06:46:27.821Z"
   },
   {
    "duration": 15,
    "start_time": "2022-12-14T06:46:27.827Z"
   },
   {
    "duration": 7,
    "start_time": "2022-12-14T06:46:27.844Z"
   },
   {
    "duration": 63,
    "start_time": "2022-12-14T06:46:27.852Z"
   },
   {
    "duration": 11,
    "start_time": "2022-12-14T06:46:27.917Z"
   },
   {
    "duration": 7,
    "start_time": "2022-12-14T06:46:27.930Z"
   },
   {
    "duration": 8,
    "start_time": "2022-12-14T06:46:27.939Z"
   },
   {
    "duration": 4,
    "start_time": "2022-12-14T06:46:27.949Z"
   },
   {
    "duration": 11,
    "start_time": "2022-12-14T06:46:27.954Z"
   },
   {
    "duration": 7,
    "start_time": "2022-12-14T06:46:28.015Z"
   },
   {
    "duration": 4,
    "start_time": "2022-12-14T06:46:28.024Z"
   },
   {
    "duration": 86,
    "start_time": "2022-12-14T06:46:28.030Z"
   },
   {
    "duration": 1580,
    "start_time": "2022-12-14T06:46:28.117Z"
   },
   {
    "duration": 120,
    "start_time": "2022-12-14T06:46:29.698Z"
   },
   {
    "duration": 6,
    "start_time": "2022-12-14T06:46:29.819Z"
   },
   {
    "duration": 3586,
    "start_time": "2022-12-14T06:46:29.829Z"
   },
   {
    "duration": 128,
    "start_time": "2022-12-14T06:46:33.417Z"
   },
   {
    "duration": 5,
    "start_time": "2022-12-14T06:46:33.547Z"
   },
   {
    "duration": 166,
    "start_time": "2022-12-14T06:46:33.553Z"
   },
   {
    "duration": 297,
    "start_time": "2022-12-14T06:46:33.720Z"
   },
   {
    "duration": 6,
    "start_time": "2022-12-14T06:46:34.019Z"
   },
   {
    "duration": 11,
    "start_time": "2022-12-14T06:46:34.026Z"
   },
   {
    "duration": 129,
    "start_time": "2022-12-14T06:46:34.039Z"
   },
   {
    "duration": 1275,
    "start_time": "2022-12-14T06:46:34.169Z"
   },
   {
    "duration": 3507,
    "start_time": "2022-12-14T06:46:35.446Z"
   },
   {
    "duration": 64,
    "start_time": "2022-12-14T06:46:38.954Z"
   },
   {
    "duration": 102,
    "start_time": "2022-12-14T06:46:39.023Z"
   },
   {
    "duration": 1372,
    "start_time": "2022-12-14T06:46:39.216Z"
   },
   {
    "duration": 121,
    "start_time": "2022-12-14T06:46:40.590Z"
   },
   {
    "duration": 7,
    "start_time": "2022-12-14T06:46:40.712Z"
   },
   {
    "duration": 18688,
    "start_time": "2022-12-14T06:46:40.720Z"
   },
   {
    "duration": 160,
    "start_time": "2022-12-14T06:46:59.410Z"
   },
   {
    "duration": 5,
    "start_time": "2022-12-14T06:46:59.571Z"
   },
   {
    "duration": 46,
    "start_time": "2022-12-14T06:46:59.578Z"
   },
   {
    "duration": 340,
    "start_time": "2022-12-14T06:46:59.715Z"
   },
   {
    "duration": 6,
    "start_time": "2022-12-14T06:47:00.057Z"
   },
   {
    "duration": 900,
    "start_time": "2022-12-14T06:47:00.065Z"
   },
   {
    "duration": 6,
    "start_time": "2022-12-14T07:07:12.234Z"
   },
   {
    "duration": 6,
    "start_time": "2022-12-14T07:08:58.260Z"
   },
   {
    "duration": 125,
    "start_time": "2022-12-14T07:17:28.851Z"
   },
   {
    "duration": 6,
    "start_time": "2022-12-14T07:17:52.626Z"
   },
   {
    "duration": 7,
    "start_time": "2022-12-14T07:18:06.337Z"
   },
   {
    "duration": 6,
    "start_time": "2022-12-14T07:18:27.648Z"
   },
   {
    "duration": 171,
    "start_time": "2022-12-14T07:19:13.494Z"
   },
   {
    "duration": 6,
    "start_time": "2022-12-14T07:19:17.013Z"
   },
   {
    "duration": 137,
    "start_time": "2022-12-14T07:19:32.109Z"
   },
   {
    "duration": 279,
    "start_time": "2022-12-14T07:19:52.349Z"
   },
   {
    "duration": 8,
    "start_time": "2022-12-14T07:19:57.525Z"
   },
   {
    "duration": 44,
    "start_time": "2022-12-14T07:20:25.435Z"
   },
   {
    "duration": 8,
    "start_time": "2022-12-14T07:20:37.762Z"
   },
   {
    "duration": 4,
    "start_time": "2022-12-14T07:21:07.094Z"
   },
   {
    "duration": 46,
    "start_time": "2022-12-14T07:21:07.100Z"
   },
   {
    "duration": 11,
    "start_time": "2022-12-14T07:21:07.148Z"
   },
   {
    "duration": 5,
    "start_time": "2022-12-14T07:21:07.162Z"
   },
   {
    "duration": 24,
    "start_time": "2022-12-14T07:21:07.168Z"
   },
   {
    "duration": 14,
    "start_time": "2022-12-14T07:21:07.193Z"
   },
   {
    "duration": 42,
    "start_time": "2022-12-14T07:21:07.209Z"
   },
   {
    "duration": 32,
    "start_time": "2022-12-14T07:21:07.253Z"
   },
   {
    "duration": 29,
    "start_time": "2022-12-14T07:21:07.287Z"
   },
   {
    "duration": 24,
    "start_time": "2022-12-14T07:21:07.320Z"
   },
   {
    "duration": 8,
    "start_time": "2022-12-14T07:21:07.346Z"
   },
   {
    "duration": 1539,
    "start_time": "2022-12-14T07:21:07.356Z"
   },
   {
    "duration": 6,
    "start_time": "2022-12-14T07:21:08.897Z"
   },
   {
    "duration": 20,
    "start_time": "2022-12-14T07:21:08.904Z"
   },
   {
    "duration": 5,
    "start_time": "2022-12-14T07:21:08.926Z"
   },
   {
    "duration": 9,
    "start_time": "2022-12-14T07:21:08.933Z"
   },
   {
    "duration": 11,
    "start_time": "2022-12-14T07:21:08.944Z"
   },
   {
    "duration": 5,
    "start_time": "2022-12-14T07:21:08.957Z"
   },
   {
    "duration": 7,
    "start_time": "2022-12-14T07:21:08.963Z"
   },
   {
    "duration": 8,
    "start_time": "2022-12-14T07:21:08.971Z"
   },
   {
    "duration": 41,
    "start_time": "2022-12-14T07:21:08.981Z"
   },
   {
    "duration": 8,
    "start_time": "2022-12-14T07:21:09.026Z"
   },
   {
    "duration": 7,
    "start_time": "2022-12-14T07:21:09.036Z"
   },
   {
    "duration": 35,
    "start_time": "2022-12-14T07:21:09.045Z"
   },
   {
    "duration": 1326,
    "start_time": "2022-12-14T07:21:09.082Z"
   },
   {
    "duration": 139,
    "start_time": "2022-12-14T07:21:10.409Z"
   },
   {
    "duration": 6,
    "start_time": "2022-12-14T07:21:10.550Z"
   },
   {
    "duration": 3568,
    "start_time": "2022-12-14T07:21:10.559Z"
   },
   {
    "duration": 136,
    "start_time": "2022-12-14T07:21:14.128Z"
   },
   {
    "duration": 7,
    "start_time": "2022-12-14T07:21:14.265Z"
   },
   {
    "duration": 143,
    "start_time": "2022-12-14T07:21:14.273Z"
   },
   {
    "duration": 302,
    "start_time": "2022-12-14T07:21:14.418Z"
   },
   {
    "duration": 6,
    "start_time": "2022-12-14T07:21:14.721Z"
   },
   {
    "duration": 11,
    "start_time": "2022-12-14T07:21:14.728Z"
   },
   {
    "duration": 119,
    "start_time": "2022-12-14T07:21:14.740Z"
   },
   {
    "duration": 1308,
    "start_time": "2022-12-14T07:21:14.862Z"
   },
   {
    "duration": 150,
    "start_time": "2022-12-14T07:21:16.172Z"
   },
   {
    "duration": 7,
    "start_time": "2022-12-14T07:21:16.324Z"
   },
   {
    "duration": 3595,
    "start_time": "2022-12-14T07:21:16.333Z"
   },
   {
    "duration": 130,
    "start_time": "2022-12-14T07:21:19.929Z"
   },
   {
    "duration": 7,
    "start_time": "2022-12-14T07:21:20.061Z"
   },
   {
    "duration": 51,
    "start_time": "2022-12-14T07:21:20.069Z"
   },
   {
    "duration": 394,
    "start_time": "2022-12-14T07:21:20.122Z"
   },
   {
    "duration": 8,
    "start_time": "2022-12-14T07:21:20.518Z"
   },
   {
    "duration": 11,
    "start_time": "2022-12-14T07:21:20.528Z"
   },
   {
    "duration": 1404,
    "start_time": "2022-12-14T07:21:20.541Z"
   },
   {
    "duration": 131,
    "start_time": "2022-12-14T07:21:21.947Z"
   },
   {
    "duration": 6,
    "start_time": "2022-12-14T07:21:22.080Z"
   },
   {
    "duration": 19810,
    "start_time": "2022-12-14T07:21:22.088Z"
   },
   {
    "duration": 165,
    "start_time": "2022-12-14T07:21:41.900Z"
   },
   {
    "duration": 7,
    "start_time": "2022-12-14T07:21:42.067Z"
   },
   {
    "duration": 140,
    "start_time": "2022-12-14T07:21:42.076Z"
   },
   {
    "duration": 405,
    "start_time": "2022-12-14T07:21:42.220Z"
   },
   {
    "duration": 7,
    "start_time": "2022-12-14T07:21:42.626Z"
   },
   {
    "duration": 898,
    "start_time": "2022-12-14T07:21:42.634Z"
   },
   {
    "duration": 7,
    "start_time": "2022-12-14T07:27:23.727Z"
   },
   {
    "duration": 11,
    "start_time": "2022-12-14T07:27:47.404Z"
   },
   {
    "duration": 8,
    "start_time": "2022-12-14T07:27:54.900Z"
   },
   {
    "duration": 256,
    "start_time": "2022-12-14T07:27:56.061Z"
   },
   {
    "duration": 244,
    "start_time": "2022-12-14T07:27:56.774Z"
   },
   {
    "duration": 9,
    "start_time": "2022-12-14T07:27:57.996Z"
   },
   {
    "duration": 49,
    "start_time": "2022-12-14T08:22:45.359Z"
   },
   {
    "duration": 6,
    "start_time": "2022-12-14T08:24:01.432Z"
   },
   {
    "duration": 1516,
    "start_time": "2022-12-14T08:24:05.178Z"
   },
   {
    "duration": 133,
    "start_time": "2022-12-14T08:24:44.058Z"
   },
   {
    "duration": 8,
    "start_time": "2022-12-14T08:26:13.212Z"
   },
   {
    "duration": 12,
    "start_time": "2022-12-14T08:26:23.133Z"
   },
   {
    "duration": 6,
    "start_time": "2022-12-14T08:26:24.939Z"
   },
   {
    "duration": 6,
    "start_time": "2022-12-14T08:26:31.256Z"
   },
   {
    "duration": 69,
    "start_time": "2022-12-14T08:26:31.264Z"
   },
   {
    "duration": 14,
    "start_time": "2022-12-14T08:26:31.335Z"
   },
   {
    "duration": 27,
    "start_time": "2022-12-14T08:26:31.351Z"
   },
   {
    "duration": 29,
    "start_time": "2022-12-14T08:26:31.380Z"
   },
   {
    "duration": 33,
    "start_time": "2022-12-14T08:26:31.410Z"
   },
   {
    "duration": 38,
    "start_time": "2022-12-14T08:26:31.445Z"
   },
   {
    "duration": 43,
    "start_time": "2022-12-14T08:26:31.485Z"
   },
   {
    "duration": 3,
    "start_time": "2022-12-14T08:26:31.529Z"
   },
   {
    "duration": 19,
    "start_time": "2022-12-14T08:26:31.536Z"
   },
   {
    "duration": 8,
    "start_time": "2022-12-14T08:26:31.557Z"
   },
   {
    "duration": 2052,
    "start_time": "2022-12-14T08:26:31.567Z"
   },
   {
    "duration": 5,
    "start_time": "2022-12-14T08:26:33.632Z"
   },
   {
    "duration": 19,
    "start_time": "2022-12-14T08:26:33.639Z"
   },
   {
    "duration": 8,
    "start_time": "2022-12-14T08:26:33.660Z"
   },
   {
    "duration": 62,
    "start_time": "2022-12-14T08:26:33.670Z"
   },
   {
    "duration": 22,
    "start_time": "2022-12-14T08:26:33.735Z"
   },
   {
    "duration": 5,
    "start_time": "2022-12-14T08:26:33.760Z"
   },
   {
    "duration": 19,
    "start_time": "2022-12-14T08:26:33.818Z"
   },
   {
    "duration": 5,
    "start_time": "2022-12-14T08:26:33.839Z"
   },
   {
    "duration": 16,
    "start_time": "2022-12-14T08:26:33.846Z"
   },
   {
    "duration": 61,
    "start_time": "2022-12-14T08:26:33.864Z"
   },
   {
    "duration": 3,
    "start_time": "2022-12-14T08:26:33.926Z"
   },
   {
    "duration": 104,
    "start_time": "2022-12-14T08:26:33.935Z"
   },
   {
    "duration": 1995,
    "start_time": "2022-12-14T08:26:34.041Z"
   },
   {
    "duration": 131,
    "start_time": "2022-12-14T08:26:36.038Z"
   },
   {
    "duration": 5,
    "start_time": "2022-12-14T08:26:36.171Z"
   },
   {
    "duration": 3729,
    "start_time": "2022-12-14T08:26:36.180Z"
   },
   {
    "duration": 146,
    "start_time": "2022-12-14T08:26:39.910Z"
   },
   {
    "duration": 8,
    "start_time": "2022-12-14T08:26:40.058Z"
   },
   {
    "duration": 73,
    "start_time": "2022-12-14T08:26:40.068Z"
   },
   {
    "duration": 332,
    "start_time": "2022-12-14T08:26:40.216Z"
   },
   {
    "duration": 10,
    "start_time": "2022-12-14T08:26:40.550Z"
   },
   {
    "duration": 7,
    "start_time": "2022-12-14T08:26:40.562Z"
   },
   {
    "duration": 161,
    "start_time": "2022-12-14T08:26:40.571Z"
   },
   {
    "duration": 1374,
    "start_time": "2022-12-14T08:26:40.734Z"
   },
   {
    "duration": 163,
    "start_time": "2022-12-14T08:26:42.110Z"
   },
   {
    "duration": 8,
    "start_time": "2022-12-14T08:26:42.275Z"
   },
   {
    "duration": 3752,
    "start_time": "2022-12-14T08:26:42.285Z"
   },
   {
    "duration": 174,
    "start_time": "2022-12-14T08:26:46.043Z"
   },
   {
    "duration": 9,
    "start_time": "2022-12-14T08:26:46.231Z"
   },
   {
    "duration": 82,
    "start_time": "2022-12-14T08:26:46.242Z"
   },
   {
    "duration": 335,
    "start_time": "2022-12-14T08:26:46.326Z"
   },
   {
    "duration": 10,
    "start_time": "2022-12-14T08:26:46.664Z"
   },
   {
    "duration": 31,
    "start_time": "2022-12-14T08:26:46.676Z"
   },
   {
    "duration": 22,
    "start_time": "2022-12-14T08:26:46.710Z"
   },
   {
    "duration": 1465,
    "start_time": "2022-12-14T08:26:46.734Z"
   },
   {
    "duration": 133,
    "start_time": "2022-12-14T08:26:48.201Z"
   },
   {
    "duration": 6,
    "start_time": "2022-12-14T08:26:48.336Z"
   },
   {
    "duration": 20480,
    "start_time": "2022-12-14T08:26:48.344Z"
   },
   {
    "duration": 176,
    "start_time": "2022-12-14T08:27:08.828Z"
   },
   {
    "duration": 13,
    "start_time": "2022-12-14T08:27:09.006Z"
   },
   {
    "duration": 108,
    "start_time": "2022-12-14T08:27:09.023Z"
   },
   {
    "duration": 399,
    "start_time": "2022-12-14T08:27:09.134Z"
   },
   {
    "duration": 6,
    "start_time": "2022-12-14T08:27:09.535Z"
   },
   {
    "duration": 949,
    "start_time": "2022-12-14T08:27:09.543Z"
   },
   {
    "duration": 4,
    "start_time": "2022-12-14T08:27:32.551Z"
   },
   {
    "duration": 6,
    "start_time": "2022-12-14T08:27:34.608Z"
   },
   {
    "duration": 6,
    "start_time": "2022-12-14T08:28:12.239Z"
   },
   {
    "duration": 8,
    "start_time": "2022-12-14T08:28:12.974Z"
   },
   {
    "duration": 11,
    "start_time": "2022-12-14T08:28:24.973Z"
   },
   {
    "duration": 7,
    "start_time": "2022-12-14T08:28:25.693Z"
   },
   {
    "duration": 10,
    "start_time": "2022-12-14T08:28:32.005Z"
   },
   {
    "duration": 8,
    "start_time": "2022-12-14T08:28:32.899Z"
   },
   {
    "duration": 11,
    "start_time": "2022-12-14T08:28:41.276Z"
   },
   {
    "duration": 6,
    "start_time": "2022-12-14T08:28:42.231Z"
   },
   {
    "duration": 9,
    "start_time": "2022-12-14T08:28:46.633Z"
   },
   {
    "duration": 12,
    "start_time": "2022-12-14T08:28:48.939Z"
   },
   {
    "duration": 6,
    "start_time": "2022-12-14T08:28:52.299Z"
   },
   {
    "duration": 129,
    "start_time": "2022-12-14T08:29:02.800Z"
   },
   {
    "duration": 13,
    "start_time": "2022-12-14T08:29:12.134Z"
   },
   {
    "duration": 15,
    "start_time": "2022-12-14T08:31:45.496Z"
   },
   {
    "duration": 8,
    "start_time": "2022-12-14T08:31:46.132Z"
   },
   {
    "duration": 10,
    "start_time": "2022-12-14T08:34:52.739Z"
   },
   {
    "duration": 12,
    "start_time": "2022-12-14T08:35:49.735Z"
   },
   {
    "duration": 6,
    "start_time": "2022-12-14T08:35:51.432Z"
   },
   {
    "duration": 12,
    "start_time": "2022-12-14T08:35:59.375Z"
   },
   {
    "duration": 12,
    "start_time": "2022-12-14T08:36:01.863Z"
   },
   {
    "duration": 6,
    "start_time": "2022-12-14T08:36:02.663Z"
   },
   {
    "duration": 13,
    "start_time": "2022-12-14T08:36:18.357Z"
   },
   {
    "duration": 6,
    "start_time": "2022-12-14T08:36:18.861Z"
   },
   {
    "duration": 5,
    "start_time": "2022-12-14T08:36:32.158Z"
   },
   {
    "duration": 43,
    "start_time": "2022-12-14T08:36:32.166Z"
   },
   {
    "duration": 16,
    "start_time": "2022-12-14T08:36:32.210Z"
   },
   {
    "duration": 32,
    "start_time": "2022-12-14T08:36:32.227Z"
   },
   {
    "duration": 13,
    "start_time": "2022-12-14T08:36:32.261Z"
   },
   {
    "duration": 10,
    "start_time": "2022-12-14T08:36:32.276Z"
   },
   {
    "duration": 45,
    "start_time": "2022-12-14T08:36:32.288Z"
   },
   {
    "duration": 38,
    "start_time": "2022-12-14T08:36:32.335Z"
   },
   {
    "duration": 2,
    "start_time": "2022-12-14T08:36:32.375Z"
   },
   {
    "duration": 19,
    "start_time": "2022-12-14T08:36:32.379Z"
   },
   {
    "duration": 17,
    "start_time": "2022-12-14T08:36:32.421Z"
   },
   {
    "duration": 1904,
    "start_time": "2022-12-14T08:36:32.448Z"
   },
   {
    "duration": 5,
    "start_time": "2022-12-14T08:36:34.353Z"
   },
   {
    "duration": 76,
    "start_time": "2022-12-14T08:36:34.360Z"
   },
   {
    "duration": 16,
    "start_time": "2022-12-14T08:36:34.444Z"
   },
   {
    "duration": 17,
    "start_time": "2022-12-14T08:36:34.461Z"
   },
   {
    "duration": 19,
    "start_time": "2022-12-14T08:36:34.518Z"
   },
   {
    "duration": 22,
    "start_time": "2022-12-14T08:36:34.539Z"
   },
   {
    "duration": 55,
    "start_time": "2022-12-14T08:36:34.563Z"
   },
   {
    "duration": 5,
    "start_time": "2022-12-14T08:36:34.620Z"
   },
   {
    "duration": 34,
    "start_time": "2022-12-14T08:36:34.627Z"
   },
   {
    "duration": 6,
    "start_time": "2022-12-14T08:36:34.663Z"
   },
   {
    "duration": 16,
    "start_time": "2022-12-14T08:36:34.670Z"
   },
   {
    "duration": 105,
    "start_time": "2022-12-14T08:36:34.717Z"
   },
   {
    "duration": 2029,
    "start_time": "2022-12-14T08:36:34.824Z"
   },
   {
    "duration": 135,
    "start_time": "2022-12-14T08:36:36.855Z"
   },
   {
    "duration": 6,
    "start_time": "2022-12-14T08:36:36.991Z"
   },
   {
    "duration": 3740,
    "start_time": "2022-12-14T08:36:36.998Z"
   },
   {
    "duration": 134,
    "start_time": "2022-12-14T08:36:40.744Z"
   },
   {
    "duration": 5,
    "start_time": "2022-12-14T08:36:40.880Z"
   },
   {
    "duration": 145,
    "start_time": "2022-12-14T08:36:40.887Z"
   },
   {
    "duration": 302,
    "start_time": "2022-12-14T08:36:41.036Z"
   },
   {
    "duration": 9,
    "start_time": "2022-12-14T08:36:41.339Z"
   },
   {
    "duration": 22,
    "start_time": "2022-12-14T08:36:41.350Z"
   },
   {
    "duration": 127,
    "start_time": "2022-12-14T08:36:41.374Z"
   },
   {
    "duration": 1454,
    "start_time": "2022-12-14T08:36:41.503Z"
   },
   {
    "duration": 141,
    "start_time": "2022-12-14T08:36:42.959Z"
   },
   {
    "duration": 18,
    "start_time": "2022-12-14T08:36:43.102Z"
   },
   {
    "duration": 3819,
    "start_time": "2022-12-14T08:36:43.121Z"
   },
   {
    "duration": 135,
    "start_time": "2022-12-14T08:36:46.942Z"
   },
   {
    "duration": 6,
    "start_time": "2022-12-14T08:36:47.081Z"
   },
   {
    "duration": 50,
    "start_time": "2022-12-14T08:36:47.089Z"
   },
   {
    "duration": 273,
    "start_time": "2022-12-14T08:36:47.140Z"
   },
   {
    "duration": 13,
    "start_time": "2022-12-14T08:36:47.415Z"
   },
   {
    "duration": 24,
    "start_time": "2022-12-14T08:36:47.435Z"
   },
   {
    "duration": 6,
    "start_time": "2022-12-14T08:36:47.461Z"
   },
   {
    "duration": 1737,
    "start_time": "2022-12-14T08:36:47.469Z"
   },
   {
    "duration": 141,
    "start_time": "2022-12-14T08:36:49.207Z"
   },
   {
    "duration": 5,
    "start_time": "2022-12-14T08:36:49.350Z"
   },
   {
    "duration": 23779,
    "start_time": "2022-12-14T08:36:49.356Z"
   },
   {
    "duration": 187,
    "start_time": "2022-12-14T08:37:13.137Z"
   },
   {
    "duration": 10,
    "start_time": "2022-12-14T08:37:13.332Z"
   },
   {
    "duration": 88,
    "start_time": "2022-12-14T08:37:13.344Z"
   },
   {
    "duration": 396,
    "start_time": "2022-12-14T08:37:13.437Z"
   },
   {
    "duration": 12,
    "start_time": "2022-12-14T08:37:13.835Z"
   },
   {
    "duration": 1106,
    "start_time": "2022-12-14T08:37:13.848Z"
   },
   {
    "duration": 11,
    "start_time": "2022-12-14T08:37:14.957Z"
   },
   {
    "duration": 5,
    "start_time": "2022-12-14T08:37:14.970Z"
   },
   {
    "duration": 15,
    "start_time": "2022-12-14T08:37:24.082Z"
   },
   {
    "duration": 6,
    "start_time": "2022-12-14T08:37:24.772Z"
   },
   {
    "duration": 12,
    "start_time": "2022-12-14T08:37:31.474Z"
   },
   {
    "duration": 8,
    "start_time": "2022-12-14T08:37:32.058Z"
   },
   {
    "duration": 11,
    "start_time": "2022-12-14T08:37:35.539Z"
   },
   {
    "duration": 5,
    "start_time": "2022-12-14T08:37:36.098Z"
   },
   {
    "duration": 23,
    "start_time": "2022-12-14T08:37:41.114Z"
   },
   {
    "duration": 5,
    "start_time": "2022-12-14T08:37:41.639Z"
   },
   {
    "duration": 14,
    "start_time": "2022-12-14T08:37:45.932Z"
   },
   {
    "duration": 7,
    "start_time": "2022-12-14T08:37:46.443Z"
   },
   {
    "duration": 22,
    "start_time": "2022-12-14T08:38:12.031Z"
   },
   {
    "duration": 6,
    "start_time": "2022-12-14T08:38:12.680Z"
   },
   {
    "duration": 1525,
    "start_time": "2022-12-14T08:38:22.576Z"
   },
   {
    "duration": 4,
    "start_time": "2022-12-14T08:49:25.469Z"
   },
   {
    "duration": 43,
    "start_time": "2022-12-14T08:49:25.475Z"
   },
   {
    "duration": 13,
    "start_time": "2022-12-14T08:49:25.519Z"
   },
   {
    "duration": 7,
    "start_time": "2022-12-14T08:49:25.534Z"
   },
   {
    "duration": 28,
    "start_time": "2022-12-14T08:49:25.542Z"
   },
   {
    "duration": 12,
    "start_time": "2022-12-14T08:49:25.572Z"
   },
   {
    "duration": 54,
    "start_time": "2022-12-14T08:49:25.585Z"
   },
   {
    "duration": 32,
    "start_time": "2022-12-14T08:49:25.641Z"
   },
   {
    "duration": 2,
    "start_time": "2022-12-14T08:49:25.675Z"
   },
   {
    "duration": 42,
    "start_time": "2022-12-14T08:49:25.679Z"
   },
   {
    "duration": 7,
    "start_time": "2022-12-14T08:49:25.723Z"
   },
   {
    "duration": 1577,
    "start_time": "2022-12-14T08:49:25.731Z"
   },
   {
    "duration": 6,
    "start_time": "2022-12-14T08:49:27.310Z"
   },
   {
    "duration": 29,
    "start_time": "2022-12-14T08:49:27.318Z"
   },
   {
    "duration": 25,
    "start_time": "2022-12-14T08:49:27.349Z"
   },
   {
    "duration": 22,
    "start_time": "2022-12-14T08:49:27.376Z"
   },
   {
    "duration": 19,
    "start_time": "2022-12-14T08:49:27.399Z"
   },
   {
    "duration": 21,
    "start_time": "2022-12-14T08:49:27.420Z"
   },
   {
    "duration": 24,
    "start_time": "2022-12-14T08:49:27.443Z"
   },
   {
    "duration": 24,
    "start_time": "2022-12-14T08:49:27.468Z"
   },
   {
    "duration": 14,
    "start_time": "2022-12-14T08:49:27.493Z"
   },
   {
    "duration": 7,
    "start_time": "2022-12-14T08:49:27.509Z"
   },
   {
    "duration": 5,
    "start_time": "2022-12-14T08:49:27.518Z"
   },
   {
    "duration": 207,
    "start_time": "2022-12-14T08:49:27.525Z"
   },
   {
    "duration": 1341,
    "start_time": "2022-12-14T08:49:27.734Z"
   },
   {
    "duration": 163,
    "start_time": "2022-12-14T08:49:29.077Z"
   },
   {
    "duration": 6,
    "start_time": "2022-12-14T08:49:29.242Z"
   },
   {
    "duration": 3649,
    "start_time": "2022-12-14T08:49:29.252Z"
   },
   {
    "duration": 135,
    "start_time": "2022-12-14T08:49:32.903Z"
   },
   {
    "duration": 7,
    "start_time": "2022-12-14T08:49:33.040Z"
   },
   {
    "duration": 267,
    "start_time": "2022-12-14T08:49:33.049Z"
   },
   {
    "duration": 300,
    "start_time": "2022-12-14T08:49:33.318Z"
   },
   {
    "duration": 9,
    "start_time": "2022-12-14T08:49:33.620Z"
   },
   {
    "duration": 15,
    "start_time": "2022-12-14T08:49:33.631Z"
   },
   {
    "duration": 123,
    "start_time": "2022-12-14T08:49:33.648Z"
   },
   {
    "duration": 1342,
    "start_time": "2022-12-14T08:49:33.773Z"
   },
   {
    "duration": 127,
    "start_time": "2022-12-14T08:49:35.117Z"
   },
   {
    "duration": 5,
    "start_time": "2022-12-14T08:49:35.246Z"
   },
   {
    "duration": 3680,
    "start_time": "2022-12-14T08:49:35.253Z"
   },
   {
    "duration": 137,
    "start_time": "2022-12-14T08:49:38.935Z"
   },
   {
    "duration": 6,
    "start_time": "2022-12-14T08:49:39.075Z"
   },
   {
    "duration": 244,
    "start_time": "2022-12-14T08:49:39.083Z"
   },
   {
    "duration": 401,
    "start_time": "2022-12-14T08:49:39.329Z"
   },
   {
    "duration": 8,
    "start_time": "2022-12-14T08:49:39.732Z"
   },
   {
    "duration": 14,
    "start_time": "2022-12-14T08:49:39.742Z"
   },
   {
    "duration": 7,
    "start_time": "2022-12-14T08:49:39.758Z"
   },
   {
    "duration": 1527,
    "start_time": "2022-12-14T08:49:39.766Z"
   },
   {
    "duration": 122,
    "start_time": "2022-12-14T08:49:41.295Z"
   },
   {
    "duration": 6,
    "start_time": "2022-12-14T08:49:41.419Z"
   },
   {
    "duration": 21455,
    "start_time": "2022-12-14T08:49:41.426Z"
   },
   {
    "duration": 174,
    "start_time": "2022-12-14T08:50:02.883Z"
   },
   {
    "duration": 6,
    "start_time": "2022-12-14T08:50:03.059Z"
   },
   {
    "duration": 58,
    "start_time": "2022-12-14T08:50:03.067Z"
   },
   {
    "duration": 397,
    "start_time": "2022-12-14T08:50:03.127Z"
   },
   {
    "duration": 5,
    "start_time": "2022-12-14T08:50:03.526Z"
   },
   {
    "duration": 1009,
    "start_time": "2022-12-14T08:50:03.533Z"
   },
   {
    "duration": 6,
    "start_time": "2022-12-14T12:20:21.707Z"
   },
   {
    "duration": 60,
    "start_time": "2022-12-14T12:20:21.715Z"
   },
   {
    "duration": 13,
    "start_time": "2022-12-14T12:20:21.777Z"
   },
   {
    "duration": 26,
    "start_time": "2022-12-14T12:20:21.791Z"
   },
   {
    "duration": 18,
    "start_time": "2022-12-14T12:20:21.819Z"
   },
   {
    "duration": 10,
    "start_time": "2022-12-14T12:20:21.839Z"
   },
   {
    "duration": 43,
    "start_time": "2022-12-14T12:20:21.851Z"
   },
   {
    "duration": 54,
    "start_time": "2022-12-14T12:20:21.896Z"
   },
   {
    "duration": 3,
    "start_time": "2022-12-14T12:20:21.951Z"
   },
   {
    "duration": 29,
    "start_time": "2022-12-14T12:20:21.955Z"
   },
   {
    "duration": 12,
    "start_time": "2022-12-14T12:20:21.986Z"
   },
   {
    "duration": 1519,
    "start_time": "2022-12-14T12:20:22.000Z"
   },
   {
    "duration": 5,
    "start_time": "2022-12-14T12:20:23.522Z"
   },
   {
    "duration": 17,
    "start_time": "2022-12-14T12:20:23.531Z"
   },
   {
    "duration": 7,
    "start_time": "2022-12-14T12:20:23.550Z"
   },
   {
    "duration": 13,
    "start_time": "2022-12-14T12:20:23.559Z"
   },
   {
    "duration": 12,
    "start_time": "2022-12-14T12:20:23.573Z"
   },
   {
    "duration": 31,
    "start_time": "2022-12-14T12:20:23.586Z"
   },
   {
    "duration": 15,
    "start_time": "2022-12-14T12:20:23.618Z"
   },
   {
    "duration": 10,
    "start_time": "2022-12-14T12:20:23.635Z"
   },
   {
    "duration": 12,
    "start_time": "2022-12-14T12:20:23.646Z"
   },
   {
    "duration": 6,
    "start_time": "2022-12-14T12:20:23.660Z"
   },
   {
    "duration": 7,
    "start_time": "2022-12-14T12:20:23.668Z"
   },
   {
    "duration": 48,
    "start_time": "2022-12-14T12:20:23.676Z"
   },
   {
    "duration": 2095,
    "start_time": "2022-12-14T12:20:23.725Z"
   },
   {
    "duration": 234,
    "start_time": "2022-12-14T12:20:25.822Z"
   },
   {
    "duration": 7,
    "start_time": "2022-12-14T12:20:26.059Z"
   },
   {
    "duration": 3686,
    "start_time": "2022-12-14T12:20:26.118Z"
   },
   {
    "duration": 133,
    "start_time": "2022-12-14T12:20:29.805Z"
   },
   {
    "duration": 6,
    "start_time": "2022-12-14T12:20:29.939Z"
   },
   {
    "duration": 73,
    "start_time": "2022-12-14T12:20:29.947Z"
   },
   {
    "duration": 421,
    "start_time": "2022-12-14T12:20:30.021Z"
   },
   {
    "duration": 8,
    "start_time": "2022-12-14T12:20:30.443Z"
   },
   {
    "duration": 29,
    "start_time": "2022-12-14T12:20:30.453Z"
   },
   {
    "duration": 148,
    "start_time": "2022-12-14T12:20:30.483Z"
   },
   {
    "duration": 1367,
    "start_time": "2022-12-14T12:20:30.633Z"
   },
   {
    "duration": 149,
    "start_time": "2022-12-14T12:20:32.001Z"
   },
   {
    "duration": 7,
    "start_time": "2022-12-14T12:20:32.152Z"
   },
   {
    "duration": 3640,
    "start_time": "2022-12-14T12:20:32.161Z"
   },
   {
    "duration": 138,
    "start_time": "2022-12-14T12:20:35.803Z"
   },
   {
    "duration": 5,
    "start_time": "2022-12-14T12:20:35.946Z"
   },
   {
    "duration": 176,
    "start_time": "2022-12-14T12:20:35.953Z"
   },
   {
    "duration": 421,
    "start_time": "2022-12-14T12:20:36.216Z"
   },
   {
    "duration": 8,
    "start_time": "2022-12-14T12:20:36.639Z"
   },
   {
    "duration": 21,
    "start_time": "2022-12-14T12:20:36.649Z"
   },
   {
    "duration": 10,
    "start_time": "2022-12-14T12:20:36.672Z"
   },
   {
    "duration": 1553,
    "start_time": "2022-12-14T12:20:36.683Z"
   },
   {
    "duration": 126,
    "start_time": "2022-12-14T12:20:38.238Z"
   },
   {
    "duration": 6,
    "start_time": "2022-12-14T12:20:38.366Z"
   },
   {
    "duration": 21747,
    "start_time": "2022-12-14T12:20:38.374Z"
   },
   {
    "duration": 178,
    "start_time": "2022-12-14T12:21:00.123Z"
   },
   {
    "duration": 15,
    "start_time": "2022-12-14T12:21:00.302Z"
   },
   {
    "duration": 106,
    "start_time": "2022-12-14T12:21:00.319Z"
   },
   {
    "duration": 493,
    "start_time": "2022-12-14T12:21:00.428Z"
   },
   {
    "duration": 6,
    "start_time": "2022-12-14T12:21:00.922Z"
   },
   {
    "duration": 1043,
    "start_time": "2022-12-14T12:21:00.929Z"
   },
   {
    "duration": 10,
    "start_time": "2022-12-14T12:22:07.269Z"
   },
   {
    "duration": 7,
    "start_time": "2022-12-14T12:22:09.388Z"
   },
   {
    "duration": 15,
    "start_time": "2022-12-14T12:22:14.413Z"
   },
   {
    "duration": 6,
    "start_time": "2022-12-14T12:22:16.148Z"
   },
   {
    "duration": 13,
    "start_time": "2022-12-14T12:24:16.359Z"
   },
   {
    "duration": 979,
    "start_time": "2022-12-14T14:10:56.999Z"
   },
   {
    "duration": 4,
    "start_time": "2022-12-14T14:24:16.165Z"
   },
   {
    "duration": 41,
    "start_time": "2022-12-14T14:24:16.171Z"
   },
   {
    "duration": 20,
    "start_time": "2022-12-14T14:24:16.214Z"
   },
   {
    "duration": 7,
    "start_time": "2022-12-14T14:24:16.236Z"
   },
   {
    "duration": 15,
    "start_time": "2022-12-14T14:24:16.245Z"
   },
   {
    "duration": 11,
    "start_time": "2022-12-14T14:24:16.261Z"
   },
   {
    "duration": 75,
    "start_time": "2022-12-14T14:24:16.273Z"
   },
   {
    "duration": 39,
    "start_time": "2022-12-14T14:24:16.350Z"
   },
   {
    "duration": 2,
    "start_time": "2022-12-14T14:24:16.392Z"
   },
   {
    "duration": 17,
    "start_time": "2022-12-14T14:24:16.416Z"
   },
   {
    "duration": 13,
    "start_time": "2022-12-14T14:24:16.435Z"
   },
   {
    "duration": 1514,
    "start_time": "2022-12-14T14:24:16.450Z"
   },
   {
    "duration": 4,
    "start_time": "2022-12-14T14:24:17.966Z"
   },
   {
    "duration": 22,
    "start_time": "2022-12-14T14:24:17.971Z"
   },
   {
    "duration": 8,
    "start_time": "2022-12-14T14:24:17.995Z"
   },
   {
    "duration": 21,
    "start_time": "2022-12-14T14:24:18.005Z"
   },
   {
    "duration": 11,
    "start_time": "2022-12-14T14:24:18.028Z"
   },
   {
    "duration": 11,
    "start_time": "2022-12-14T14:24:18.041Z"
   },
   {
    "duration": 9,
    "start_time": "2022-12-14T14:24:18.055Z"
   },
   {
    "duration": 8,
    "start_time": "2022-12-14T14:24:18.066Z"
   },
   {
    "duration": 21,
    "start_time": "2022-12-14T14:24:18.076Z"
   },
   {
    "duration": 8,
    "start_time": "2022-12-14T14:24:18.099Z"
   },
   {
    "duration": 2,
    "start_time": "2022-12-14T14:24:18.116Z"
   },
   {
    "duration": 46,
    "start_time": "2022-12-14T14:24:18.122Z"
   },
   {
    "duration": 13,
    "start_time": "2022-12-14T14:24:18.169Z"
   },
   {
    "duration": 0,
    "start_time": "2022-12-14T14:24:18.183Z"
   },
   {
    "duration": 0,
    "start_time": "2022-12-14T14:24:18.185Z"
   },
   {
    "duration": 0,
    "start_time": "2022-12-14T14:24:18.186Z"
   },
   {
    "duration": 0,
    "start_time": "2022-12-14T14:24:18.187Z"
   },
   {
    "duration": 0,
    "start_time": "2022-12-14T14:24:18.188Z"
   },
   {
    "duration": 0,
    "start_time": "2022-12-14T14:24:18.190Z"
   },
   {
    "duration": 0,
    "start_time": "2022-12-14T14:24:18.191Z"
   },
   {
    "duration": 0,
    "start_time": "2022-12-14T14:24:18.191Z"
   },
   {
    "duration": 0,
    "start_time": "2022-12-14T14:24:18.192Z"
   },
   {
    "duration": 0,
    "start_time": "2022-12-14T14:24:18.193Z"
   },
   {
    "duration": 0,
    "start_time": "2022-12-14T14:24:18.215Z"
   },
   {
    "duration": 0,
    "start_time": "2022-12-14T14:24:18.216Z"
   },
   {
    "duration": 0,
    "start_time": "2022-12-14T14:24:18.217Z"
   },
   {
    "duration": 0,
    "start_time": "2022-12-14T14:24:18.218Z"
   },
   {
    "duration": 0,
    "start_time": "2022-12-14T14:24:18.219Z"
   },
   {
    "duration": 0,
    "start_time": "2022-12-14T14:24:18.220Z"
   },
   {
    "duration": 0,
    "start_time": "2022-12-14T14:24:18.221Z"
   },
   {
    "duration": 0,
    "start_time": "2022-12-14T14:24:18.223Z"
   },
   {
    "duration": 0,
    "start_time": "2022-12-14T14:24:18.224Z"
   },
   {
    "duration": 0,
    "start_time": "2022-12-14T14:24:18.225Z"
   },
   {
    "duration": 0,
    "start_time": "2022-12-14T14:24:18.226Z"
   },
   {
    "duration": 0,
    "start_time": "2022-12-14T14:24:18.227Z"
   },
   {
    "duration": 0,
    "start_time": "2022-12-14T14:24:18.228Z"
   },
   {
    "duration": 0,
    "start_time": "2022-12-14T14:24:18.229Z"
   },
   {
    "duration": 0,
    "start_time": "2022-12-14T14:24:18.230Z"
   },
   {
    "duration": 0,
    "start_time": "2022-12-14T14:24:18.231Z"
   },
   {
    "duration": 0,
    "start_time": "2022-12-14T14:24:18.232Z"
   },
   {
    "duration": 0,
    "start_time": "2022-12-14T14:24:18.233Z"
   },
   {
    "duration": 0,
    "start_time": "2022-12-14T14:24:18.234Z"
   },
   {
    "duration": 0,
    "start_time": "2022-12-14T14:24:18.235Z"
   },
   {
    "duration": 0,
    "start_time": "2022-12-14T14:24:18.235Z"
   },
   {
    "duration": 0,
    "start_time": "2022-12-14T14:24:18.236Z"
   },
   {
    "duration": 0,
    "start_time": "2022-12-14T14:24:18.238Z"
   },
   {
    "duration": 0,
    "start_time": "2022-12-14T14:24:18.238Z"
   },
   {
    "duration": 12,
    "start_time": "2022-12-14T14:25:23.752Z"
   },
   {
    "duration": 0,
    "start_time": "2022-12-14T14:25:23.766Z"
   },
   {
    "duration": 1,
    "start_time": "2022-12-14T14:25:23.767Z"
   },
   {
    "duration": 0,
    "start_time": "2022-12-14T14:25:23.769Z"
   },
   {
    "duration": 0,
    "start_time": "2022-12-14T14:25:23.770Z"
   },
   {
    "duration": 0,
    "start_time": "2022-12-14T14:25:23.771Z"
   },
   {
    "duration": 0,
    "start_time": "2022-12-14T14:25:23.773Z"
   },
   {
    "duration": 0,
    "start_time": "2022-12-14T14:25:23.774Z"
   },
   {
    "duration": 2,
    "start_time": "2022-12-14T14:25:23.777Z"
   },
   {
    "duration": 17,
    "start_time": "2022-12-14T14:25:23.781Z"
   },
   {
    "duration": 17,
    "start_time": "2022-12-14T14:25:23.800Z"
   },
   {
    "duration": 1423,
    "start_time": "2022-12-14T14:25:23.818Z"
   },
   {
    "duration": 5,
    "start_time": "2022-12-14T14:25:25.243Z"
   },
   {
    "duration": 13,
    "start_time": "2022-12-14T14:25:25.251Z"
   },
   {
    "duration": 6,
    "start_time": "2022-12-14T14:25:25.266Z"
   },
   {
    "duration": 14,
    "start_time": "2022-12-14T14:25:25.274Z"
   },
   {
    "duration": 34,
    "start_time": "2022-12-14T14:25:25.289Z"
   },
   {
    "duration": 15,
    "start_time": "2022-12-14T14:25:25.325Z"
   },
   {
    "duration": 9,
    "start_time": "2022-12-14T14:25:25.342Z"
   },
   {
    "duration": 4,
    "start_time": "2022-12-14T14:25:25.353Z"
   },
   {
    "duration": 12,
    "start_time": "2022-12-14T14:25:25.358Z"
   },
   {
    "duration": 6,
    "start_time": "2022-12-14T14:25:25.371Z"
   },
   {
    "duration": 2,
    "start_time": "2022-12-14T14:25:25.378Z"
   },
   {
    "duration": 53,
    "start_time": "2022-12-14T14:25:25.382Z"
   },
   {
    "duration": 9,
    "start_time": "2022-12-14T14:25:25.437Z"
   },
   {
    "duration": 0,
    "start_time": "2022-12-14T14:25:25.448Z"
   },
   {
    "duration": 0,
    "start_time": "2022-12-14T14:25:25.449Z"
   },
   {
    "duration": 0,
    "start_time": "2022-12-14T14:25:25.450Z"
   },
   {
    "duration": 0,
    "start_time": "2022-12-14T14:25:25.451Z"
   },
   {
    "duration": 0,
    "start_time": "2022-12-14T14:25:25.452Z"
   },
   {
    "duration": 0,
    "start_time": "2022-12-14T14:25:25.453Z"
   },
   {
    "duration": 1,
    "start_time": "2022-12-14T14:25:25.454Z"
   },
   {
    "duration": 0,
    "start_time": "2022-12-14T14:25:25.456Z"
   },
   {
    "duration": 0,
    "start_time": "2022-12-14T14:25:25.457Z"
   },
   {
    "duration": 0,
    "start_time": "2022-12-14T14:25:25.458Z"
   },
   {
    "duration": 0,
    "start_time": "2022-12-14T14:25:25.459Z"
   },
   {
    "duration": 0,
    "start_time": "2022-12-14T14:25:25.460Z"
   },
   {
    "duration": 0,
    "start_time": "2022-12-14T14:25:25.461Z"
   },
   {
    "duration": 0,
    "start_time": "2022-12-14T14:25:25.462Z"
   },
   {
    "duration": 0,
    "start_time": "2022-12-14T14:25:25.463Z"
   },
   {
    "duration": 0,
    "start_time": "2022-12-14T14:25:25.464Z"
   },
   {
    "duration": 0,
    "start_time": "2022-12-14T14:25:25.465Z"
   },
   {
    "duration": 0,
    "start_time": "2022-12-14T14:25:25.465Z"
   },
   {
    "duration": 0,
    "start_time": "2022-12-14T14:25:25.467Z"
   },
   {
    "duration": 0,
    "start_time": "2022-12-14T14:25:25.467Z"
   },
   {
    "duration": 0,
    "start_time": "2022-12-14T14:25:25.468Z"
   },
   {
    "duration": 0,
    "start_time": "2022-12-14T14:25:25.469Z"
   },
   {
    "duration": 0,
    "start_time": "2022-12-14T14:25:25.470Z"
   },
   {
    "duration": 0,
    "start_time": "2022-12-14T14:25:25.515Z"
   },
   {
    "duration": 0,
    "start_time": "2022-12-14T14:25:25.516Z"
   },
   {
    "duration": 0,
    "start_time": "2022-12-14T14:25:25.517Z"
   },
   {
    "duration": 0,
    "start_time": "2022-12-14T14:25:25.519Z"
   },
   {
    "duration": 0,
    "start_time": "2022-12-14T14:25:25.520Z"
   },
   {
    "duration": 0,
    "start_time": "2022-12-14T14:25:25.521Z"
   },
   {
    "duration": 0,
    "start_time": "2022-12-14T14:25:25.522Z"
   },
   {
    "duration": 0,
    "start_time": "2022-12-14T14:25:25.523Z"
   },
   {
    "duration": 0,
    "start_time": "2022-12-14T14:25:25.524Z"
   },
   {
    "duration": 0,
    "start_time": "2022-12-14T14:25:25.525Z"
   },
   {
    "duration": 0,
    "start_time": "2022-12-14T14:25:25.526Z"
   },
   {
    "duration": 19,
    "start_time": "2022-12-14T14:27:20.916Z"
   },
   {
    "duration": 0,
    "start_time": "2022-12-14T14:27:20.937Z"
   },
   {
    "duration": 0,
    "start_time": "2022-12-14T14:27:20.937Z"
   },
   {
    "duration": 0,
    "start_time": "2022-12-14T14:27:20.939Z"
   },
   {
    "duration": 0,
    "start_time": "2022-12-14T14:27:20.940Z"
   },
   {
    "duration": 0,
    "start_time": "2022-12-14T14:27:20.941Z"
   },
   {
    "duration": 0,
    "start_time": "2022-12-14T14:27:20.941Z"
   },
   {
    "duration": 0,
    "start_time": "2022-12-14T14:27:20.942Z"
   },
   {
    "duration": 0,
    "start_time": "2022-12-14T14:27:20.943Z"
   },
   {
    "duration": 0,
    "start_time": "2022-12-14T14:27:20.944Z"
   },
   {
    "duration": 0,
    "start_time": "2022-12-14T14:27:20.945Z"
   },
   {
    "duration": 0,
    "start_time": "2022-12-14T14:27:20.947Z"
   },
   {
    "duration": 0,
    "start_time": "2022-12-14T14:27:20.948Z"
   },
   {
    "duration": 0,
    "start_time": "2022-12-14T14:27:20.949Z"
   },
   {
    "duration": 844,
    "start_time": "2022-12-14T14:27:20.951Z"
   },
   {
    "duration": 0,
    "start_time": "2022-12-14T14:27:21.799Z"
   },
   {
    "duration": 0,
    "start_time": "2022-12-14T14:27:21.800Z"
   },
   {
    "duration": 0,
    "start_time": "2022-12-14T14:27:21.801Z"
   },
   {
    "duration": 0,
    "start_time": "2022-12-14T14:27:21.802Z"
   },
   {
    "duration": 0,
    "start_time": "2022-12-14T14:27:21.803Z"
   },
   {
    "duration": 0,
    "start_time": "2022-12-14T14:27:21.804Z"
   },
   {
    "duration": 0,
    "start_time": "2022-12-14T14:27:21.805Z"
   },
   {
    "duration": 0,
    "start_time": "2022-12-14T14:27:21.807Z"
   },
   {
    "duration": 0,
    "start_time": "2022-12-14T14:27:21.808Z"
   },
   {
    "duration": 0,
    "start_time": "2022-12-14T14:27:21.809Z"
   },
   {
    "duration": 0,
    "start_time": "2022-12-14T14:27:21.810Z"
   },
   {
    "duration": 0,
    "start_time": "2022-12-14T14:27:21.812Z"
   },
   {
    "duration": 0,
    "start_time": "2022-12-14T14:27:21.813Z"
   },
   {
    "duration": 0,
    "start_time": "2022-12-14T14:27:21.814Z"
   },
   {
    "duration": 0,
    "start_time": "2022-12-14T14:27:21.815Z"
   },
   {
    "duration": 0,
    "start_time": "2022-12-14T14:27:21.816Z"
   },
   {
    "duration": 0,
    "start_time": "2022-12-14T14:27:21.817Z"
   },
   {
    "duration": 0,
    "start_time": "2022-12-14T14:27:21.818Z"
   },
   {
    "duration": 0,
    "start_time": "2022-12-14T14:27:21.819Z"
   },
   {
    "duration": 0,
    "start_time": "2022-12-14T14:27:21.821Z"
   },
   {
    "duration": 0,
    "start_time": "2022-12-14T14:27:21.821Z"
   },
   {
    "duration": 0,
    "start_time": "2022-12-14T14:27:21.823Z"
   },
   {
    "duration": 0,
    "start_time": "2022-12-14T14:27:21.824Z"
   },
   {
    "duration": 0,
    "start_time": "2022-12-14T14:27:21.825Z"
   },
   {
    "duration": 0,
    "start_time": "2022-12-14T14:27:21.826Z"
   },
   {
    "duration": 0,
    "start_time": "2022-12-14T14:27:21.827Z"
   },
   {
    "duration": 0,
    "start_time": "2022-12-14T14:27:21.828Z"
   },
   {
    "duration": 0,
    "start_time": "2022-12-14T14:27:21.829Z"
   },
   {
    "duration": 0,
    "start_time": "2022-12-14T14:27:21.831Z"
   },
   {
    "duration": 0,
    "start_time": "2022-12-14T14:27:21.831Z"
   },
   {
    "duration": 0,
    "start_time": "2022-12-14T14:27:21.832Z"
   },
   {
    "duration": 0,
    "start_time": "2022-12-14T14:27:21.833Z"
   },
   {
    "duration": 0,
    "start_time": "2022-12-14T14:27:21.834Z"
   },
   {
    "duration": 0,
    "start_time": "2022-12-14T14:27:21.836Z"
   },
   {
    "duration": 0,
    "start_time": "2022-12-14T14:27:21.837Z"
   },
   {
    "duration": 0,
    "start_time": "2022-12-14T14:27:21.837Z"
   },
   {
    "duration": 0,
    "start_time": "2022-12-14T14:27:21.839Z"
   },
   {
    "duration": 0,
    "start_time": "2022-12-14T14:27:21.839Z"
   },
   {
    "duration": 0,
    "start_time": "2022-12-14T14:27:21.841Z"
   },
   {
    "duration": 0,
    "start_time": "2022-12-14T14:27:21.842Z"
   },
   {
    "duration": 0,
    "start_time": "2022-12-14T14:27:21.843Z"
   },
   {
    "duration": 0,
    "start_time": "2022-12-14T14:27:21.844Z"
   },
   {
    "duration": 0,
    "start_time": "2022-12-14T14:27:21.845Z"
   },
   {
    "duration": 0,
    "start_time": "2022-12-14T14:27:21.846Z"
   },
   {
    "duration": 909,
    "start_time": "2022-12-14T14:28:10.722Z"
   },
   {
    "duration": 1888,
    "start_time": "2022-12-14T14:28:51.313Z"
   },
   {
    "duration": 12,
    "start_time": "2022-12-14T14:31:50.000Z"
   },
   {
    "duration": 12,
    "start_time": "2022-12-14T14:31:57.008Z"
   },
   {
    "duration": 11,
    "start_time": "2022-12-14T14:32:08.416Z"
   },
   {
    "duration": 10,
    "start_time": "2022-12-14T14:33:18.749Z"
   },
   {
    "duration": 4,
    "start_time": "2022-12-14T14:48:32.263Z"
   },
   {
    "duration": 5,
    "start_time": "2022-12-14T14:49:13.753Z"
   },
   {
    "duration": 46,
    "start_time": "2022-12-14T14:49:13.760Z"
   },
   {
    "duration": 17,
    "start_time": "2022-12-14T14:49:13.808Z"
   },
   {
    "duration": 8,
    "start_time": "2022-12-14T14:49:13.827Z"
   },
   {
    "duration": 17,
    "start_time": "2022-12-14T14:49:13.837Z"
   },
   {
    "duration": 10,
    "start_time": "2022-12-14T14:49:13.856Z"
   },
   {
    "duration": 62,
    "start_time": "2022-12-14T14:49:13.868Z"
   },
   {
    "duration": 31,
    "start_time": "2022-12-14T14:49:13.932Z"
   },
   {
    "duration": 3,
    "start_time": "2022-12-14T14:49:13.964Z"
   },
   {
    "duration": 15,
    "start_time": "2022-12-14T14:49:13.969Z"
   },
   {
    "duration": 33,
    "start_time": "2022-12-14T14:49:13.986Z"
   },
   {
    "duration": 1655,
    "start_time": "2022-12-14T14:49:14.021Z"
   },
   {
    "duration": 5,
    "start_time": "2022-12-14T14:49:15.677Z"
   },
   {
    "duration": 24,
    "start_time": "2022-12-14T14:49:15.683Z"
   },
   {
    "duration": 22,
    "start_time": "2022-12-14T14:49:15.708Z"
   },
   {
    "duration": 18,
    "start_time": "2022-12-14T14:49:15.731Z"
   },
   {
    "duration": 28,
    "start_time": "2022-12-14T14:49:15.750Z"
   },
   {
    "duration": 8,
    "start_time": "2022-12-14T14:49:15.779Z"
   },
   {
    "duration": 9,
    "start_time": "2022-12-14T14:49:15.789Z"
   },
   {
    "duration": 16,
    "start_time": "2022-12-14T14:49:15.799Z"
   },
   {
    "duration": 22,
    "start_time": "2022-12-14T14:49:15.817Z"
   },
   {
    "duration": 6,
    "start_time": "2022-12-14T14:49:15.840Z"
   },
   {
    "duration": 8,
    "start_time": "2022-12-14T14:49:15.847Z"
   },
   {
    "duration": 81,
    "start_time": "2022-12-14T14:49:15.856Z"
   },
   {
    "duration": 2163,
    "start_time": "2022-12-14T14:49:15.938Z"
   },
   {
    "duration": 128,
    "start_time": "2022-12-14T14:49:18.103Z"
   },
   {
    "duration": 6,
    "start_time": "2022-12-14T14:49:18.232Z"
   },
   {
    "duration": 9,
    "start_time": "2022-12-14T14:49:18.241Z"
   },
   {
    "duration": 0,
    "start_time": "2022-12-14T14:49:18.251Z"
   },
   {
    "duration": 0,
    "start_time": "2022-12-14T14:49:18.252Z"
   },
   {
    "duration": 0,
    "start_time": "2022-12-14T14:49:18.253Z"
   },
   {
    "duration": 0,
    "start_time": "2022-12-14T14:49:18.255Z"
   },
   {
    "duration": 0,
    "start_time": "2022-12-14T14:49:18.256Z"
   },
   {
    "duration": 0,
    "start_time": "2022-12-14T14:49:18.257Z"
   },
   {
    "duration": 0,
    "start_time": "2022-12-14T14:49:18.258Z"
   },
   {
    "duration": 0,
    "start_time": "2022-12-14T14:49:18.259Z"
   },
   {
    "duration": 0,
    "start_time": "2022-12-14T14:49:18.261Z"
   },
   {
    "duration": 0,
    "start_time": "2022-12-14T14:49:18.261Z"
   },
   {
    "duration": 0,
    "start_time": "2022-12-14T14:49:18.262Z"
   },
   {
    "duration": 0,
    "start_time": "2022-12-14T14:49:18.264Z"
   },
   {
    "duration": 1,
    "start_time": "2022-12-14T14:49:18.264Z"
   },
   {
    "duration": 0,
    "start_time": "2022-12-14T14:49:18.265Z"
   },
   {
    "duration": 0,
    "start_time": "2022-12-14T14:49:18.267Z"
   },
   {
    "duration": 0,
    "start_time": "2022-12-14T14:49:18.268Z"
   },
   {
    "duration": 0,
    "start_time": "2022-12-14T14:49:18.269Z"
   },
   {
    "duration": 0,
    "start_time": "2022-12-14T14:49:18.270Z"
   },
   {
    "duration": 0,
    "start_time": "2022-12-14T14:49:18.316Z"
   },
   {
    "duration": 0,
    "start_time": "2022-12-14T14:49:18.317Z"
   },
   {
    "duration": 0,
    "start_time": "2022-12-14T14:49:18.319Z"
   },
   {
    "duration": 0,
    "start_time": "2022-12-14T14:49:18.320Z"
   },
   {
    "duration": 0,
    "start_time": "2022-12-14T14:49:18.321Z"
   },
   {
    "duration": 0,
    "start_time": "2022-12-14T14:49:18.323Z"
   },
   {
    "duration": 0,
    "start_time": "2022-12-14T14:49:18.324Z"
   },
   {
    "duration": 0,
    "start_time": "2022-12-14T14:49:18.325Z"
   },
   {
    "duration": 0,
    "start_time": "2022-12-14T14:49:18.326Z"
   },
   {
    "duration": 0,
    "start_time": "2022-12-14T14:49:18.327Z"
   },
   {
    "duration": 0,
    "start_time": "2022-12-14T14:49:18.328Z"
   },
   {
    "duration": 6,
    "start_time": "2022-12-14T14:52:09.753Z"
   },
   {
    "duration": 49,
    "start_time": "2022-12-14T14:52:09.762Z"
   },
   {
    "duration": 14,
    "start_time": "2022-12-14T14:52:09.813Z"
   },
   {
    "duration": 19,
    "start_time": "2022-12-14T14:52:09.829Z"
   },
   {
    "duration": 15,
    "start_time": "2022-12-14T14:52:09.850Z"
   },
   {
    "duration": 12,
    "start_time": "2022-12-14T14:52:09.866Z"
   },
   {
    "duration": 69,
    "start_time": "2022-12-14T14:52:09.880Z"
   },
   {
    "duration": 33,
    "start_time": "2022-12-14T14:52:09.950Z"
   },
   {
    "duration": 3,
    "start_time": "2022-12-14T14:52:09.984Z"
   },
   {
    "duration": 32,
    "start_time": "2022-12-14T14:52:09.989Z"
   },
   {
    "duration": 10,
    "start_time": "2022-12-14T14:52:10.023Z"
   },
   {
    "duration": 1437,
    "start_time": "2022-12-14T14:52:10.035Z"
   },
   {
    "duration": 4,
    "start_time": "2022-12-14T14:52:11.473Z"
   },
   {
    "duration": 24,
    "start_time": "2022-12-14T14:52:11.479Z"
   },
   {
    "duration": 10,
    "start_time": "2022-12-14T14:52:11.505Z"
   },
   {
    "duration": 9,
    "start_time": "2022-12-14T14:52:11.517Z"
   },
   {
    "duration": 11,
    "start_time": "2022-12-14T14:52:11.527Z"
   },
   {
    "duration": 7,
    "start_time": "2022-12-14T14:52:11.540Z"
   },
   {
    "duration": 13,
    "start_time": "2022-12-14T14:52:11.548Z"
   },
   {
    "duration": 4,
    "start_time": "2022-12-14T14:52:11.562Z"
   },
   {
    "duration": 14,
    "start_time": "2022-12-14T14:52:11.567Z"
   },
   {
    "duration": 6,
    "start_time": "2022-12-14T14:52:11.582Z"
   },
   {
    "duration": 29,
    "start_time": "2022-12-14T14:52:11.589Z"
   },
   {
    "duration": 35,
    "start_time": "2022-12-14T14:52:11.620Z"
   },
   {
    "duration": 1323,
    "start_time": "2022-12-14T14:52:11.657Z"
   },
   {
    "duration": 112,
    "start_time": "2022-12-14T14:52:12.982Z"
   },
   {
    "duration": 5,
    "start_time": "2022-12-14T14:52:13.096Z"
   },
   {
    "duration": 4762,
    "start_time": "2022-12-14T14:52:13.115Z"
   },
   {
    "duration": 137,
    "start_time": "2022-12-14T14:52:17.878Z"
   },
   {
    "duration": 7,
    "start_time": "2022-12-14T14:52:18.017Z"
   },
   {
    "duration": 95,
    "start_time": "2022-12-14T14:52:18.025Z"
   },
   {
    "duration": 406,
    "start_time": "2022-12-14T14:52:18.122Z"
   },
   {
    "duration": 8,
    "start_time": "2022-12-14T14:52:18.530Z"
   },
   {
    "duration": 12,
    "start_time": "2022-12-14T14:52:18.539Z"
   },
   {
    "duration": 143,
    "start_time": "2022-12-14T14:52:18.553Z"
   },
   {
    "duration": 1381,
    "start_time": "2022-12-14T14:52:18.697Z"
   },
   {
    "duration": 125,
    "start_time": "2022-12-14T14:52:20.079Z"
   },
   {
    "duration": 10,
    "start_time": "2022-12-14T14:52:20.206Z"
   },
   {
    "duration": 3544,
    "start_time": "2022-12-14T14:52:20.218Z"
   },
   {
    "duration": 137,
    "start_time": "2022-12-14T14:52:23.764Z"
   },
   {
    "duration": 14,
    "start_time": "2022-12-14T14:52:23.902Z"
   },
   {
    "duration": 103,
    "start_time": "2022-12-14T14:52:23.917Z"
   },
   {
    "duration": 398,
    "start_time": "2022-12-14T14:52:24.022Z"
   },
   {
    "duration": 8,
    "start_time": "2022-12-14T14:52:24.422Z"
   },
   {
    "duration": 10,
    "start_time": "2022-12-14T14:52:24.442Z"
   },
   {
    "duration": 8,
    "start_time": "2022-12-14T14:52:24.454Z"
   },
   {
    "duration": 1487,
    "start_time": "2022-12-14T14:52:24.463Z"
   },
   {
    "duration": 122,
    "start_time": "2022-12-14T14:52:25.953Z"
   },
   {
    "duration": 5,
    "start_time": "2022-12-14T14:52:26.077Z"
   },
   {
    "duration": 20555,
    "start_time": "2022-12-14T14:52:26.084Z"
   },
   {
    "duration": 174,
    "start_time": "2022-12-14T14:52:46.641Z"
   },
   {
    "duration": 6,
    "start_time": "2022-12-14T14:52:46.816Z"
   },
   {
    "duration": 96,
    "start_time": "2022-12-14T14:52:46.824Z"
   },
   {
    "duration": 394,
    "start_time": "2022-12-14T14:52:46.921Z"
   },
   {
    "duration": 8,
    "start_time": "2022-12-14T14:52:47.317Z"
   },
   {
    "duration": 987,
    "start_time": "2022-12-14T14:52:47.327Z"
   },
   {
    "duration": 1905,
    "start_time": "2022-12-14T18:29:32.515Z"
   },
   {
    "duration": 15,
    "start_time": "2022-12-14T18:33:57.203Z"
   },
   {
    "duration": 0,
    "start_time": "2022-12-14T18:33:57.220Z"
   },
   {
    "duration": 0,
    "start_time": "2022-12-14T18:33:57.222Z"
   },
   {
    "duration": 0,
    "start_time": "2022-12-14T18:33:57.224Z"
   },
   {
    "duration": 1,
    "start_time": "2022-12-14T18:33:57.225Z"
   },
   {
    "duration": 0,
    "start_time": "2022-12-14T18:33:57.227Z"
   },
   {
    "duration": 0,
    "start_time": "2022-12-14T18:33:57.228Z"
   },
   {
    "duration": 0,
    "start_time": "2022-12-14T18:33:57.230Z"
   },
   {
    "duration": 0,
    "start_time": "2022-12-14T18:33:57.231Z"
   },
   {
    "duration": 0,
    "start_time": "2022-12-14T18:33:57.233Z"
   },
   {
    "duration": 0,
    "start_time": "2022-12-14T18:33:57.234Z"
   },
   {
    "duration": 0,
    "start_time": "2022-12-14T18:33:57.235Z"
   },
   {
    "duration": 0,
    "start_time": "2022-12-14T18:33:57.237Z"
   },
   {
    "duration": 0,
    "start_time": "2022-12-14T18:33:57.238Z"
   },
   {
    "duration": 0,
    "start_time": "2022-12-14T18:33:57.239Z"
   },
   {
    "duration": 42,
    "start_time": "2022-12-14T18:33:57.243Z"
   },
   {
    "duration": 0,
    "start_time": "2022-12-14T18:33:57.286Z"
   },
   {
    "duration": 0,
    "start_time": "2022-12-14T18:33:57.288Z"
   },
   {
    "duration": 0,
    "start_time": "2022-12-14T18:33:57.289Z"
   },
   {
    "duration": 0,
    "start_time": "2022-12-14T18:33:57.290Z"
   },
   {
    "duration": 0,
    "start_time": "2022-12-14T18:33:57.291Z"
   },
   {
    "duration": 0,
    "start_time": "2022-12-14T18:33:57.292Z"
   },
   {
    "duration": 0,
    "start_time": "2022-12-14T18:33:57.294Z"
   },
   {
    "duration": 0,
    "start_time": "2022-12-14T18:33:57.295Z"
   },
   {
    "duration": 0,
    "start_time": "2022-12-14T18:33:57.296Z"
   },
   {
    "duration": 0,
    "start_time": "2022-12-14T18:33:57.297Z"
   },
   {
    "duration": 0,
    "start_time": "2022-12-14T18:33:57.298Z"
   },
   {
    "duration": 0,
    "start_time": "2022-12-14T18:33:57.300Z"
   },
   {
    "duration": 1,
    "start_time": "2022-12-14T18:33:57.301Z"
   },
   {
    "duration": 0,
    "start_time": "2022-12-14T18:33:57.308Z"
   },
   {
    "duration": 0,
    "start_time": "2022-12-14T18:33:57.312Z"
   },
   {
    "duration": 0,
    "start_time": "2022-12-14T18:33:57.313Z"
   },
   {
    "duration": 0,
    "start_time": "2022-12-14T18:33:57.318Z"
   },
   {
    "duration": 0,
    "start_time": "2022-12-14T18:33:57.319Z"
   },
   {
    "duration": 59,
    "start_time": "2022-12-14T18:33:57.324Z"
   },
   {
    "duration": 0,
    "start_time": "2022-12-14T18:33:57.384Z"
   },
   {
    "duration": 0,
    "start_time": "2022-12-14T18:33:57.387Z"
   },
   {
    "duration": 0,
    "start_time": "2022-12-14T18:33:57.388Z"
   },
   {
    "duration": 0,
    "start_time": "2022-12-14T18:33:57.391Z"
   },
   {
    "duration": 0,
    "start_time": "2022-12-14T18:33:57.392Z"
   },
   {
    "duration": 0,
    "start_time": "2022-12-14T18:33:57.393Z"
   },
   {
    "duration": 0,
    "start_time": "2022-12-14T18:33:57.395Z"
   },
   {
    "duration": 0,
    "start_time": "2022-12-14T18:33:57.395Z"
   },
   {
    "duration": 0,
    "start_time": "2022-12-14T18:33:57.398Z"
   },
   {
    "duration": 0,
    "start_time": "2022-12-14T18:33:57.399Z"
   },
   {
    "duration": 0,
    "start_time": "2022-12-14T18:33:57.401Z"
   },
   {
    "duration": 0,
    "start_time": "2022-12-14T18:33:57.403Z"
   },
   {
    "duration": 0,
    "start_time": "2022-12-14T18:33:57.405Z"
   },
   {
    "duration": 0,
    "start_time": "2022-12-14T18:33:57.410Z"
   },
   {
    "duration": 0,
    "start_time": "2022-12-14T18:33:57.411Z"
   },
   {
    "duration": 0,
    "start_time": "2022-12-14T18:33:57.414Z"
   },
   {
    "duration": 0,
    "start_time": "2022-12-14T18:33:57.417Z"
   },
   {
    "duration": 0,
    "start_time": "2022-12-14T18:33:57.419Z"
   },
   {
    "duration": 0,
    "start_time": "2022-12-14T18:33:57.421Z"
   },
   {
    "duration": 0,
    "start_time": "2022-12-14T18:33:57.422Z"
   },
   {
    "duration": 0,
    "start_time": "2022-12-14T18:33:57.424Z"
   },
   {
    "duration": 0,
    "start_time": "2022-12-14T18:33:57.425Z"
   },
   {
    "duration": 7,
    "start_time": "2022-12-14T19:11:23.019Z"
   },
   {
    "duration": 145,
    "start_time": "2022-12-14T19:11:23.028Z"
   },
   {
    "duration": 36,
    "start_time": "2022-12-14T19:11:23.175Z"
   },
   {
    "duration": 38,
    "start_time": "2022-12-14T19:11:23.219Z"
   },
   {
    "duration": 51,
    "start_time": "2022-12-14T19:11:23.262Z"
   },
   {
    "duration": 32,
    "start_time": "2022-12-14T19:11:23.322Z"
   },
   {
    "duration": 77,
    "start_time": "2022-12-14T19:11:23.359Z"
   },
   {
    "duration": 125,
    "start_time": "2022-12-14T19:11:23.440Z"
   },
   {
    "duration": 11,
    "start_time": "2022-12-14T19:11:23.568Z"
   },
   {
    "duration": 54,
    "start_time": "2022-12-14T19:11:23.589Z"
   },
   {
    "duration": 10,
    "start_time": "2022-12-14T19:11:23.646Z"
   },
   {
    "duration": 2380,
    "start_time": "2022-12-14T19:11:23.659Z"
   },
   {
    "duration": 7,
    "start_time": "2022-12-14T19:11:26.041Z"
   },
   {
    "duration": 87,
    "start_time": "2022-12-14T19:11:26.052Z"
   },
   {
    "duration": 14,
    "start_time": "2022-12-14T19:11:26.142Z"
   },
   {
    "duration": 68,
    "start_time": "2022-12-14T19:11:26.158Z"
   },
   {
    "duration": 55,
    "start_time": "2022-12-14T19:11:26.228Z"
   },
   {
    "duration": 45,
    "start_time": "2022-12-14T19:11:26.285Z"
   },
   {
    "duration": 23,
    "start_time": "2022-12-14T19:11:26.335Z"
   },
   {
    "duration": 20,
    "start_time": "2022-12-14T19:11:26.361Z"
   },
   {
    "duration": 44,
    "start_time": "2022-12-14T19:11:26.388Z"
   },
   {
    "duration": 12,
    "start_time": "2022-12-14T19:11:26.437Z"
   },
   {
    "duration": 12,
    "start_time": "2022-12-14T19:11:26.451Z"
   },
   {
    "duration": 60,
    "start_time": "2022-12-14T19:11:26.467Z"
   },
   {
    "duration": 1742,
    "start_time": "2022-12-14T19:11:26.529Z"
   },
   {
    "duration": 203,
    "start_time": "2022-12-14T19:11:28.273Z"
   },
   {
    "duration": 11,
    "start_time": "2022-12-14T19:11:28.484Z"
   },
   {
    "duration": 5602,
    "start_time": "2022-12-14T19:11:28.501Z"
   },
   {
    "duration": 216,
    "start_time": "2022-12-14T19:11:34.105Z"
   },
   {
    "duration": 15,
    "start_time": "2022-12-14T19:11:34.328Z"
   },
   {
    "duration": 165,
    "start_time": "2022-12-14T19:11:34.350Z"
   },
   {
    "duration": 361,
    "start_time": "2022-12-14T19:11:34.589Z"
   },
   {
    "duration": 18,
    "start_time": "2022-12-14T19:11:34.954Z"
   },
   {
    "duration": 30,
    "start_time": "2022-12-14T19:11:34.977Z"
   },
   {
    "duration": 205,
    "start_time": "2022-12-14T19:11:35.016Z"
   },
   {
    "duration": 1997,
    "start_time": "2022-12-14T19:11:35.227Z"
   },
   {
    "duration": 201,
    "start_time": "2022-12-14T19:11:37.231Z"
   },
   {
    "duration": 12,
    "start_time": "2022-12-14T19:11:37.441Z"
   },
   {
    "duration": 5828,
    "start_time": "2022-12-14T19:11:37.456Z"
   },
   {
    "duration": 261,
    "start_time": "2022-12-14T19:11:43.285Z"
   },
   {
    "duration": 12,
    "start_time": "2022-12-14T19:11:43.561Z"
   },
   {
    "duration": 425,
    "start_time": "2022-12-14T19:11:43.580Z"
   },
   {
    "duration": 442,
    "start_time": "2022-12-14T19:11:44.026Z"
   },
   {
    "duration": 29,
    "start_time": "2022-12-14T19:11:44.488Z"
   },
   {
    "duration": 95,
    "start_time": "2022-12-14T19:11:44.520Z"
   },
   {
    "duration": 30,
    "start_time": "2022-12-14T19:11:44.618Z"
   },
   {
    "duration": 2497,
    "start_time": "2022-12-14T19:11:44.650Z"
   },
   {
    "duration": 217,
    "start_time": "2022-12-14T19:11:47.156Z"
   },
   {
    "duration": 45,
    "start_time": "2022-12-14T19:11:47.386Z"
   },
   {
    "duration": 35169,
    "start_time": "2022-12-14T19:11:47.434Z"
   },
   {
    "duration": 289,
    "start_time": "2022-12-14T19:12:22.614Z"
   },
   {
    "duration": 13,
    "start_time": "2022-12-14T19:12:22.911Z"
   },
   {
    "duration": 200,
    "start_time": "2022-12-14T19:12:22.931Z"
   },
   {
    "duration": 563,
    "start_time": "2022-12-14T19:12:23.138Z"
   },
   {
    "duration": 15,
    "start_time": "2022-12-14T19:12:23.708Z"
   },
   {
    "duration": 56,
    "start_time": "2022-12-14T19:12:23.729Z"
   },
   {
    "duration": 0,
    "start_time": "2022-12-14T19:12:23.791Z"
   },
   {
    "duration": 7,
    "start_time": "2022-12-14T19:15:59.850Z"
   },
   {
    "duration": 100,
    "start_time": "2022-12-14T19:15:59.860Z"
   },
   {
    "duration": 19,
    "start_time": "2022-12-14T19:15:59.963Z"
   },
   {
    "duration": 55,
    "start_time": "2022-12-14T19:15:59.984Z"
   },
   {
    "duration": 42,
    "start_time": "2022-12-14T19:16:00.043Z"
   },
   {
    "duration": 61,
    "start_time": "2022-12-14T19:16:00.088Z"
   },
   {
    "duration": 84,
    "start_time": "2022-12-14T19:16:00.151Z"
   },
   {
    "duration": 57,
    "start_time": "2022-12-14T19:16:00.238Z"
   },
   {
    "duration": 7,
    "start_time": "2022-12-14T19:16:00.297Z"
   },
   {
    "duration": 49,
    "start_time": "2022-12-14T19:16:00.308Z"
   },
   {
    "duration": 93,
    "start_time": "2022-12-14T19:16:00.359Z"
   },
   {
    "duration": 3024,
    "start_time": "2022-12-14T19:16:00.455Z"
   },
   {
    "duration": 6,
    "start_time": "2022-12-14T19:16:03.481Z"
   },
   {
    "duration": 102,
    "start_time": "2022-12-14T19:16:03.489Z"
   },
   {
    "duration": 86,
    "start_time": "2022-12-14T19:16:03.604Z"
   },
   {
    "duration": 61,
    "start_time": "2022-12-14T19:16:03.693Z"
   },
   {
    "duration": 93,
    "start_time": "2022-12-14T19:16:03.789Z"
   },
   {
    "duration": 5,
    "start_time": "2022-12-14T19:16:03.885Z"
   },
   {
    "duration": 25,
    "start_time": "2022-12-14T19:16:03.892Z"
   },
   {
    "duration": 40,
    "start_time": "2022-12-14T19:16:03.919Z"
   },
   {
    "duration": 113,
    "start_time": "2022-12-14T19:16:03.962Z"
   },
   {
    "duration": 55,
    "start_time": "2022-12-14T19:16:04.078Z"
   },
   {
    "duration": 16,
    "start_time": "2022-12-14T19:16:04.136Z"
   },
   {
    "duration": 121,
    "start_time": "2022-12-14T19:16:04.179Z"
   },
   {
    "duration": 4040,
    "start_time": "2022-12-14T19:16:04.302Z"
   },
   {
    "duration": 210,
    "start_time": "2022-12-14T19:16:08.345Z"
   },
   {
    "duration": 8,
    "start_time": "2022-12-14T19:16:08.558Z"
   },
   {
    "duration": 5992,
    "start_time": "2022-12-14T19:16:08.577Z"
   },
   {
    "duration": 249,
    "start_time": "2022-12-14T19:16:14.580Z"
   },
   {
    "duration": 10,
    "start_time": "2022-12-14T19:16:14.831Z"
   },
   {
    "duration": 142,
    "start_time": "2022-12-14T19:16:14.844Z"
   },
   {
    "duration": 358,
    "start_time": "2022-12-14T19:16:15.000Z"
   },
   {
    "duration": 12,
    "start_time": "2022-12-14T19:16:15.360Z"
   },
   {
    "duration": 56,
    "start_time": "2022-12-14T19:16:15.375Z"
   },
   {
    "duration": 402,
    "start_time": "2022-12-14T19:16:15.436Z"
   },
   {
    "duration": 1919,
    "start_time": "2022-12-14T19:16:15.845Z"
   },
   {
    "duration": 175,
    "start_time": "2022-12-14T19:16:17.766Z"
   },
   {
    "duration": 10,
    "start_time": "2022-12-14T19:16:17.946Z"
   },
   {
    "duration": 5268,
    "start_time": "2022-12-14T19:16:17.959Z"
   },
   {
    "duration": 198,
    "start_time": "2022-12-14T19:16:23.236Z"
   },
   {
    "duration": 10,
    "start_time": "2022-12-14T19:16:23.437Z"
   },
   {
    "duration": 59,
    "start_time": "2022-12-14T19:16:23.449Z"
   },
   {
    "duration": 330,
    "start_time": "2022-12-14T19:16:23.510Z"
   },
   {
    "duration": 13,
    "start_time": "2022-12-14T19:16:23.842Z"
   },
   {
    "duration": 24,
    "start_time": "2022-12-14T19:16:23.858Z"
   },
   {
    "duration": 56,
    "start_time": "2022-12-14T19:16:23.901Z"
   },
   {
    "duration": 2140,
    "start_time": "2022-12-14T19:16:23.959Z"
   },
   {
    "duration": 236,
    "start_time": "2022-12-14T19:16:26.101Z"
   },
   {
    "duration": 8,
    "start_time": "2022-12-14T19:16:26.344Z"
   },
   {
    "duration": 31676,
    "start_time": "2022-12-14T19:16:26.355Z"
   },
   {
    "duration": 240,
    "start_time": "2022-12-14T19:16:58.033Z"
   },
   {
    "duration": 13,
    "start_time": "2022-12-14T19:16:58.276Z"
   },
   {
    "duration": 213,
    "start_time": "2022-12-14T19:16:58.294Z"
   },
   {
    "duration": 437,
    "start_time": "2022-12-14T19:16:58.510Z"
   },
   {
    "duration": 15,
    "start_time": "2022-12-14T19:16:58.950Z"
   },
   {
    "duration": 92,
    "start_time": "2022-12-14T19:16:58.967Z"
   },
   {
    "duration": 0,
    "start_time": "2022-12-14T19:16:59.061Z"
   },
   {
    "duration": 1543,
    "start_time": "2022-12-14T19:17:34.010Z"
   },
   {
    "duration": 6,
    "start_time": "2022-12-14T19:19:28.359Z"
   },
   {
    "duration": 175,
    "start_time": "2022-12-14T19:19:28.368Z"
   },
   {
    "duration": 42,
    "start_time": "2022-12-14T19:19:28.551Z"
   },
   {
    "duration": 69,
    "start_time": "2022-12-14T19:19:28.602Z"
   },
   {
    "duration": 104,
    "start_time": "2022-12-14T19:19:28.674Z"
   },
   {
    "duration": 23,
    "start_time": "2022-12-14T19:19:28.789Z"
   },
   {
    "duration": 132,
    "start_time": "2022-12-14T19:19:28.820Z"
   },
   {
    "duration": 65,
    "start_time": "2022-12-14T19:19:28.958Z"
   },
   {
    "duration": 22,
    "start_time": "2022-12-14T19:19:29.025Z"
   },
   {
    "duration": 152,
    "start_time": "2022-12-14T19:19:29.055Z"
   },
   {
    "duration": 62,
    "start_time": "2022-12-14T19:19:29.209Z"
   },
   {
    "duration": 2212,
    "start_time": "2022-12-14T19:19:29.273Z"
   },
   {
    "duration": 9,
    "start_time": "2022-12-14T19:19:31.489Z"
   },
   {
    "duration": 67,
    "start_time": "2022-12-14T19:19:31.502Z"
   },
   {
    "duration": 83,
    "start_time": "2022-12-14T19:19:31.571Z"
   },
   {
    "duration": 107,
    "start_time": "2022-12-14T19:19:31.656Z"
   },
   {
    "duration": 84,
    "start_time": "2022-12-14T19:19:31.765Z"
   },
   {
    "duration": 32,
    "start_time": "2022-12-14T19:19:31.851Z"
   },
   {
    "duration": 306,
    "start_time": "2022-12-14T19:19:31.884Z"
   },
   {
    "duration": 5,
    "start_time": "2022-12-14T19:19:32.198Z"
   },
   {
    "duration": 49,
    "start_time": "2022-12-14T19:19:32.211Z"
   },
   {
    "duration": 14,
    "start_time": "2022-12-14T19:19:32.262Z"
   },
   {
    "duration": 131,
    "start_time": "2022-12-14T19:19:32.292Z"
   },
   {
    "duration": 96,
    "start_time": "2022-12-14T19:19:32.425Z"
   },
   {
    "duration": 2018,
    "start_time": "2022-12-14T19:19:32.523Z"
   },
   {
    "duration": 204,
    "start_time": "2022-12-14T19:19:34.547Z"
   },
   {
    "duration": 7,
    "start_time": "2022-12-14T19:19:34.754Z"
   },
   {
    "duration": 5465,
    "start_time": "2022-12-14T19:19:34.763Z"
   },
   {
    "duration": 226,
    "start_time": "2022-12-14T19:19:40.233Z"
   },
   {
    "duration": 21,
    "start_time": "2022-12-14T19:19:40.466Z"
   },
   {
    "duration": 106,
    "start_time": "2022-12-14T19:19:40.489Z"
   },
   {
    "duration": 442,
    "start_time": "2022-12-14T19:19:40.603Z"
   },
   {
    "duration": 13,
    "start_time": "2022-12-14T19:19:41.047Z"
   },
   {
    "duration": 17,
    "start_time": "2022-12-14T19:19:41.064Z"
   },
   {
    "duration": 256,
    "start_time": "2022-12-14T19:19:41.090Z"
   },
   {
    "duration": 2111,
    "start_time": "2022-12-14T19:19:41.348Z"
   },
   {
    "duration": 204,
    "start_time": "2022-12-14T19:19:43.461Z"
   },
   {
    "duration": 8,
    "start_time": "2022-12-14T19:19:43.667Z"
   },
   {
    "duration": 5776,
    "start_time": "2022-12-14T19:19:43.684Z"
   },
   {
    "duration": 237,
    "start_time": "2022-12-14T19:19:49.468Z"
   },
   {
    "duration": 13,
    "start_time": "2022-12-14T19:19:49.715Z"
   },
   {
    "duration": 364,
    "start_time": "2022-12-14T19:19:49.733Z"
   },
   {
    "duration": 377,
    "start_time": "2022-12-14T19:19:50.111Z"
   },
   {
    "duration": 16,
    "start_time": "2022-12-14T19:19:50.495Z"
   },
   {
    "duration": 81,
    "start_time": "2022-12-14T19:19:50.514Z"
   },
   {
    "duration": 76,
    "start_time": "2022-12-14T19:19:50.602Z"
   },
   {
    "duration": 2486,
    "start_time": "2022-12-14T19:19:50.686Z"
   },
   {
    "duration": 230,
    "start_time": "2022-12-14T19:19:53.176Z"
   },
   {
    "duration": 9,
    "start_time": "2022-12-14T19:19:53.409Z"
   },
   {
    "duration": 33575,
    "start_time": "2022-12-14T19:19:53.421Z"
   },
   {
    "duration": 254,
    "start_time": "2022-12-14T19:20:27.003Z"
   },
   {
    "duration": 8,
    "start_time": "2022-12-14T19:20:27.259Z"
   },
   {
    "duration": 120,
    "start_time": "2022-12-14T19:20:27.269Z"
   },
   {
    "duration": 322,
    "start_time": "2022-12-14T19:20:27.391Z"
   },
   {
    "duration": 16,
    "start_time": "2022-12-14T19:20:27.717Z"
   },
   {
    "duration": 1606,
    "start_time": "2022-12-14T19:20:27.750Z"
   },
   {
    "duration": 23698,
    "start_time": "2022-12-14T19:28:17.822Z"
   },
   {
    "duration": 3378,
    "start_time": "2022-12-14T19:29:24.060Z"
   },
   {
    "duration": 7035,
    "start_time": "2022-12-14T19:29:58.857Z"
   },
   {
    "duration": 72039,
    "start_time": "2022-12-14T19:30:29.022Z"
   },
   {
    "duration": 75710,
    "start_time": "2022-12-14T19:32:00.735Z"
   },
   {
    "duration": 9114,
    "start_time": "2022-12-14T19:33:43.778Z"
   },
   {
    "duration": 16183,
    "start_time": "2022-12-14T19:34:04.676Z"
   },
   {
    "duration": 254,
    "start_time": "2022-12-14T19:36:58.117Z"
   },
   {
    "duration": 25,
    "start_time": "2022-12-14T19:38:01.022Z"
   },
   {
    "duration": 106,
    "start_time": "2022-12-14T19:38:01.053Z"
   },
   {
    "duration": 33,
    "start_time": "2022-12-14T19:38:01.160Z"
   },
   {
    "duration": 12,
    "start_time": "2022-12-14T19:38:01.195Z"
   },
   {
    "duration": 58,
    "start_time": "2022-12-14T19:38:01.214Z"
   },
   {
    "duration": 137,
    "start_time": "2022-12-14T19:38:01.274Z"
   },
   {
    "duration": 123,
    "start_time": "2022-12-14T19:38:01.417Z"
   },
   {
    "duration": 59,
    "start_time": "2022-12-14T19:38:01.547Z"
   },
   {
    "duration": 43,
    "start_time": "2022-12-14T19:38:01.612Z"
   },
   {
    "duration": 24,
    "start_time": "2022-12-14T19:38:01.657Z"
   },
   {
    "duration": 84,
    "start_time": "2022-12-14T19:38:01.683Z"
   },
   {
    "duration": 4063,
    "start_time": "2022-12-14T19:38:01.769Z"
   },
   {
    "duration": 8,
    "start_time": "2022-12-14T19:38:05.834Z"
   },
   {
    "duration": 154,
    "start_time": "2022-12-14T19:38:05.850Z"
   },
   {
    "duration": 57,
    "start_time": "2022-12-14T19:38:06.016Z"
   },
   {
    "duration": 79,
    "start_time": "2022-12-14T19:38:06.086Z"
   },
   {
    "duration": 28,
    "start_time": "2022-12-14T19:38:06.170Z"
   },
   {
    "duration": 61,
    "start_time": "2022-12-14T19:38:06.200Z"
   },
   {
    "duration": 11,
    "start_time": "2022-12-14T19:38:06.265Z"
   },
   {
    "duration": 66,
    "start_time": "2022-12-14T19:38:06.284Z"
   },
   {
    "duration": 20,
    "start_time": "2022-12-14T19:38:06.352Z"
   },
   {
    "duration": 28,
    "start_time": "2022-12-14T19:38:06.375Z"
   },
   {
    "duration": 53,
    "start_time": "2022-12-14T19:38:06.405Z"
   },
   {
    "duration": 69,
    "start_time": "2022-12-14T19:38:06.460Z"
   },
   {
    "duration": 1949,
    "start_time": "2022-12-14T19:38:06.531Z"
   },
   {
    "duration": 213,
    "start_time": "2022-12-14T19:38:08.482Z"
   },
   {
    "duration": 11,
    "start_time": "2022-12-14T19:38:08.703Z"
   },
   {
    "duration": 16026,
    "start_time": "2022-12-14T19:38:08.721Z"
   },
   {
    "duration": 184,
    "start_time": "2022-12-14T19:38:24.749Z"
   },
   {
    "duration": 9,
    "start_time": "2022-12-14T19:38:24.935Z"
   },
   {
    "duration": 141,
    "start_time": "2022-12-14T19:38:24.948Z"
   },
   {
    "duration": 350,
    "start_time": "2022-12-14T19:38:25.103Z"
   },
   {
    "duration": 9,
    "start_time": "2022-12-14T19:38:25.457Z"
   },
   {
    "duration": 75,
    "start_time": "2022-12-14T19:38:25.468Z"
   },
   {
    "duration": 169,
    "start_time": "2022-12-14T19:38:25.544Z"
   },
   {
    "duration": 225,
    "start_time": "2022-12-14T19:38:25.716Z"
   },
   {
    "duration": 201,
    "start_time": "2022-12-14T19:38:25.943Z"
   },
   {
    "duration": 11,
    "start_time": "2022-12-14T19:38:26.146Z"
   },
   {
    "duration": 5177,
    "start_time": "2022-12-14T19:38:26.160Z"
   },
   {
    "duration": 196,
    "start_time": "2022-12-14T19:38:31.348Z"
   },
   {
    "duration": 16,
    "start_time": "2022-12-14T19:38:31.553Z"
   },
   {
    "duration": 111,
    "start_time": "2022-12-14T19:38:31.572Z"
   },
   {
    "duration": 478,
    "start_time": "2022-12-14T19:38:31.685Z"
   },
   {
    "duration": 26,
    "start_time": "2022-12-14T19:38:32.165Z"
   },
   {
    "duration": 29,
    "start_time": "2022-12-14T19:38:32.201Z"
   },
   {
    "duration": 32,
    "start_time": "2022-12-14T19:38:32.232Z"
   },
   {
    "duration": 2186,
    "start_time": "2022-12-14T19:38:32.266Z"
   },
   {
    "duration": 164,
    "start_time": "2022-12-14T19:38:34.454Z"
   },
   {
    "duration": 7,
    "start_time": "2022-12-14T19:38:34.622Z"
   },
   {
    "duration": 32291,
    "start_time": "2022-12-14T19:38:34.631Z"
   },
   {
    "duration": 231,
    "start_time": "2022-12-14T19:39:06.928Z"
   },
   {
    "duration": 8,
    "start_time": "2022-12-14T19:39:07.162Z"
   },
   {
    "duration": 118,
    "start_time": "2022-12-14T19:39:07.177Z"
   },
   {
    "duration": 428,
    "start_time": "2022-12-14T19:39:07.303Z"
   },
   {
    "duration": 11,
    "start_time": "2022-12-14T19:39:07.733Z"
   },
   {
    "duration": 1501,
    "start_time": "2022-12-14T19:39:07.752Z"
   },
   {
    "duration": 313,
    "start_time": "2022-12-14T19:45:34.657Z"
   },
   {
    "duration": 142789,
    "start_time": "2022-12-14T19:46:46.855Z"
   },
   {
    "duration": 258557,
    "start_time": "2022-12-14T19:52:14.732Z"
   },
   {
    "duration": 6885,
    "start_time": "2022-12-14T19:56:53.908Z"
   },
   {
    "duration": 105089,
    "start_time": "2022-12-14T19:57:26.787Z"
   },
   {
    "duration": 31340,
    "start_time": "2022-12-14T19:59:27.290Z"
   },
   {
    "duration": 10,
    "start_time": "2022-12-14T20:19:43.632Z"
   },
   {
    "duration": 123,
    "start_time": "2022-12-14T20:19:43.646Z"
   },
   {
    "duration": 76,
    "start_time": "2022-12-14T20:19:43.771Z"
   },
   {
    "duration": 101,
    "start_time": "2022-12-14T20:19:43.849Z"
   },
   {
    "duration": 50,
    "start_time": "2022-12-14T20:19:43.961Z"
   },
   {
    "duration": 89,
    "start_time": "2022-12-14T20:19:44.022Z"
   },
   {
    "duration": 117,
    "start_time": "2022-12-14T20:19:44.120Z"
   },
   {
    "duration": 175,
    "start_time": "2022-12-14T20:19:44.242Z"
   },
   {
    "duration": 7,
    "start_time": "2022-12-14T20:19:44.424Z"
   },
   {
    "duration": 62,
    "start_time": "2022-12-14T20:19:44.436Z"
   },
   {
    "duration": 99,
    "start_time": "2022-12-14T20:19:44.500Z"
   },
   {
    "duration": 2492,
    "start_time": "2022-12-14T20:19:44.601Z"
   },
   {
    "duration": 7,
    "start_time": "2022-12-14T20:19:47.099Z"
   },
   {
    "duration": 150,
    "start_time": "2022-12-14T20:19:47.112Z"
   },
   {
    "duration": 70,
    "start_time": "2022-12-14T20:19:47.268Z"
   },
   {
    "duration": 116,
    "start_time": "2022-12-14T20:19:47.340Z"
   },
   {
    "duration": 35,
    "start_time": "2022-12-14T20:19:47.463Z"
   },
   {
    "duration": 65,
    "start_time": "2022-12-14T20:19:47.509Z"
   },
   {
    "duration": 69,
    "start_time": "2022-12-14T20:19:47.577Z"
   },
   {
    "duration": 25,
    "start_time": "2022-12-14T20:19:47.648Z"
   },
   {
    "duration": 68,
    "start_time": "2022-12-14T20:19:47.675Z"
   },
   {
    "duration": 29,
    "start_time": "2022-12-14T20:19:47.745Z"
   },
   {
    "duration": 27,
    "start_time": "2022-12-14T20:19:47.777Z"
   },
   {
    "duration": 130,
    "start_time": "2022-12-14T20:19:47.807Z"
   },
   {
    "duration": 1951,
    "start_time": "2022-12-14T20:19:47.942Z"
   },
   {
    "duration": 204,
    "start_time": "2022-12-14T20:19:49.899Z"
   },
   {
    "duration": 13,
    "start_time": "2022-12-14T20:19:50.105Z"
   },
   {
    "duration": 17816,
    "start_time": "2022-12-14T20:19:50.122Z"
   },
   {
    "duration": 264,
    "start_time": "2022-12-14T20:20:07.946Z"
   },
   {
    "duration": 30,
    "start_time": "2022-12-14T20:20:08.217Z"
   },
   {
    "duration": 293,
    "start_time": "2022-12-14T20:20:08.254Z"
   },
   {
    "duration": 366,
    "start_time": "2022-12-14T20:20:08.574Z"
   },
   {
    "duration": 20,
    "start_time": "2022-12-14T20:20:08.957Z"
   },
   {
    "duration": 164,
    "start_time": "2022-12-14T20:20:08.985Z"
   },
   {
    "duration": 373,
    "start_time": "2022-12-14T20:20:09.160Z"
   },
   {
    "duration": 329,
    "start_time": "2022-12-14T20:20:09.546Z"
   },
   {
    "duration": 290,
    "start_time": "2022-12-14T20:20:09.877Z"
   },
   {
    "duration": 7,
    "start_time": "2022-12-14T20:20:10.169Z"
   },
   {
    "duration": 7228,
    "start_time": "2022-12-14T20:20:10.178Z"
   },
   {
    "duration": 228,
    "start_time": "2022-12-14T20:20:17.408Z"
   },
   {
    "duration": 8,
    "start_time": "2022-12-14T20:20:17.641Z"
   },
   {
    "duration": 287,
    "start_time": "2022-12-14T20:20:17.651Z"
   },
   {
    "duration": 452,
    "start_time": "2022-12-14T20:20:17.993Z"
   },
   {
    "duration": 18,
    "start_time": "2022-12-14T20:20:18.452Z"
   },
   {
    "duration": 126,
    "start_time": "2022-12-14T20:20:18.477Z"
   },
   {
    "duration": 137,
    "start_time": "2022-12-14T20:20:18.615Z"
   },
   {
    "duration": 360,
    "start_time": "2022-12-14T20:20:18.754Z"
   },
   {
    "duration": 197,
    "start_time": "2022-12-14T20:20:19.116Z"
   },
   {
    "duration": 42,
    "start_time": "2022-12-14T20:20:19.318Z"
   },
   {
    "duration": 36582,
    "start_time": "2022-12-14T20:20:19.366Z"
   },
   {
    "duration": 350,
    "start_time": "2022-12-14T20:20:55.951Z"
   },
   {
    "duration": 11,
    "start_time": "2022-12-14T20:20:56.303Z"
   },
   {
    "duration": 284,
    "start_time": "2022-12-14T20:20:56.318Z"
   },
   {
    "duration": 411,
    "start_time": "2022-12-14T20:20:56.632Z"
   },
   {
    "duration": 14,
    "start_time": "2022-12-14T20:20:57.045Z"
   },
   {
    "duration": 2199,
    "start_time": "2022-12-14T20:20:57.061Z"
   },
   {
    "duration": 1697,
    "start_time": "2022-12-15T14:05:56.214Z"
   },
   {
    "duration": 157,
    "start_time": "2022-12-15T14:05:57.913Z"
   },
   {
    "duration": 15,
    "start_time": "2022-12-15T14:05:58.072Z"
   },
   {
    "duration": 3,
    "start_time": "2022-12-15T14:05:58.089Z"
   },
   {
    "duration": 14,
    "start_time": "2022-12-15T14:05:58.093Z"
   },
   {
    "duration": 10,
    "start_time": "2022-12-15T14:05:58.108Z"
   },
   {
    "duration": 60,
    "start_time": "2022-12-15T14:05:58.120Z"
   },
   {
    "duration": 64,
    "start_time": "2022-12-15T14:05:58.181Z"
   },
   {
    "duration": 3,
    "start_time": "2022-12-15T14:05:58.247Z"
   },
   {
    "duration": 32,
    "start_time": "2022-12-15T14:05:58.253Z"
   },
   {
    "duration": 7,
    "start_time": "2022-12-15T14:05:58.286Z"
   },
   {
    "duration": 2569,
    "start_time": "2022-12-15T14:05:58.295Z"
   },
   {
    "duration": 4,
    "start_time": "2022-12-15T14:06:00.868Z"
   },
   {
    "duration": 24,
    "start_time": "2022-12-15T14:06:00.874Z"
   },
   {
    "duration": 16,
    "start_time": "2022-12-15T14:06:00.900Z"
   },
   {
    "duration": 39,
    "start_time": "2022-12-15T14:06:00.917Z"
   },
   {
    "duration": 43,
    "start_time": "2022-12-15T14:06:00.958Z"
   },
   {
    "duration": 13,
    "start_time": "2022-12-15T14:06:01.003Z"
   },
   {
    "duration": 18,
    "start_time": "2022-12-15T14:06:01.018Z"
   },
   {
    "duration": 11,
    "start_time": "2022-12-15T14:06:01.039Z"
   },
   {
    "duration": 15,
    "start_time": "2022-12-15T14:06:01.052Z"
   },
   {
    "duration": 12,
    "start_time": "2022-12-15T14:06:01.069Z"
   },
   {
    "duration": 3,
    "start_time": "2022-12-15T14:06:01.084Z"
   },
   {
    "duration": 47,
    "start_time": "2022-12-15T14:06:01.089Z"
   },
   {
    "duration": 1473,
    "start_time": "2022-12-15T14:06:01.139Z"
   },
   {
    "duration": 134,
    "start_time": "2022-12-15T14:06:02.614Z"
   },
   {
    "duration": 6,
    "start_time": "2022-12-15T14:06:02.750Z"
   },
   {
    "duration": 11391,
    "start_time": "2022-12-15T14:06:02.760Z"
   },
   {
    "duration": 140,
    "start_time": "2022-12-15T14:06:14.153Z"
   },
   {
    "duration": 6,
    "start_time": "2022-12-15T14:06:14.295Z"
   },
   {
    "duration": 81,
    "start_time": "2022-12-15T14:06:14.303Z"
   },
   {
    "duration": 373,
    "start_time": "2022-12-15T14:06:14.385Z"
   },
   {
    "duration": 19,
    "start_time": "2022-12-15T14:06:14.759Z"
   },
   {
    "duration": 32,
    "start_time": "2022-12-15T14:06:14.780Z"
   },
   {
    "duration": 128,
    "start_time": "2022-12-15T14:06:14.814Z"
   },
   {
    "duration": 177,
    "start_time": "2022-12-15T14:06:14.944Z"
   },
   {
    "duration": 126,
    "start_time": "2022-12-15T14:06:15.123Z"
   },
   {
    "duration": 6,
    "start_time": "2022-12-15T14:06:15.251Z"
   },
   {
    "duration": 3615,
    "start_time": "2022-12-15T14:06:15.258Z"
   },
   {
    "duration": 158,
    "start_time": "2022-12-15T14:06:18.877Z"
   },
   {
    "duration": 7,
    "start_time": "2022-12-15T14:06:19.037Z"
   },
   {
    "duration": 50,
    "start_time": "2022-12-15T14:06:19.046Z"
   },
   {
    "duration": 390,
    "start_time": "2022-12-15T14:06:19.097Z"
   },
   {
    "duration": 9,
    "start_time": "2022-12-15T14:06:19.489Z"
   },
   {
    "duration": 17,
    "start_time": "2022-12-15T14:06:19.500Z"
   },
   {
    "duration": 5,
    "start_time": "2022-12-15T14:06:19.519Z"
   },
   {
    "duration": 187,
    "start_time": "2022-12-15T14:06:19.526Z"
   },
   {
    "duration": 118,
    "start_time": "2022-12-15T14:06:19.715Z"
   },
   {
    "duration": 7,
    "start_time": "2022-12-15T14:06:19.835Z"
   },
   {
    "duration": 21908,
    "start_time": "2022-12-15T14:06:19.844Z"
   },
   {
    "duration": 248,
    "start_time": "2022-12-15T14:06:41.779Z"
   },
   {
    "duration": 5,
    "start_time": "2022-12-15T14:06:42.029Z"
   },
   {
    "duration": 104,
    "start_time": "2022-12-15T14:06:42.079Z"
   },
   {
    "duration": 308,
    "start_time": "2022-12-15T14:06:42.184Z"
   },
   {
    "duration": 7,
    "start_time": "2022-12-15T14:06:42.494Z"
   },
   {
    "duration": 998,
    "start_time": "2022-12-15T14:06:42.503Z"
   }
  ],
  "kernelspec": {
   "display_name": "Python 3 (ipykernel)",
   "language": "python",
   "name": "python3"
  },
  "language_info": {
   "codemirror_mode": {
    "name": "ipython",
    "version": 3
   },
   "file_extension": ".py",
   "mimetype": "text/x-python",
   "name": "python",
   "nbconvert_exporter": "python",
   "pygments_lexer": "ipython3",
   "version": "3.9.7"
  },
  "toc": {
   "base_numbering": 1,
   "nav_menu": {},
   "number_sections": true,
   "sideBar": true,
   "skip_h1_title": true,
   "title_cell": "Содержание",
   "title_sidebar": "Contents",
   "toc_cell": true,
   "toc_position": {
    "height": "calc(100% - 180px)",
    "left": "10px",
    "top": "150px",
    "width": "286.016px"
   },
   "toc_section_display": true,
   "toc_window_display": true
  }
 },
 "nbformat": 4,
 "nbformat_minor": 2
}
